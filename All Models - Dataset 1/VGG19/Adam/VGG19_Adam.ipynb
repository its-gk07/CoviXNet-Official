{
 "cells": [
  {
   "cell_type": "markdown",
   "metadata": {
    "id": "9Dg7bhcMQjrx",
    "papermill": {
     "duration": 0.015389,
     "end_time": "2021-09-05T06:41:26.685275",
     "exception": false,
     "start_time": "2021-09-05T06:41:26.669886",
     "status": "completed"
    },
    "tags": []
   },
   "source": [
    "# Complete Notebook"
   ]
  },
  {
   "cell_type": "markdown",
   "metadata": {
    "id": "jG_5SoNmSwPc",
    "papermill": {
     "duration": 0.014326,
     "end_time": "2021-09-05T06:41:26.714482",
     "exception": false,
     "start_time": "2021-09-05T06:41:26.700156",
     "status": "completed"
    },
    "tags": []
   },
   "source": [
    "## Importing Libraries"
   ]
  },
  {
   "cell_type": "code",
   "execution_count": 1,
   "metadata": {
    "execution": {
     "iopub.execute_input": "2021-09-05T06:41:26.754728Z",
     "iopub.status.busy": "2021-09-05T06:41:26.753983Z",
     "iopub.status.idle": "2021-09-05T06:41:26.757281Z",
     "shell.execute_reply": "2021-09-05T06:41:26.757681Z",
     "shell.execute_reply.started": "2021-09-03T09:36:50.027146Z"
    },
    "id": "QwAtFRvYQpDm",
    "papermill": {
     "duration": 0.029173,
     "end_time": "2021-09-05T06:41:26.757886",
     "exception": false,
     "start_time": "2021-09-05T06:41:26.728713",
     "status": "completed"
    },
    "tags": []
   },
   "outputs": [],
   "source": [
    "import warnings\n",
    "warnings.filterwarnings('ignore')"
   ]
  },
  {
   "cell_type": "code",
   "execution_count": 2,
   "metadata": {
    "execution": {
     "iopub.execute_input": "2021-09-05T06:41:26.793593Z",
     "iopub.status.busy": "2021-09-05T06:41:26.793079Z",
     "iopub.status.idle": "2021-09-05T06:41:31.240896Z",
     "shell.execute_reply": "2021-09-05T06:41:31.239965Z",
     "shell.execute_reply.started": "2021-09-03T09:36:50.645719Z"
    },
    "id": "q-CIsMW9QtQm",
    "papermill": {
     "duration": 4.468701,
     "end_time": "2021-09-05T06:41:31.241043",
     "exception": false,
     "start_time": "2021-09-05T06:41:26.772342",
     "status": "completed"
    },
    "tags": []
   },
   "outputs": [],
   "source": [
    "from tensorflow import keras\n",
    "from keras.layers import Input, Lambda, Dense, Flatten, Dropout\n",
    "from keras.models import Model\n",
    "from tensorflow.keras.applications.resnet import ResNet152\n",
    "from keras.preprocessing import image\n",
    "from keras.applications.vgg19 import VGG19\n",
    "from keras.applications.vgg19 import preprocess_input\n",
    "from keras.preprocessing.image import ImageDataGenerator\n",
    "from keras.models import Sequential\n",
    "import numpy as np\n",
    "from glob import glob\n",
    "import matplotlib.pyplot as plt\n",
    "%matplotlib inline "
   ]
  },
  {
   "cell_type": "markdown",
   "metadata": {
    "id": "xs6p7RMOciNF",
    "papermill": {
     "duration": 0.014355,
     "end_time": "2021-09-05T06:41:31.270511",
     "exception": false,
     "start_time": "2021-09-05T06:41:31.256156",
     "status": "completed"
    },
    "tags": []
   },
   "source": [
    "## Initializing Parameters"
   ]
  },
  {
   "cell_type": "code",
   "execution_count": 3,
   "metadata": {
    "execution": {
     "iopub.execute_input": "2021-09-05T06:41:31.305460Z",
     "iopub.status.busy": "2021-09-05T06:41:31.304000Z",
     "iopub.status.idle": "2021-09-05T06:41:31.306295Z",
     "shell.execute_reply": "2021-09-05T06:41:31.306835Z",
     "shell.execute_reply.started": "2021-09-03T09:37:48.845787Z"
    },
    "id": "fiLzfiHJQyFv",
    "papermill": {
     "duration": 0.021577,
     "end_time": "2021-09-05T06:41:31.306967",
     "exception": false,
     "start_time": "2021-09-05T06:41:31.285390",
     "status": "completed"
    },
    "tags": []
   },
   "outputs": [],
   "source": [
    "IMAGE_SIZE = [224,224, 3]\n",
    "\n",
    "train_path = '/kaggle/input/covid19-chest-xray-processed-dataset/Dataset/Train'\n",
    "test_path = '/kaggle/input/covid19-chest-xray-processed-dataset/Dataset/Test'\n",
    "val_path = '/kaggle/input/covid19-chest-xray-processed-dataset/Dataset/Val'"
   ]
  },
  {
   "cell_type": "markdown",
   "metadata": {
    "id": "C9swfxvUcwfb",
    "papermill": {
     "duration": 0.014543,
     "end_time": "2021-09-05T06:41:31.336331",
     "exception": false,
     "start_time": "2021-09-05T06:41:31.321788",
     "status": "completed"
    },
    "tags": []
   },
   "source": [
    "## Data Augmentation"
   ]
  },
  {
   "cell_type": "code",
   "execution_count": 4,
   "metadata": {
    "execution": {
     "iopub.execute_input": "2021-09-05T06:41:31.372566Z",
     "iopub.status.busy": "2021-09-05T06:41:31.371985Z",
     "iopub.status.idle": "2021-09-05T06:41:35.499912Z",
     "shell.execute_reply": "2021-09-05T06:41:35.499013Z",
     "shell.execute_reply.started": "2021-09-03T09:37:48.852449Z"
    },
    "id": "YiRQm0hvcsmB",
    "outputId": "0a0afb85-2a97-445e-ccfb-7facbfa29e09",
    "papermill": {
     "duration": 4.149233,
     "end_time": "2021-09-05T06:41:35.500080",
     "exception": false,
     "start_time": "2021-09-05T06:41:31.350847",
     "status": "completed"
    },
    "tags": []
   },
   "outputs": [
    {
     "name": "stdout",
     "output_type": "stream",
     "text": [
      "Found 3641 images belonging to 2 classes.\n",
      "Found 455 images belonging to 2 classes.\n",
      "Found 455 images belonging to 2 classes.\n"
     ]
    }
   ],
   "source": [
    "train_datagen = ImageDataGenerator(rescale = 1./255,\n",
    "                                   shear_range = 0.2,\n",
    "                                   zoom_range = 0.2,\n",
    "                                   horizontal_flip = True)\n",
    "\n",
    "test_datagen = ImageDataGenerator(rescale = 1./255)\n",
    "val_datagen = ImageDataGenerator(rescale = 1./255)\n",
    "\n",
    "\n",
    "\n",
    "\n",
    "# Make sure you provide the same target size as initialied for the image size\n",
    "training_set = train_datagen.flow_from_directory('/kaggle/input/covid19-chest-xray-processed-dataset/Dataset/Train',\n",
    "                                                 target_size = (224,224),\n",
    "                                                 batch_size = 32,\n",
    "                                                 class_mode = 'categorical')\n",
    "\n",
    "\n",
    "test_set = test_datagen.flow_from_directory('/kaggle/input/covid19-chest-xray-processed-dataset/Dataset/Test',\n",
    "                                            target_size = (224,224),\n",
    "                                            batch_size = 32,\n",
    "                                            class_mode = 'categorical')\n",
    "\n",
    "\n",
    "val_set = test_datagen.flow_from_directory('/kaggle/input/covid19-chest-xray-processed-dataset/Dataset/Val',\n",
    "                                            target_size = (224,224),\n",
    "                                            batch_size = 32,\n",
    "                                            class_mode = 'categorical')"
   ]
  },
  {
   "cell_type": "markdown",
   "metadata": {
    "id": "eyh24sefc22K",
    "papermill": {
     "duration": 0.015219,
     "end_time": "2021-09-05T06:41:35.532572",
     "exception": false,
     "start_time": "2021-09-05T06:41:35.517353",
     "status": "completed"
    },
    "tags": []
   },
   "source": [
    "## vgg19"
   ]
  },
  {
   "cell_type": "code",
   "execution_count": 5,
   "metadata": {
    "execution": {
     "iopub.execute_input": "2021-09-05T06:41:35.571010Z",
     "iopub.status.busy": "2021-09-05T06:41:35.570211Z",
     "iopub.status.idle": "2021-09-05T06:41:38.334580Z",
     "shell.execute_reply": "2021-09-05T06:41:38.334059Z",
     "shell.execute_reply.started": "2021-09-03T09:37:54.165941Z"
    },
    "id": "M_hmEZCZUETs",
    "outputId": "a58a8249-d7de-4374-8364-df5be813d2f7",
    "papermill": {
     "duration": 2.786527,
     "end_time": "2021-09-05T06:41:38.334718",
     "exception": false,
     "start_time": "2021-09-05T06:41:35.548191",
     "status": "completed"
    },
    "tags": []
   },
   "outputs": [
    {
     "name": "stdout",
     "output_type": "stream",
     "text": [
      "Downloading data from https://storage.googleapis.com/tensorflow/keras-applications/vgg19/vgg19_weights_tf_dim_ordering_tf_kernels_notop.h5\n",
      "80142336/80134624 [==============================] - 0s 0us/step\n"
     ]
    }
   ],
   "source": [
    "base_model_vgg19 = VGG19(input_shape=IMAGE_SIZE, weights='imagenet', include_top=False, pooling='max')"
   ]
  },
  {
   "cell_type": "code",
   "execution_count": 6,
   "metadata": {
    "execution": {
     "iopub.execute_input": "2021-09-05T06:41:38.375264Z",
     "iopub.status.busy": "2021-09-05T06:41:38.374756Z",
     "iopub.status.idle": "2021-09-05T06:41:38.378138Z",
     "shell.execute_reply": "2021-09-05T06:41:38.378537Z",
     "shell.execute_reply.started": "2021-09-03T09:38:07.558561Z"
    },
    "id": "kP16aMjdUJUf",
    "papermill": {
     "duration": 0.025686,
     "end_time": "2021-09-05T06:41:38.378669",
     "exception": false,
     "start_time": "2021-09-05T06:41:38.352983",
     "status": "completed"
    },
    "tags": []
   },
   "outputs": [],
   "source": [
    "for layer in base_model_vgg19.layers:\n",
    "    layer.trainable = False"
   ]
  },
  {
   "cell_type": "markdown",
   "metadata": {
    "id": "QvKCywVUdZSu",
    "papermill": {
     "duration": 0.017513,
     "end_time": "2021-09-05T06:41:38.413643",
     "exception": false,
     "start_time": "2021-09-05T06:41:38.396130",
     "status": "completed"
    },
    "tags": []
   },
   "source": [
    "## Building Model"
   ]
  },
  {
   "cell_type": "code",
   "execution_count": 7,
   "metadata": {
    "execution": {
     "iopub.execute_input": "2021-09-05T06:41:38.455847Z",
     "iopub.status.busy": "2021-09-05T06:41:38.454096Z",
     "iopub.status.idle": "2021-09-05T06:41:38.470161Z",
     "shell.execute_reply": "2021-09-05T06:41:38.469455Z",
     "shell.execute_reply.started": "2021-09-03T09:38:08.755612Z"
    },
    "id": "h7Al-lBKVRYs",
    "papermill": {
     "duration": 0.038248,
     "end_time": "2021-09-05T06:41:38.470272",
     "exception": false,
     "start_time": "2021-09-05T06:41:38.432024",
     "status": "completed"
    },
    "tags": []
   },
   "outputs": [],
   "source": [
    "x = base_model_vgg19.output\n",
    "x = Flatten()(x)\n",
    "prediction = Dense(2, activation='softmax')(x)\n",
    "final_model = Model(inputs=base_model_vgg19.input, outputs=prediction)"
   ]
  },
  {
   "cell_type": "code",
   "execution_count": 8,
   "metadata": {
    "execution": {
     "iopub.execute_input": "2021-09-05T06:41:38.515971Z",
     "iopub.status.busy": "2021-09-05T06:41:38.515138Z",
     "iopub.status.idle": "2021-09-05T06:41:38.520733Z",
     "shell.execute_reply": "2021-09-05T06:41:38.521097Z",
     "shell.execute_reply.started": "2021-09-03T09:38:12.106834Z"
    },
    "id": "onWkMLGkVj_x",
    "papermill": {
     "duration": 0.033521,
     "end_time": "2021-09-05T06:41:38.521227",
     "exception": false,
     "start_time": "2021-09-05T06:41:38.487706",
     "status": "completed"
    },
    "tags": []
   },
   "outputs": [],
   "source": [
    "final_model.compile(\n",
    "  loss='categorical_crossentropy',\n",
    "  optimizer='Adam',\n",
    "  metrics=['accuracy']\n",
    ")"
   ]
  },
  {
   "cell_type": "code",
   "execution_count": 9,
   "metadata": {
    "execution": {
     "iopub.execute_input": "2021-09-05T06:41:38.566244Z",
     "iopub.status.busy": "2021-09-05T06:41:38.563178Z",
     "iopub.status.idle": "2021-09-05T06:41:38.572176Z",
     "shell.execute_reply": "2021-09-05T06:41:38.571673Z",
     "shell.execute_reply.started": "2021-09-03T09:38:13.315629Z"
    },
    "id": "i267lbE_GWCn",
    "outputId": "2f94956f-25c0-4064-d847-0b1cc481c8da",
    "papermill": {
     "duration": 0.033472,
     "end_time": "2021-09-05T06:41:38.572293",
     "exception": false,
     "start_time": "2021-09-05T06:41:38.538821",
     "status": "completed"
    },
    "tags": []
   },
   "outputs": [
    {
     "name": "stdout",
     "output_type": "stream",
     "text": [
      "Model: \"model\"\n",
      "_________________________________________________________________\n",
      "Layer (type)                 Output Shape              Param #   \n",
      "=================================================================\n",
      "input_1 (InputLayer)         [(None, 224, 224, 3)]     0         \n",
      "_________________________________________________________________\n",
      "block1_conv1 (Conv2D)        (None, 224, 224, 64)      1792      \n",
      "_________________________________________________________________\n",
      "block1_conv2 (Conv2D)        (None, 224, 224, 64)      36928     \n",
      "_________________________________________________________________\n",
      "block1_pool (MaxPooling2D)   (None, 112, 112, 64)      0         \n",
      "_________________________________________________________________\n",
      "block2_conv1 (Conv2D)        (None, 112, 112, 128)     73856     \n",
      "_________________________________________________________________\n",
      "block2_conv2 (Conv2D)        (None, 112, 112, 128)     147584    \n",
      "_________________________________________________________________\n",
      "block2_pool (MaxPooling2D)   (None, 56, 56, 128)       0         \n",
      "_________________________________________________________________\n",
      "block3_conv1 (Conv2D)        (None, 56, 56, 256)       295168    \n",
      "_________________________________________________________________\n",
      "block3_conv2 (Conv2D)        (None, 56, 56, 256)       590080    \n",
      "_________________________________________________________________\n",
      "block3_conv3 (Conv2D)        (None, 56, 56, 256)       590080    \n",
      "_________________________________________________________________\n",
      "block3_conv4 (Conv2D)        (None, 56, 56, 256)       590080    \n",
      "_________________________________________________________________\n",
      "block3_pool (MaxPooling2D)   (None, 28, 28, 256)       0         \n",
      "_________________________________________________________________\n",
      "block4_conv1 (Conv2D)        (None, 28, 28, 512)       1180160   \n",
      "_________________________________________________________________\n",
      "block4_conv2 (Conv2D)        (None, 28, 28, 512)       2359808   \n",
      "_________________________________________________________________\n",
      "block4_conv3 (Conv2D)        (None, 28, 28, 512)       2359808   \n",
      "_________________________________________________________________\n",
      "block4_conv4 (Conv2D)        (None, 28, 28, 512)       2359808   \n",
      "_________________________________________________________________\n",
      "block4_pool (MaxPooling2D)   (None, 14, 14, 512)       0         \n",
      "_________________________________________________________________\n",
      "block5_conv1 (Conv2D)        (None, 14, 14, 512)       2359808   \n",
      "_________________________________________________________________\n",
      "block5_conv2 (Conv2D)        (None, 14, 14, 512)       2359808   \n",
      "_________________________________________________________________\n",
      "block5_conv3 (Conv2D)        (None, 14, 14, 512)       2359808   \n",
      "_________________________________________________________________\n",
      "block5_conv4 (Conv2D)        (None, 14, 14, 512)       2359808   \n",
      "_________________________________________________________________\n",
      "block5_pool (MaxPooling2D)   (None, 7, 7, 512)         0         \n",
      "_________________________________________________________________\n",
      "global_max_pooling2d (Global (None, 512)               0         \n",
      "_________________________________________________________________\n",
      "flatten (Flatten)            (None, 512)               0         \n",
      "_________________________________________________________________\n",
      "dense (Dense)                (None, 2)                 1026      \n",
      "=================================================================\n",
      "Total params: 20,025,410\n",
      "Trainable params: 1,026\n",
      "Non-trainable params: 20,024,384\n",
      "_________________________________________________________________\n"
     ]
    }
   ],
   "source": [
    "final_model.summary()"
   ]
  },
  {
   "cell_type": "markdown",
   "metadata": {
    "id": "UrGXm4MkKIr7",
    "papermill": {
     "duration": 0.019403,
     "end_time": "2021-09-05T06:41:38.609965",
     "exception": false,
     "start_time": "2021-09-05T06:41:38.590562",
     "status": "completed"
    },
    "tags": []
   },
   "source": [
    "## Training"
   ]
  },
  {
   "cell_type": "code",
   "execution_count": 10,
   "metadata": {
    "execution": {
     "iopub.execute_input": "2021-09-05T06:41:38.651899Z",
     "iopub.status.busy": "2021-09-05T06:41:38.651389Z",
     "iopub.status.idle": "2021-09-05T11:05:12.028411Z",
     "shell.execute_reply": "2021-09-05T11:05:12.029096Z",
     "shell.execute_reply.started": "2021-09-03T09:38:13.3908Z"
    },
    "id": "T7LwpawHGgs6",
    "outputId": "80e6e6ed-18ce-4cfc-f0ba-d93b25d41615",
    "papermill": {
     "duration": 15813.400281,
     "end_time": "2021-09-05T11:05:12.029338",
     "exception": false,
     "start_time": "2021-09-05T06:41:38.629057",
     "status": "completed"
    },
    "tags": []
   },
   "outputs": [
    {
     "name": "stdout",
     "output_type": "stream",
     "text": [
      "Epoch 1/100\n",
      "114/114 [==============================] - 223s 2s/step - loss: 0.5174 - accuracy: 0.7309 - val_loss: 0.2362 - val_accuracy: 0.9473\n",
      "Epoch 2/100\n",
      "114/114 [==============================] - 150s 1s/step - loss: 0.2251 - accuracy: 0.9323 - val_loss: 0.1635 - val_accuracy: 0.9516\n",
      "Epoch 3/100\n",
      "114/114 [==============================] - 151s 1s/step - loss: 0.1598 - accuracy: 0.9515 - val_loss: 0.1362 - val_accuracy: 0.9495\n",
      "Epoch 4/100\n",
      "114/114 [==============================] - 150s 1s/step - loss: 0.1350 - accuracy: 0.9557 - val_loss: 0.1192 - val_accuracy: 0.9560\n",
      "Epoch 5/100\n",
      "114/114 [==============================] - 151s 1s/step - loss: 0.1156 - accuracy: 0.9651 - val_loss: 0.1114 - val_accuracy: 0.9560\n",
      "Epoch 6/100\n",
      "114/114 [==============================] - 151s 1s/step - loss: 0.1057 - accuracy: 0.9689 - val_loss: 0.1065 - val_accuracy: 0.9692\n",
      "Epoch 7/100\n",
      "114/114 [==============================] - 151s 1s/step - loss: 0.1013 - accuracy: 0.9632 - val_loss: 0.0972 - val_accuracy: 0.9714\n",
      "Epoch 8/100\n",
      "114/114 [==============================] - 152s 1s/step - loss: 0.0862 - accuracy: 0.9703 - val_loss: 0.0951 - val_accuracy: 0.9736\n",
      "Epoch 9/100\n",
      "114/114 [==============================] - 154s 1s/step - loss: 0.0840 - accuracy: 0.9713 - val_loss: 0.0872 - val_accuracy: 0.9736\n",
      "Epoch 10/100\n",
      "114/114 [==============================] - 154s 1s/step - loss: 0.0771 - accuracy: 0.9756 - val_loss: 0.0887 - val_accuracy: 0.9736\n",
      "Epoch 11/100\n",
      "114/114 [==============================] - 154s 1s/step - loss: 0.0814 - accuracy: 0.9707 - val_loss: 0.0850 - val_accuracy: 0.9736\n",
      "Epoch 12/100\n",
      "114/114 [==============================] - 155s 1s/step - loss: 0.0735 - accuracy: 0.9767 - val_loss: 0.0852 - val_accuracy: 0.9736\n",
      "Epoch 13/100\n",
      "114/114 [==============================] - 156s 1s/step - loss: 0.0704 - accuracy: 0.9769 - val_loss: 0.0811 - val_accuracy: 0.9736\n",
      "Epoch 14/100\n",
      "114/114 [==============================] - 156s 1s/step - loss: 0.0562 - accuracy: 0.9823 - val_loss: 0.0745 - val_accuracy: 0.9758\n",
      "Epoch 15/100\n",
      "114/114 [==============================] - 156s 1s/step - loss: 0.0625 - accuracy: 0.9808 - val_loss: 0.0786 - val_accuracy: 0.9736\n",
      "Epoch 16/100\n",
      "114/114 [==============================] - 157s 1s/step - loss: 0.0585 - accuracy: 0.9771 - val_loss: 0.0757 - val_accuracy: 0.9758\n",
      "Epoch 17/100\n",
      "114/114 [==============================] - 156s 1s/step - loss: 0.0658 - accuracy: 0.9791 - val_loss: 0.0718 - val_accuracy: 0.9780\n",
      "Epoch 18/100\n",
      "114/114 [==============================] - 156s 1s/step - loss: 0.0516 - accuracy: 0.9861 - val_loss: 0.0679 - val_accuracy: 0.9780\n",
      "Epoch 19/100\n",
      "114/114 [==============================] - 157s 1s/step - loss: 0.0493 - accuracy: 0.9830 - val_loss: 0.0702 - val_accuracy: 0.9736\n",
      "Epoch 20/100\n",
      "114/114 [==============================] - 155s 1s/step - loss: 0.0552 - accuracy: 0.9793 - val_loss: 0.0829 - val_accuracy: 0.9692\n",
      "Epoch 21/100\n",
      "114/114 [==============================] - 153s 1s/step - loss: 0.0523 - accuracy: 0.9847 - val_loss: 0.0723 - val_accuracy: 0.9780\n",
      "Epoch 22/100\n",
      "114/114 [==============================] - 151s 1s/step - loss: 0.0500 - accuracy: 0.9817 - val_loss: 0.0646 - val_accuracy: 0.9824\n",
      "Epoch 23/100\n",
      "114/114 [==============================] - 154s 1s/step - loss: 0.0509 - accuracy: 0.9844 - val_loss: 0.0642 - val_accuracy: 0.9802\n",
      "Epoch 24/100\n",
      "114/114 [==============================] - 152s 1s/step - loss: 0.0429 - accuracy: 0.9874 - val_loss: 0.0630 - val_accuracy: 0.9824\n",
      "Epoch 25/100\n",
      "114/114 [==============================] - 153s 1s/step - loss: 0.0474 - accuracy: 0.9834 - val_loss: 0.0695 - val_accuracy: 0.9780\n",
      "Epoch 26/100\n",
      "114/114 [==============================] - 153s 1s/step - loss: 0.0508 - accuracy: 0.9817 - val_loss: 0.0613 - val_accuracy: 0.9824\n",
      "Epoch 27/100\n",
      "114/114 [==============================] - 154s 1s/step - loss: 0.0455 - accuracy: 0.9843 - val_loss: 0.0657 - val_accuracy: 0.9780\n",
      "Epoch 28/100\n",
      "114/114 [==============================] - 154s 1s/step - loss: 0.0441 - accuracy: 0.9865 - val_loss: 0.0647 - val_accuracy: 0.9802\n",
      "Epoch 29/100\n",
      "114/114 [==============================] - 154s 1s/step - loss: 0.0438 - accuracy: 0.9875 - val_loss: 0.0625 - val_accuracy: 0.9824\n",
      "Epoch 30/100\n",
      "114/114 [==============================] - 154s 1s/step - loss: 0.0407 - accuracy: 0.9890 - val_loss: 0.0612 - val_accuracy: 0.9802\n",
      "Epoch 31/100\n",
      "114/114 [==============================] - 154s 1s/step - loss: 0.0405 - accuracy: 0.9876 - val_loss: 0.0628 - val_accuracy: 0.9802\n",
      "Epoch 32/100\n",
      "114/114 [==============================] - 156s 1s/step - loss: 0.0479 - accuracy: 0.9815 - val_loss: 0.0758 - val_accuracy: 0.9736\n",
      "Epoch 33/100\n",
      "114/114 [==============================] - 156s 1s/step - loss: 0.0407 - accuracy: 0.9842 - val_loss: 0.0638 - val_accuracy: 0.9802\n",
      "Epoch 34/100\n",
      "114/114 [==============================] - 157s 1s/step - loss: 0.0497 - accuracy: 0.9835 - val_loss: 0.0752 - val_accuracy: 0.9802\n",
      "Epoch 35/100\n",
      "114/114 [==============================] - 159s 1s/step - loss: 0.0392 - accuracy: 0.9852 - val_loss: 0.0598 - val_accuracy: 0.9846\n",
      "Epoch 36/100\n",
      "114/114 [==============================] - 157s 1s/step - loss: 0.0349 - accuracy: 0.9876 - val_loss: 0.0654 - val_accuracy: 0.9780\n",
      "Epoch 37/100\n",
      "114/114 [==============================] - 153s 1s/step - loss: 0.0428 - accuracy: 0.9860 - val_loss: 0.0640 - val_accuracy: 0.9780\n",
      "Epoch 38/100\n",
      "114/114 [==============================] - 154s 1s/step - loss: 0.0318 - accuracy: 0.9901 - val_loss: 0.0637 - val_accuracy: 0.9780\n",
      "Epoch 39/100\n",
      "114/114 [==============================] - 153s 1s/step - loss: 0.0342 - accuracy: 0.9887 - val_loss: 0.0707 - val_accuracy: 0.9802\n",
      "Epoch 40/100\n",
      "114/114 [==============================] - 159s 1s/step - loss: 0.0411 - accuracy: 0.9875 - val_loss: 0.0616 - val_accuracy: 0.9824\n",
      "Epoch 41/100\n",
      "114/114 [==============================] - 158s 1s/step - loss: 0.0352 - accuracy: 0.9882 - val_loss: 0.0597 - val_accuracy: 0.9824\n",
      "Epoch 42/100\n",
      "114/114 [==============================] - 156s 1s/step - loss: 0.0367 - accuracy: 0.9866 - val_loss: 0.0673 - val_accuracy: 0.9802\n",
      "Epoch 43/100\n",
      "114/114 [==============================] - 156s 1s/step - loss: 0.0314 - accuracy: 0.9911 - val_loss: 0.0643 - val_accuracy: 0.9802\n",
      "Epoch 44/100\n",
      "114/114 [==============================] - 158s 1s/step - loss: 0.0327 - accuracy: 0.9893 - val_loss: 0.0614 - val_accuracy: 0.9846\n",
      "Epoch 45/100\n",
      "114/114 [==============================] - 155s 1s/step - loss: 0.0332 - accuracy: 0.9898 - val_loss: 0.0524 - val_accuracy: 0.9868\n",
      "Epoch 46/100\n",
      "114/114 [==============================] - 153s 1s/step - loss: 0.0391 - accuracy: 0.9884 - val_loss: 0.0647 - val_accuracy: 0.9802\n",
      "Epoch 47/100\n",
      "114/114 [==============================] - 155s 1s/step - loss: 0.0343 - accuracy: 0.9883 - val_loss: 0.0593 - val_accuracy: 0.9824\n",
      "Epoch 48/100\n",
      "114/114 [==============================] - 156s 1s/step - loss: 0.0336 - accuracy: 0.9878 - val_loss: 0.0583 - val_accuracy: 0.9846\n",
      "Epoch 49/100\n",
      "114/114 [==============================] - 155s 1s/step - loss: 0.0275 - accuracy: 0.9917 - val_loss: 0.0552 - val_accuracy: 0.9846\n",
      "Epoch 50/100\n",
      "114/114 [==============================] - 158s 1s/step - loss: 0.0345 - accuracy: 0.9888 - val_loss: 0.0562 - val_accuracy: 0.9846\n",
      "Epoch 51/100\n",
      "114/114 [==============================] - 158s 1s/step - loss: 0.0340 - accuracy: 0.9870 - val_loss: 0.0544 - val_accuracy: 0.9868\n",
      "Epoch 52/100\n",
      "114/114 [==============================] - 159s 1s/step - loss: 0.0277 - accuracy: 0.9908 - val_loss: 0.0587 - val_accuracy: 0.9846\n",
      "Epoch 53/100\n",
      "114/114 [==============================] - 158s 1s/step - loss: 0.0312 - accuracy: 0.9881 - val_loss: 0.0557 - val_accuracy: 0.9846\n",
      "Epoch 54/100\n",
      "114/114 [==============================] - 156s 1s/step - loss: 0.0291 - accuracy: 0.9905 - val_loss: 0.0636 - val_accuracy: 0.9824\n",
      "Epoch 55/100\n",
      "114/114 [==============================] - 161s 1s/step - loss: 0.0297 - accuracy: 0.9883 - val_loss: 0.0635 - val_accuracy: 0.9846\n",
      "Epoch 56/100\n",
      "114/114 [==============================] - 156s 1s/step - loss: 0.0348 - accuracy: 0.9882 - val_loss: 0.0608 - val_accuracy: 0.9846\n",
      "Epoch 57/100\n",
      "114/114 [==============================] - 155s 1s/step - loss: 0.0357 - accuracy: 0.9894 - val_loss: 0.0614 - val_accuracy: 0.9846\n",
      "Epoch 58/100\n",
      "114/114 [==============================] - 155s 1s/step - loss: 0.0337 - accuracy: 0.9881 - val_loss: 0.0627 - val_accuracy: 0.9846\n",
      "Epoch 59/100\n",
      "114/114 [==============================] - 155s 1s/step - loss: 0.0360 - accuracy: 0.9873 - val_loss: 0.0536 - val_accuracy: 0.9868\n",
      "Epoch 60/100\n",
      "114/114 [==============================] - 156s 1s/step - loss: 0.0309 - accuracy: 0.9878 - val_loss: 0.0615 - val_accuracy: 0.9846\n",
      "Epoch 61/100\n",
      "114/114 [==============================] - 156s 1s/step - loss: 0.0311 - accuracy: 0.9863 - val_loss: 0.0642 - val_accuracy: 0.9824\n",
      "Epoch 62/100\n",
      "114/114 [==============================] - 156s 1s/step - loss: 0.0276 - accuracy: 0.9913 - val_loss: 0.0637 - val_accuracy: 0.9824\n",
      "Epoch 63/100\n",
      "114/114 [==============================] - 156s 1s/step - loss: 0.0322 - accuracy: 0.9911 - val_loss: 0.0565 - val_accuracy: 0.9868\n",
      "Epoch 64/100\n",
      "114/114 [==============================] - 160s 1s/step - loss: 0.0359 - accuracy: 0.9889 - val_loss: 0.0641 - val_accuracy: 0.9824\n",
      "Epoch 65/100\n",
      "114/114 [==============================] - 160s 1s/step - loss: 0.0280 - accuracy: 0.9905 - val_loss: 0.0541 - val_accuracy: 0.9868\n",
      "Epoch 66/100\n",
      "114/114 [==============================] - 161s 1s/step - loss: 0.0313 - accuracy: 0.9876 - val_loss: 0.0561 - val_accuracy: 0.9868\n",
      "Epoch 67/100\n",
      "114/114 [==============================] - 160s 1s/step - loss: 0.0280 - accuracy: 0.9898 - val_loss: 0.0533 - val_accuracy: 0.9868\n",
      "Epoch 68/100\n",
      "114/114 [==============================] - 161s 1s/step - loss: 0.0350 - accuracy: 0.9883 - val_loss: 0.0632 - val_accuracy: 0.9824\n",
      "Epoch 69/100\n",
      "114/114 [==============================] - 163s 1s/step - loss: 0.0303 - accuracy: 0.9900 - val_loss: 0.0554 - val_accuracy: 0.9890\n",
      "Epoch 70/100\n",
      "114/114 [==============================] - 162s 1s/step - loss: 0.0302 - accuracy: 0.9900 - val_loss: 0.0581 - val_accuracy: 0.9868\n",
      "Epoch 71/100\n",
      "114/114 [==============================] - 164s 1s/step - loss: 0.0334 - accuracy: 0.9856 - val_loss: 0.0564 - val_accuracy: 0.9890\n",
      "Epoch 72/100\n",
      "114/114 [==============================] - 161s 1s/step - loss: 0.0306 - accuracy: 0.9896 - val_loss: 0.0566 - val_accuracy: 0.9890\n",
      "Epoch 73/100\n",
      "114/114 [==============================] - 161s 1s/step - loss: 0.0329 - accuracy: 0.9876 - val_loss: 0.0569 - val_accuracy: 0.9890\n",
      "Epoch 74/100\n",
      "114/114 [==============================] - 162s 1s/step - loss: 0.0312 - accuracy: 0.9911 - val_loss: 0.0493 - val_accuracy: 0.9890\n",
      "Epoch 75/100\n",
      "114/114 [==============================] - 162s 1s/step - loss: 0.0275 - accuracy: 0.9907 - val_loss: 0.0518 - val_accuracy: 0.9868\n",
      "Epoch 76/100\n",
      "114/114 [==============================] - 160s 1s/step - loss: 0.0349 - accuracy: 0.9854 - val_loss: 0.0634 - val_accuracy: 0.9846\n",
      "Epoch 77/100\n",
      "114/114 [==============================] - 159s 1s/step - loss: 0.0336 - accuracy: 0.9894 - val_loss: 0.0641 - val_accuracy: 0.9846\n",
      "Epoch 78/100\n",
      "114/114 [==============================] - 159s 1s/step - loss: 0.0277 - accuracy: 0.9887 - val_loss: 0.0561 - val_accuracy: 0.9890\n",
      "Epoch 79/100\n",
      "114/114 [==============================] - 160s 1s/step - loss: 0.0287 - accuracy: 0.9889 - val_loss: 0.0573 - val_accuracy: 0.9868\n",
      "Epoch 80/100\n",
      "114/114 [==============================] - 159s 1s/step - loss: 0.0216 - accuracy: 0.9938 - val_loss: 0.0492 - val_accuracy: 0.9868\n",
      "Epoch 81/100\n",
      "114/114 [==============================] - 160s 1s/step - loss: 0.0300 - accuracy: 0.9887 - val_loss: 0.0615 - val_accuracy: 0.9868\n",
      "Epoch 82/100\n",
      "114/114 [==============================] - 159s 1s/step - loss: 0.0254 - accuracy: 0.9946 - val_loss: 0.0656 - val_accuracy: 0.9846\n",
      "Epoch 83/100\n",
      "114/114 [==============================] - 161s 1s/step - loss: 0.0313 - accuracy: 0.9905 - val_loss: 0.0556 - val_accuracy: 0.9890\n",
      "Epoch 84/100\n",
      "114/114 [==============================] - 162s 1s/step - loss: 0.0258 - accuracy: 0.9919 - val_loss: 0.0555 - val_accuracy: 0.9890\n",
      "Epoch 85/100\n",
      "114/114 [==============================] - 162s 1s/step - loss: 0.0273 - accuracy: 0.9896 - val_loss: 0.0538 - val_accuracy: 0.9890\n",
      "Epoch 86/100\n",
      "114/114 [==============================] - 163s 1s/step - loss: 0.0292 - accuracy: 0.9892 - val_loss: 0.0473 - val_accuracy: 0.9890\n",
      "Epoch 87/100\n",
      "114/114 [==============================] - 163s 1s/step - loss: 0.0267 - accuracy: 0.9898 - val_loss: 0.0502 - val_accuracy: 0.9868\n",
      "Epoch 88/100\n",
      "114/114 [==============================] - 163s 1s/step - loss: 0.0315 - accuracy: 0.9894 - val_loss: 0.0528 - val_accuracy: 0.9890\n",
      "Epoch 89/100\n",
      "114/114 [==============================] - 165s 1s/step - loss: 0.0303 - accuracy: 0.9877 - val_loss: 0.0516 - val_accuracy: 0.9890\n",
      "Epoch 90/100\n",
      "114/114 [==============================] - 164s 1s/step - loss: 0.0249 - accuracy: 0.9908 - val_loss: 0.0545 - val_accuracy: 0.9912\n",
      "Epoch 91/100\n",
      "114/114 [==============================] - 164s 1s/step - loss: 0.0299 - accuracy: 0.9897 - val_loss: 0.0520 - val_accuracy: 0.9890\n",
      "Epoch 92/100\n",
      "114/114 [==============================] - 163s 1s/step - loss: 0.0322 - accuracy: 0.9859 - val_loss: 0.0599 - val_accuracy: 0.9890\n",
      "Epoch 93/100\n",
      "114/114 [==============================] - 161s 1s/step - loss: 0.0235 - accuracy: 0.9908 - val_loss: 0.0599 - val_accuracy: 0.9890\n",
      "Epoch 94/100\n",
      "114/114 [==============================] - 161s 1s/step - loss: 0.0237 - accuracy: 0.9912 - val_loss: 0.0575 - val_accuracy: 0.9912\n",
      "Epoch 95/100\n",
      "114/114 [==============================] - 161s 1s/step - loss: 0.0261 - accuracy: 0.9912 - val_loss: 0.0494 - val_accuracy: 0.9890\n",
      "Epoch 96/100\n",
      "114/114 [==============================] - 162s 1s/step - loss: 0.0277 - accuracy: 0.9893 - val_loss: 0.0552 - val_accuracy: 0.9912\n",
      "Epoch 97/100\n",
      "114/114 [==============================] - 162s 1s/step - loss: 0.0243 - accuracy: 0.9924 - val_loss: 0.0545 - val_accuracy: 0.9890\n",
      "Epoch 98/100\n",
      "114/114 [==============================] - 162s 1s/step - loss: 0.0230 - accuracy: 0.9926 - val_loss: 0.0515 - val_accuracy: 0.9890\n",
      "Epoch 99/100\n",
      "114/114 [==============================] - 161s 1s/step - loss: 0.0330 - accuracy: 0.9879 - val_loss: 0.0527 - val_accuracy: 0.9890\n",
      "Epoch 100/100\n",
      "114/114 [==============================] - 163s 1s/step - loss: 0.0321 - accuracy: 0.9889 - val_loss: 0.0586 - val_accuracy: 0.9912\n"
     ]
    }
   ],
   "source": [
    "history = final_model.fit_generator(\n",
    "  training_set,\n",
    "  validation_data=val_set,\n",
    "  epochs=100,\n",
    "  steps_per_epoch=len(training_set),\n",
    "  validation_steps=len(val_set)\n",
    ")"
   ]
  },
  {
   "cell_type": "markdown",
   "metadata": {
    "id": "wqvMA-ZuKdG6",
    "papermill": {
     "duration": 3.148762,
     "end_time": "2021-09-05T11:05:18.252889",
     "exception": false,
     "start_time": "2021-09-05T11:05:15.104127",
     "status": "completed"
    },
    "tags": []
   },
   "source": [
    "## Testing"
   ]
  },
  {
   "cell_type": "code",
   "execution_count": 11,
   "metadata": {
    "execution": {
     "iopub.execute_input": "2021-09-05T11:05:24.809523Z",
     "iopub.status.busy": "2021-09-05T11:05:24.807857Z",
     "iopub.status.idle": "2021-09-05T11:06:05.659940Z",
     "shell.execute_reply": "2021-09-05T11:06:05.659351Z",
     "shell.execute_reply.started": "2021-09-03T14:07:11.129277Z"
    },
    "id": "Lf56gnUUZ8PB",
    "papermill": {
     "duration": 44.154794,
     "end_time": "2021-09-05T11:06:05.660094",
     "exception": false,
     "start_time": "2021-09-05T11:05:21.505300",
     "status": "completed"
    },
    "tags": []
   },
   "outputs": [
    {
     "name": "stdout",
     "output_type": "stream",
     "text": [
      "Evaluating on test data ....\n",
      "15/15 [==============================] - 38s 3s/step - loss: 0.0449 - accuracy: 0.9846\n",
      "test loss, test acc: [0.044944439083337784, 0.9846153855323792]\n"
     ]
    }
   ],
   "source": [
    "print(\"Evaluating on test data ....\")\n",
    "results = final_model.evaluate(test_set, batch_size=32)\n",
    "print(\"test loss, test acc:\", results)"
   ]
  },
  {
   "cell_type": "markdown",
   "metadata": {
    "id": "oAttfdbALKT-",
    "papermill": {
     "duration": 3.059565,
     "end_time": "2021-09-05T11:06:11.909532",
     "exception": false,
     "start_time": "2021-09-05T11:06:08.849967",
     "status": "completed"
    },
    "tags": []
   },
   "source": [
    "## Plotting "
   ]
  },
  {
   "cell_type": "code",
   "execution_count": 12,
   "metadata": {
    "execution": {
     "iopub.execute_input": "2021-09-05T11:06:18.212122Z",
     "iopub.status.busy": "2021-09-05T11:06:18.211109Z",
     "iopub.status.idle": "2021-09-05T11:06:18.215080Z",
     "shell.execute_reply": "2021-09-05T11:06:18.215490Z",
     "shell.execute_reply.started": "2021-09-03T14:07:34.626995Z"
    },
    "id": "Qdbzj8VlLOGb",
    "papermill": {
     "duration": 3.004878,
     "end_time": "2021-09-05T11:06:18.215630",
     "exception": false,
     "start_time": "2021-09-05T11:06:15.210752",
     "status": "completed"
    },
    "tags": []
   },
   "outputs": [
    {
     "data": {
      "text/plain": [
       "{'loss': [0.38638925552368164,\n",
       "  0.19754968583583832,\n",
       "  0.15197058022022247,\n",
       "  0.129918172955513,\n",
       "  0.11589319258928299,\n",
       "  0.10175828635692596,\n",
       "  0.09360521286725998,\n",
       "  0.08575166016817093,\n",
       "  0.08149133622646332,\n",
       "  0.07375895231962204,\n",
       "  0.07207774370908737,\n",
       "  0.07045220583677292,\n",
       "  0.06363474577665329,\n",
       "  0.061328571289777756,\n",
       "  0.06516873836517334,\n",
       "  0.05777238309383392,\n",
       "  0.05507536605000496,\n",
       "  0.056466978043317795,\n",
       "  0.052999790757894516,\n",
       "  0.05395815894007683,\n",
       "  0.04839375987648964,\n",
       "  0.045578744262456894,\n",
       "  0.04916290566325188,\n",
       "  0.04671834036707878,\n",
       "  0.05003337562084198,\n",
       "  0.05052626505494118,\n",
       "  0.04458322748541832,\n",
       "  0.04633450508117676,\n",
       "  0.04170481115579605,\n",
       "  0.044316474348306656,\n",
       "  0.043758392333984375,\n",
       "  0.0459066741168499,\n",
       "  0.04093523323535919,\n",
       "  0.04201281815767288,\n",
       "  0.040241822600364685,\n",
       "  0.03663322329521179,\n",
       "  0.04001183435320854,\n",
       "  0.037608176469802856,\n",
       "  0.037023402750492096,\n",
       "  0.040421612560749054,\n",
       "  0.03798052668571472,\n",
       "  0.03909333050251007,\n",
       "  0.03496044501662254,\n",
       "  0.035199444741010666,\n",
       "  0.033328257501125336,\n",
       "  0.037258829921483994,\n",
       "  0.03387927636504173,\n",
       "  0.03596482798457146,\n",
       "  0.029589947313070297,\n",
       "  0.03264092653989792,\n",
       "  0.03273078426718712,\n",
       "  0.029340073466300964,\n",
       "  0.033153824508190155,\n",
       "  0.033452149480581284,\n",
       "  0.03096873313188553,\n",
       "  0.030892018228769302,\n",
       "  0.03807925060391426,\n",
       "  0.03367225080728531,\n",
       "  0.03176259994506836,\n",
       "  0.02720758505165577,\n",
       "  0.03319986164569855,\n",
       "  0.029716532677412033,\n",
       "  0.03033030405640602,\n",
       "  0.03241454437375069,\n",
       "  0.027253786101937294,\n",
       "  0.03137483447790146,\n",
       "  0.031754061579704285,\n",
       "  0.03366784378886223,\n",
       "  0.02739599160850048,\n",
       "  0.029114386066794395,\n",
       "  0.03336997702717781,\n",
       "  0.027503419667482376,\n",
       "  0.029774146154522896,\n",
       "  0.0278652161359787,\n",
       "  0.027923408895730972,\n",
       "  0.029768390581011772,\n",
       "  0.03231244906783104,\n",
       "  0.029726626351475716,\n",
       "  0.027939248830080032,\n",
       "  0.026666179299354553,\n",
       "  0.029566798359155655,\n",
       "  0.02831733040511608,\n",
       "  0.029685482382774353,\n",
       "  0.02452235296368599,\n",
       "  0.027993131428956985,\n",
       "  0.02761721797287464,\n",
       "  0.027937721461057663,\n",
       "  0.028021447360515594,\n",
       "  0.030354036018252373,\n",
       "  0.024260934442281723,\n",
       "  0.02703089453279972,\n",
       "  0.029947932809591293,\n",
       "  0.02634599804878235,\n",
       "  0.02731049805879593,\n",
       "  0.025829806923866272,\n",
       "  0.024559015408158302,\n",
       "  0.02621803618967533,\n",
       "  0.02301032468676567,\n",
       "  0.028879713267087936,\n",
       "  0.035731568932533264],\n",
       " 'accuracy': [0.8335621953010559,\n",
       "  0.9420489072799683,\n",
       "  0.9546827673912048,\n",
       "  0.9582532048225403,\n",
       "  0.964020848274231,\n",
       "  0.9670420289039612,\n",
       "  0.9684152603149414,\n",
       "  0.9719856977462769,\n",
       "  0.9728096723556519,\n",
       "  0.9752815365791321,\n",
       "  0.9750068783760071,\n",
       "  0.9766547679901123,\n",
       "  0.9780279994010925,\n",
       "  0.9780279994010925,\n",
       "  0.9777533411979675,\n",
       "  0.9783026576042175,\n",
       "  0.982971727848053,\n",
       "  0.982971727848053,\n",
       "  0.982422411441803,\n",
       "  0.981873095035553,\n",
       "  0.9868168234825134,\n",
       "  0.9848942756652832,\n",
       "  0.9846196174621582,\n",
       "  0.9857181906700134,\n",
       "  0.982971727848053,\n",
       "  0.981598436832428,\n",
       "  0.9848942756652832,\n",
       "  0.9851689338684082,\n",
       "  0.9868168234825134,\n",
       "  0.9868168234825134,\n",
       "  0.9857181906700134,\n",
       "  0.982422411441803,\n",
       "  0.9843449592590332,\n",
       "  0.9859928488731384,\n",
       "  0.9854435324668884,\n",
       "  0.9865421652793884,\n",
       "  0.9879153966903687,\n",
       "  0.9865421652793884,\n",
       "  0.9876407384872437,\n",
       "  0.9859928488731384,\n",
       "  0.9865421652793884,\n",
       "  0.9868168234825134,\n",
       "  0.9879153966903687,\n",
       "  0.9879153966903687,\n",
       "  0.9890140295028687,\n",
       "  0.9879153966903687,\n",
       "  0.9887393712997437,\n",
       "  0.9870914816856384,\n",
       "  0.9906619191169739,\n",
       "  0.9901126027107239,\n",
       "  0.9898379445075989,\n",
       "  0.9912111759185791,\n",
       "  0.9890140295028687,\n",
       "  0.9895632863044739,\n",
       "  0.9881900548934937,\n",
       "  0.9895632863044739,\n",
       "  0.9865421652793884,\n",
       "  0.9887393712997437,\n",
       "  0.9892886281013489,\n",
       "  0.9909365773200989,\n",
       "  0.9873660802841187,\n",
       "  0.9892886281013489,\n",
       "  0.9912111759185791,\n",
       "  0.9895632863044739,\n",
       "  0.9912111759185791,\n",
       "  0.9887393712997437,\n",
       "  0.9892886281013489,\n",
       "  0.9879153966903687,\n",
       "  0.9912111759185791,\n",
       "  0.9901126027107239,\n",
       "  0.9865421652793884,\n",
       "  0.9903872609138489,\n",
       "  0.9890140295028687,\n",
       "  0.9923098087310791,\n",
       "  0.9903872609138489,\n",
       "  0.9892886281013489,\n",
       "  0.9898379445075989,\n",
       "  0.9879153966903687,\n",
       "  0.9895632863044739,\n",
       "  0.9906619191169739,\n",
       "  0.9890140295028687,\n",
       "  0.9920351505279541,\n",
       "  0.9909365773200989,\n",
       "  0.9920351505279541,\n",
       "  0.9895632863044739,\n",
       "  0.9909365773200989,\n",
       "  0.9892886281013489,\n",
       "  0.9901126027107239,\n",
       "  0.9895632863044739,\n",
       "  0.9909365773200989,\n",
       "  0.9917604923248291,\n",
       "  0.9887393712997437,\n",
       "  0.9903872609138489,\n",
       "  0.9917604923248291,\n",
       "  0.9909365773200989,\n",
       "  0.9920351505279541,\n",
       "  0.9912111759185791,\n",
       "  0.9928591251373291,\n",
       "  0.9881900548934937,\n",
       "  0.9873660802841187],\n",
       " 'val_loss': [0.23622490465641022,\n",
       "  0.16350075602531433,\n",
       "  0.1361873894929886,\n",
       "  0.11915271729230881,\n",
       "  0.11144866049289703,\n",
       "  0.10652204602956772,\n",
       "  0.09715690463781357,\n",
       "  0.09514888375997543,\n",
       "  0.08717125654220581,\n",
       "  0.08873474597930908,\n",
       "  0.08498241752386093,\n",
       "  0.08517983555793762,\n",
       "  0.0811057910323143,\n",
       "  0.07447100430727005,\n",
       "  0.07860364764928818,\n",
       "  0.07574068009853363,\n",
       "  0.07179781049489975,\n",
       "  0.06790141761302948,\n",
       "  0.07019702345132828,\n",
       "  0.0828569084405899,\n",
       "  0.07227329164743423,\n",
       "  0.06459470838308334,\n",
       "  0.06415419280529022,\n",
       "  0.06299334019422531,\n",
       "  0.06951650977134705,\n",
       "  0.06133907288312912,\n",
       "  0.06570984423160553,\n",
       "  0.06470079720020294,\n",
       "  0.06254619359970093,\n",
       "  0.06118204817175865,\n",
       "  0.06278792768716812,\n",
       "  0.07583065330982208,\n",
       "  0.06378486007452011,\n",
       "  0.07515132427215576,\n",
       "  0.05978518724441528,\n",
       "  0.06542929261922836,\n",
       "  0.06402979791164398,\n",
       "  0.06369815766811371,\n",
       "  0.0706845372915268,\n",
       "  0.06164800375699997,\n",
       "  0.05974351242184639,\n",
       "  0.06731118261814117,\n",
       "  0.06434274464845657,\n",
       "  0.06136667728424072,\n",
       "  0.05239979922771454,\n",
       "  0.06473041325807571,\n",
       "  0.05930384621024132,\n",
       "  0.058290574699640274,\n",
       "  0.05523037165403366,\n",
       "  0.05615323781967163,\n",
       "  0.05435212701559067,\n",
       "  0.05874243751168251,\n",
       "  0.05567788705229759,\n",
       "  0.06359785050153732,\n",
       "  0.06352992355823517,\n",
       "  0.06082368269562721,\n",
       "  0.06141100078821182,\n",
       "  0.0626889318227768,\n",
       "  0.053554095327854156,\n",
       "  0.06150204688310623,\n",
       "  0.06419569253921509,\n",
       "  0.06374246627092361,\n",
       "  0.05650736764073372,\n",
       "  0.06411755084991455,\n",
       "  0.05406104400753975,\n",
       "  0.05612170323729515,\n",
       "  0.05325819551944733,\n",
       "  0.06318491697311401,\n",
       "  0.055427681654691696,\n",
       "  0.05809404328465462,\n",
       "  0.056356582790613174,\n",
       "  0.05660190060734749,\n",
       "  0.056896910071372986,\n",
       "  0.04934907332062721,\n",
       "  0.05178253352642059,\n",
       "  0.06336887180805206,\n",
       "  0.06411419808864594,\n",
       "  0.05608614906668663,\n",
       "  0.057279281318187714,\n",
       "  0.04916011542081833,\n",
       "  0.061533596366643906,\n",
       "  0.06556246429681778,\n",
       "  0.05560198426246643,\n",
       "  0.0554877407848835,\n",
       "  0.05376756191253662,\n",
       "  0.04727856069803238,\n",
       "  0.05023875832557678,\n",
       "  0.05279059708118439,\n",
       "  0.05157804116606712,\n",
       "  0.05448688939213753,\n",
       "  0.051982492208480835,\n",
       "  0.059884436428546906,\n",
       "  0.05985555797815323,\n",
       "  0.05752120912075043,\n",
       "  0.049392662942409515,\n",
       "  0.055208537727594376,\n",
       "  0.05449444800615311,\n",
       "  0.05154231935739517,\n",
       "  0.05268644914031029,\n",
       "  0.05860074982047081],\n",
       " 'val_accuracy': [0.9472527503967285,\n",
       "  0.9516483545303345,\n",
       "  0.9494505524635315,\n",
       "  0.9560439586639404,\n",
       "  0.9560439586639404,\n",
       "  0.9692307710647583,\n",
       "  0.9714285731315613,\n",
       "  0.9736263751983643,\n",
       "  0.9736263751983643,\n",
       "  0.9736263751983643,\n",
       "  0.9736263751983643,\n",
       "  0.9736263751983643,\n",
       "  0.9736263751983643,\n",
       "  0.9758241772651672,\n",
       "  0.9736263751983643,\n",
       "  0.9758241772651672,\n",
       "  0.9780219793319702,\n",
       "  0.9780219793319702,\n",
       "  0.9736263751983643,\n",
       "  0.9692307710647583,\n",
       "  0.9780219793319702,\n",
       "  0.9824175834655762,\n",
       "  0.9802197813987732,\n",
       "  0.9824175834655762,\n",
       "  0.9780219793319702,\n",
       "  0.9824175834655762,\n",
       "  0.9780219793319702,\n",
       "  0.9802197813987732,\n",
       "  0.9824175834655762,\n",
       "  0.9802197813987732,\n",
       "  0.9802197813987732,\n",
       "  0.9736263751983643,\n",
       "  0.9802197813987732,\n",
       "  0.9802197813987732,\n",
       "  0.9846153855323792,\n",
       "  0.9780219793319702,\n",
       "  0.9780219793319702,\n",
       "  0.9780219793319702,\n",
       "  0.9802197813987732,\n",
       "  0.9824175834655762,\n",
       "  0.9824175834655762,\n",
       "  0.9802197813987732,\n",
       "  0.9802197813987732,\n",
       "  0.9846153855323792,\n",
       "  0.9868131875991821,\n",
       "  0.9802197813987732,\n",
       "  0.9824175834655762,\n",
       "  0.9846153855323792,\n",
       "  0.9846153855323792,\n",
       "  0.9846153855323792,\n",
       "  0.9868131875991821,\n",
       "  0.9846153855323792,\n",
       "  0.9846153855323792,\n",
       "  0.9824175834655762,\n",
       "  0.9846153855323792,\n",
       "  0.9846153855323792,\n",
       "  0.9846153855323792,\n",
       "  0.9846153855323792,\n",
       "  0.9868131875991821,\n",
       "  0.9846153855323792,\n",
       "  0.9824175834655762,\n",
       "  0.9824175834655762,\n",
       "  0.9868131875991821,\n",
       "  0.9824175834655762,\n",
       "  0.9868131875991821,\n",
       "  0.9868131875991821,\n",
       "  0.9868131875991821,\n",
       "  0.9824175834655762,\n",
       "  0.9890109896659851,\n",
       "  0.9868131875991821,\n",
       "  0.9890109896659851,\n",
       "  0.9890109896659851,\n",
       "  0.9890109896659851,\n",
       "  0.9890109896659851,\n",
       "  0.9868131875991821,\n",
       "  0.9846153855323792,\n",
       "  0.9846153855323792,\n",
       "  0.9890109896659851,\n",
       "  0.9868131875991821,\n",
       "  0.9868131875991821,\n",
       "  0.9868131875991821,\n",
       "  0.9846153855323792,\n",
       "  0.9890109896659851,\n",
       "  0.9890109896659851,\n",
       "  0.9890109896659851,\n",
       "  0.9890109896659851,\n",
       "  0.9868131875991821,\n",
       "  0.9890109896659851,\n",
       "  0.9890109896659851,\n",
       "  0.9912087917327881,\n",
       "  0.9890109896659851,\n",
       "  0.9890109896659851,\n",
       "  0.9890109896659851,\n",
       "  0.9912087917327881,\n",
       "  0.9890109896659851,\n",
       "  0.9912087917327881,\n",
       "  0.9890109896659851,\n",
       "  0.9890109896659851,\n",
       "  0.9890109896659851,\n",
       "  0.9912087917327881]}"
      ]
     },
     "execution_count": 12,
     "metadata": {},
     "output_type": "execute_result"
    }
   ],
   "source": [
    "history.history"
   ]
  },
  {
   "cell_type": "markdown",
   "metadata": {
    "id": "_6YrqxNiK74j",
    "papermill": {
     "duration": 3.075835,
     "end_time": "2021-09-05T11:06:24.329185",
     "exception": false,
     "start_time": "2021-09-05T11:06:21.253350",
     "status": "completed"
    },
    "tags": []
   },
   "source": [
    "### Accuracy vs Epochs"
   ]
  },
  {
   "cell_type": "code",
   "execution_count": 13,
   "metadata": {
    "execution": {
     "iopub.execute_input": "2021-09-05T11:06:30.637195Z",
     "iopub.status.busy": "2021-09-05T11:06:30.636281Z",
     "iopub.status.idle": "2021-09-05T11:06:30.784909Z",
     "shell.execute_reply": "2021-09-05T11:06:30.785323Z",
     "shell.execute_reply.started": "2021-09-03T14:07:34.646009Z"
    },
    "id": "sdB7_fjsaa5z",
    "papermill": {
     "duration": 3.184455,
     "end_time": "2021-09-05T11:06:30.785493",
     "exception": false,
     "start_time": "2021-09-05T11:06:27.601038",
     "status": "completed"
    },
    "tags": []
   },
   "outputs": [
    {
     "data": {
      "image/png": "[encoded data removed]",
      "text/plain": [
       "<Figure size 432x288 with 1 Axes>"
      ]
     },
     "metadata": {
      "needs_background": "light"
     },
     "output_type": "display_data"
    }
   ],
   "source": [
    "plt.plot(history.history['accuracy'])\n",
    "plt.plot(history.history['val_accuracy'])\n",
    "plt.title('model accuracy')\n",
    "plt.ylabel('accuracy')\n",
    "plt.xlabel('epoch')\n",
    "plt.legend(['train', 'test'], loc='upper left')\n",
    "plt.show()\n"
   ]
  },
  {
   "cell_type": "markdown",
   "metadata": {
    "id": "2Y77bbOVLAhu",
    "papermill": {
     "duration": 3.720103,
     "end_time": "2021-09-05T11:06:37.610441",
     "exception": false,
     "start_time": "2021-09-05T11:06:33.890338",
     "status": "completed"
    },
    "tags": []
   },
   "source": [
    "### Loss vs Epochs"
   ]
  },
  {
   "cell_type": "code",
   "execution_count": 14,
   "metadata": {
    "execution": {
     "iopub.execute_input": "2021-09-05T11:06:43.753015Z",
     "iopub.status.busy": "2021-09-05T11:06:43.751937Z",
     "iopub.status.idle": "2021-09-05T11:06:43.889914Z",
     "shell.execute_reply": "2021-09-05T11:06:43.890326Z",
     "shell.execute_reply.started": "2021-09-03T14:07:34.831244Z"
    },
    "id": "_GV-kvZqKydx",
    "papermill": {
     "duration": 3.282522,
     "end_time": "2021-09-05T11:06:43.890490",
     "exception": false,
     "start_time": "2021-09-05T11:06:40.607968",
     "status": "completed"
    },
    "tags": []
   },
   "outputs": [
    {
     "data": {
      "image/png": "[encoded data removed]",
      "text/plain": [
       "<Figure size 432x288 with 1 Axes>"
      ]
     },
     "metadata": {
      "needs_background": "light"
     },
     "output_type": "display_data"
    }
   ],
   "source": [
    "plt.plot(history.history['loss'])\n",
    "plt.plot(history.history['val_loss'])\n",
    "plt.title('model loss')\n",
    "plt.ylabel('loss')\n",
    "plt.xlabel('epoch')\n",
    "plt.legend(['train', 'test'], loc='upper left')\n",
    "plt.show()"
   ]
  }
 ],
 "metadata": {
  "kernelspec": {
   "display_name": "Python 3",
   "language": "python",
   "name": "python3"
  },
  "language_info": {
   "codemirror_mode": {
    "name": "ipython",
    "version": 3
   },
   "file_extension": ".py",
   "mimetype": "text/x-python",
   "name": "python",
   "nbconvert_exporter": "python",
   "pygments_lexer": "ipython3",
   "version": "3.7.3"
  },
  "papermill": {
   "default_parameters": {},
   "duration": 15929.622428,
   "end_time": "2021-09-05T11:06:50.010049",
   "environment_variables": {},
   "exception": null,
   "input_path": "__notebook__.ipynb",
   "output_path": "__notebook__.ipynb",
   "parameters": {},
   "start_time": "2021-09-05T06:41:20.387621",
   "version": "2.3.3"
  }
 },
 "nbformat": 4,
 "nbformat_minor": 5
}
