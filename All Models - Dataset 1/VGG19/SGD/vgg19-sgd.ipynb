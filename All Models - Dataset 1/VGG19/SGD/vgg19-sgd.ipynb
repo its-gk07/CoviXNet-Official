{
 "cells": [
  {
   "cell_type": "markdown",
   "id": "272ced8f",
   "metadata": {
    "id": "9Dg7bhcMQjrx",
    "papermill": {
     "duration": 0.015214,
     "end_time": "2021-09-05T06:45:51.607772",
     "exception": false,
     "start_time": "2021-09-05T06:45:51.592558",
     "status": "completed"
    },
    "tags": []
   },
   "source": [
    "# Complete Notebook"
   ]
  },
  {
   "cell_type": "markdown",
   "id": "2b189818",
   "metadata": {
    "id": "jG_5SoNmSwPc",
    "papermill": {
     "duration": 0.014074,
     "end_time": "2021-09-05T06:45:51.636130",
     "exception": false,
     "start_time": "2021-09-05T06:45:51.622056",
     "status": "completed"
    },
    "tags": []
   },
   "source": [
    "## Importing Libraries"
   ]
  },
  {
   "cell_type": "code",
   "execution_count": 1,
   "id": "8a0c6105",
   "metadata": {
    "execution": {
     "iopub.execute_input": "2021-09-05T06:45:51.675339Z",
     "iopub.status.busy": "2021-09-05T06:45:51.674855Z",
     "iopub.status.idle": "2021-09-05T06:45:51.678744Z",
     "shell.execute_reply": "2021-09-05T06:45:51.678240Z",
     "shell.execute_reply.started": "2021-09-03T09:36:50.027146Z"
    },
    "id": "QwAtFRvYQpDm",
    "papermill": {
     "duration": 0.028534,
     "end_time": "2021-09-05T06:45:51.678856",
     "exception": false,
     "start_time": "2021-09-05T06:45:51.650322",
     "status": "completed"
    },
    "tags": []
   },
   "outputs": [],
   "source": [
    "import warnings\n",
    "warnings.filterwarnings('ignore')"
   ]
  },
  {
   "cell_type": "code",
   "execution_count": 2,
   "id": "c358e7b7",
   "metadata": {
    "execution": {
     "iopub.execute_input": "2021-09-05T06:45:51.714460Z",
     "iopub.status.busy": "2021-09-05T06:45:51.713814Z",
     "iopub.status.idle": "2021-09-05T06:45:56.011788Z",
     "shell.execute_reply": "2021-09-05T06:45:56.011257Z",
     "shell.execute_reply.started": "2021-09-03T09:36:50.645719Z"
    },
    "id": "q-CIsMW9QtQm",
    "papermill": {
     "duration": 4.318976,
     "end_time": "2021-09-05T06:45:56.011924",
     "exception": false,
     "start_time": "2021-09-05T06:45:51.692948",
     "status": "completed"
    },
    "tags": []
   },
   "outputs": [],
   "source": [
    "from tensorflow import keras\n",
    "from keras.layers import Input, Lambda, Dense, Flatten, Dropout\n",
    "from keras.models import Model\n",
    "from tensorflow.keras.applications.resnet import ResNet152\n",
    "from keras.preprocessing import image\n",
    "from keras.applications.vgg19 import VGG19\n",
    "from keras.applications.vgg19 import preprocess_input\n",
    "from keras.preprocessing.image import ImageDataGenerator\n",
    "from keras.models import Sequential\n",
    "import numpy as np\n",
    "from glob import glob\n",
    "import matplotlib.pyplot as plt\n",
    "%matplotlib inline "
   ]
  },
  {
   "cell_type": "markdown",
   "id": "c49d2d4e",
   "metadata": {
    "id": "xs6p7RMOciNF",
    "papermill": {
     "duration": 0.03271,
     "end_time": "2021-09-05T06:45:56.072692",
     "exception": false,
     "start_time": "2021-09-05T06:45:56.039982",
     "status": "completed"
    },
    "tags": []
   },
   "source": [
    "## Initializing Parameters"
   ]
  },
  {
   "cell_type": "code",
   "execution_count": 3,
   "id": "42638812",
   "metadata": {
    "execution": {
     "iopub.execute_input": "2021-09-05T06:45:56.141334Z",
     "iopub.status.busy": "2021-09-05T06:45:56.140341Z",
     "iopub.status.idle": "2021-09-05T06:45:56.142865Z",
     "shell.execute_reply": "2021-09-05T06:45:56.142193Z",
     "shell.execute_reply.started": "2021-09-03T09:37:48.845787Z"
    },
    "id": "fiLzfiHJQyFv",
    "papermill": {
     "duration": 0.038681,
     "end_time": "2021-09-05T06:45:56.143113",
     "exception": false,
     "start_time": "2021-09-05T06:45:56.104432",
     "status": "completed"
    },
    "tags": []
   },
   "outputs": [],
   "source": [
    "IMAGE_SIZE = [224,224, 3]\n",
    "\n",
    "train_path = '/kaggle/input/covid19-chest-xray-processed-dataset/Dataset/Train'\n",
    "test_path = '/kaggle/input/covid19-chest-xray-processed-dataset/Dataset/Test'\n",
    "val_path = '/kaggle/input/covid19-chest-xray-processed-dataset/Dataset/Val'"
   ]
  },
  {
   "cell_type": "markdown",
   "id": "6c487958",
   "metadata": {
    "id": "C9swfxvUcwfb",
    "papermill": {
     "duration": 0.025983,
     "end_time": "2021-09-05T06:45:56.195899",
     "exception": false,
     "start_time": "2021-09-05T06:45:56.169916",
     "status": "completed"
    },
    "tags": []
   },
   "source": [
    "## Data Augmentation"
   ]
  },
  {
   "cell_type": "code",
   "execution_count": 4,
   "id": "15667605",
   "metadata": {
    "execution": {
     "iopub.execute_input": "2021-09-05T06:45:56.258061Z",
     "iopub.status.busy": "2021-09-05T06:45:56.256438Z",
     "iopub.status.idle": "2021-09-05T06:46:00.059054Z",
     "shell.execute_reply": "2021-09-05T06:46:00.059671Z",
     "shell.execute_reply.started": "2021-09-03T09:37:48.852449Z"
    },
    "id": "YiRQm0hvcsmB",
    "outputId": "0a0afb85-2a97-445e-ccfb-7facbfa29e09",
    "papermill": {
     "duration": 3.837294,
     "end_time": "2021-09-05T06:46:00.059862",
     "exception": false,
     "start_time": "2021-09-05T06:45:56.222568",
     "status": "completed"
    },
    "tags": []
   },
   "outputs": [
    {
     "name": "stdout",
     "output_type": "stream",
     "text": [
      "Found 3641 images belonging to 2 classes.\n",
      "Found 455 images belonging to 2 classes.\n",
      "Found 455 images belonging to 2 classes.\n"
     ]
    }
   ],
   "source": [
    "train_datagen = ImageDataGenerator(rescale = 1./255,\n",
    "                                   shear_range = 0.2,\n",
    "                                   zoom_range = 0.2,\n",
    "                                   horizontal_flip = True)\n",
    "\n",
    "test_datagen = ImageDataGenerator(rescale = 1./255)\n",
    "val_datagen = ImageDataGenerator(rescale = 1./255)\n",
    "\n",
    "\n",
    "\n",
    "\n",
    "# Make sure you provide the same target size as initialied for the image size\n",
    "training_set = train_datagen.flow_from_directory('/kaggle/input/covid19-chest-xray-processed-dataset/Dataset/Train',\n",
    "                                                 target_size = (224,224),\n",
    "                                                 batch_size = 32,\n",
    "                                                 class_mode = 'categorical')\n",
    "\n",
    "\n",
    "test_set = test_datagen.flow_from_directory('/kaggle/input/covid19-chest-xray-processed-dataset/Dataset/Test',\n",
    "                                            target_size = (224,224),\n",
    "                                            batch_size = 32,\n",
    "                                            class_mode = 'categorical')\n",
    "\n",
    "\n",
    "val_set = test_datagen.flow_from_directory('/kaggle/input/covid19-chest-xray-processed-dataset/Dataset/Val',\n",
    "                                            target_size = (224,224),\n",
    "                                            batch_size = 32,\n",
    "                                            class_mode = 'categorical')"
   ]
  },
  {
   "cell_type": "markdown",
   "id": "62359350",
   "metadata": {
    "id": "eyh24sefc22K",
    "papermill": {
     "duration": 0.015089,
     "end_time": "2021-09-05T06:46:00.090876",
     "exception": false,
     "start_time": "2021-09-05T06:46:00.075787",
     "status": "completed"
    },
    "tags": []
   },
   "source": [
    "## vgg19"
   ]
  },
  {
   "cell_type": "code",
   "execution_count": 5,
   "id": "dca38429",
   "metadata": {
    "execution": {
     "iopub.execute_input": "2021-09-05T06:46:00.127874Z",
     "iopub.status.busy": "2021-09-05T06:46:00.127354Z",
     "iopub.status.idle": "2021-09-05T06:46:03.474023Z",
     "shell.execute_reply": "2021-09-05T06:46:03.473530Z",
     "shell.execute_reply.started": "2021-09-03T09:37:54.165941Z"
    },
    "id": "M_hmEZCZUETs",
    "outputId": "a58a8249-d7de-4374-8364-df5be813d2f7",
    "papermill": {
     "duration": 3.36818,
     "end_time": "2021-09-05T06:46:03.474156",
     "exception": false,
     "start_time": "2021-09-05T06:46:00.105976",
     "status": "completed"
    },
    "tags": []
   },
   "outputs": [
    {
     "name": "stdout",
     "output_type": "stream",
     "text": [
      "Downloading data from https://storage.googleapis.com/tensorflow/keras-applications/vgg19/vgg19_weights_tf_dim_ordering_tf_kernels_notop.h5\n",
      "80142336/80134624 [==============================] - 1s 0us/step\n"
     ]
    }
   ],
   "source": [
    "base_model_vgg19 = VGG19(input_shape=IMAGE_SIZE, weights='imagenet', include_top=False, pooling='max')"
   ]
  },
  {
   "cell_type": "code",
   "execution_count": 6,
   "id": "a999c6a1",
   "metadata": {
    "execution": {
     "iopub.execute_input": "2021-09-05T06:46:03.517714Z",
     "iopub.status.busy": "2021-09-05T06:46:03.516980Z",
     "iopub.status.idle": "2021-09-05T06:46:03.519481Z",
     "shell.execute_reply": "2021-09-05T06:46:03.519857Z",
     "shell.execute_reply.started": "2021-09-03T09:38:07.558561Z"
    },
    "id": "kP16aMjdUJUf",
    "papermill": {
     "duration": 0.026046,
     "end_time": "2021-09-05T06:46:03.519981",
     "exception": false,
     "start_time": "2021-09-05T06:46:03.493935",
     "status": "completed"
    },
    "tags": []
   },
   "outputs": [],
   "source": [
    "for layer in base_model_vgg19.layers:\n",
    "    layer.trainable = False"
   ]
  },
  {
   "cell_type": "markdown",
   "id": "10fc9f52",
   "metadata": {
    "id": "QvKCywVUdZSu",
    "papermill": {
     "duration": 0.01985,
     "end_time": "2021-09-05T06:46:03.558941",
     "exception": false,
     "start_time": "2021-09-05T06:46:03.539091",
     "status": "completed"
    },
    "tags": []
   },
   "source": [
    "## Building Model"
   ]
  },
  {
   "cell_type": "code",
   "execution_count": 7,
   "id": "38085d61",
   "metadata": {
    "execution": {
     "iopub.execute_input": "2021-09-05T06:46:03.602845Z",
     "iopub.status.busy": "2021-09-05T06:46:03.602058Z",
     "iopub.status.idle": "2021-09-05T06:46:03.617210Z",
     "shell.execute_reply": "2021-09-05T06:46:03.616784Z",
     "shell.execute_reply.started": "2021-09-03T09:38:08.755612Z"
    },
    "id": "h7Al-lBKVRYs",
    "papermill": {
     "duration": 0.039225,
     "end_time": "2021-09-05T06:46:03.617311",
     "exception": false,
     "start_time": "2021-09-05T06:46:03.578086",
     "status": "completed"
    },
    "tags": []
   },
   "outputs": [],
   "source": [
    "x = base_model_vgg19.output\n",
    "x = Flatten()(x)\n",
    "\n",
    "prediction = Dense(2, activation='softmax')(x)\n",
    "final_model = Model(inputs=base_model_vgg19.input, outputs=prediction)"
   ]
  },
  {
   "cell_type": "code",
   "execution_count": 8,
   "id": "ec4c1bbb",
   "metadata": {
    "execution": {
     "iopub.execute_input": "2021-09-05T06:46:03.665948Z",
     "iopub.status.busy": "2021-09-05T06:46:03.665062Z",
     "iopub.status.idle": "2021-09-05T06:46:03.670952Z",
     "shell.execute_reply": "2021-09-05T06:46:03.671320Z",
     "shell.execute_reply.started": "2021-09-03T09:38:12.106834Z"
    },
    "id": "onWkMLGkVj_x",
    "papermill": {
     "duration": 0.035085,
     "end_time": "2021-09-05T06:46:03.671456",
     "exception": false,
     "start_time": "2021-09-05T06:46:03.636371",
     "status": "completed"
    },
    "tags": []
   },
   "outputs": [],
   "source": [
    "final_model.compile(\n",
    "  loss='categorical_crossentropy',\n",
    "  optimizer='SGD',\n",
    "  metrics=['accuracy']\n",
    ")"
   ]
  },
  {
   "cell_type": "code",
   "execution_count": 9,
   "id": "28ac2229",
   "metadata": {
    "execution": {
     "iopub.execute_input": "2021-09-05T06:46:03.715409Z",
     "iopub.status.busy": "2021-09-05T06:46:03.714638Z",
     "iopub.status.idle": "2021-09-05T06:46:03.727131Z",
     "shell.execute_reply": "2021-09-05T06:46:03.726540Z",
     "shell.execute_reply.started": "2021-09-03T09:38:13.315629Z"
    },
    "id": "i267lbE_GWCn",
    "outputId": "2f94956f-25c0-4064-d847-0b1cc481c8da",
    "papermill": {
     "duration": 0.036742,
     "end_time": "2021-09-05T06:46:03.727246",
     "exception": false,
     "start_time": "2021-09-05T06:46:03.690504",
     "status": "completed"
    },
    "tags": []
   },
   "outputs": [
    {
     "name": "stdout",
     "output_type": "stream",
     "text": [
      "Model: \"model\"\n",
      "_________________________________________________________________\n",
      "Layer (type)                 Output Shape              Param #   \n",
      "=================================================================\n",
      "input_1 (InputLayer)         [(None, 224, 224, 3)]     0         \n",
      "_________________________________________________________________\n",
      "block1_conv1 (Conv2D)        (None, 224, 224, 64)      1792      \n",
      "_________________________________________________________________\n",
      "block1_conv2 (Conv2D)        (None, 224, 224, 64)      36928     \n",
      "_________________________________________________________________\n",
      "block1_pool (MaxPooling2D)   (None, 112, 112, 64)      0         \n",
      "_________________________________________________________________\n",
      "block2_conv1 (Conv2D)        (None, 112, 112, 128)     73856     \n",
      "_________________________________________________________________\n",
      "block2_conv2 (Conv2D)        (None, 112, 112, 128)     147584    \n",
      "_________________________________________________________________\n",
      "block2_pool (MaxPooling2D)   (None, 56, 56, 128)       0         \n",
      "_________________________________________________________________\n",
      "block3_conv1 (Conv2D)        (None, 56, 56, 256)       295168    \n",
      "_________________________________________________________________\n",
      "block3_conv2 (Conv2D)        (None, 56, 56, 256)       590080    \n",
      "_________________________________________________________________\n",
      "block3_conv3 (Conv2D)        (None, 56, 56, 256)       590080    \n",
      "_________________________________________________________________\n",
      "block3_conv4 (Conv2D)        (None, 56, 56, 256)       590080    \n",
      "_________________________________________________________________\n",
      "block3_pool (MaxPooling2D)   (None, 28, 28, 256)       0         \n",
      "_________________________________________________________________\n",
      "block4_conv1 (Conv2D)        (None, 28, 28, 512)       1180160   \n",
      "_________________________________________________________________\n",
      "block4_conv2 (Conv2D)        (None, 28, 28, 512)       2359808   \n",
      "_________________________________________________________________\n",
      "block4_conv3 (Conv2D)        (None, 28, 28, 512)       2359808   \n",
      "_________________________________________________________________\n",
      "block4_conv4 (Conv2D)        (None, 28, 28, 512)       2359808   \n",
      "_________________________________________________________________\n",
      "block4_pool (MaxPooling2D)   (None, 14, 14, 512)       0         \n",
      "_________________________________________________________________\n",
      "block5_conv1 (Conv2D)        (None, 14, 14, 512)       2359808   \n",
      "_________________________________________________________________\n",
      "block5_conv2 (Conv2D)        (None, 14, 14, 512)       2359808   \n",
      "_________________________________________________________________\n",
      "block5_conv3 (Conv2D)        (None, 14, 14, 512)       2359808   \n",
      "_________________________________________________________________\n",
      "block5_conv4 (Conv2D)        (None, 14, 14, 512)       2359808   \n",
      "_________________________________________________________________\n",
      "block5_pool (MaxPooling2D)   (None, 7, 7, 512)         0         \n",
      "_________________________________________________________________\n",
      "global_max_pooling2d (Global (None, 512)               0         \n",
      "_________________________________________________________________\n",
      "flatten (Flatten)            (None, 512)               0         \n",
      "_________________________________________________________________\n",
      "dense (Dense)                (None, 2)                 1026      \n",
      "=================================================================\n",
      "Total params: 20,025,410\n",
      "Trainable params: 1,026\n",
      "Non-trainable params: 20,024,384\n",
      "_________________________________________________________________\n"
     ]
    }
   ],
   "source": [
    "final_model.summary()"
   ]
  },
  {
   "cell_type": "markdown",
   "id": "c94ada2e",
   "metadata": {
    "id": "UrGXm4MkKIr7",
    "papermill": {
     "duration": 0.019185,
     "end_time": "2021-09-05T06:46:03.766045",
     "exception": false,
     "start_time": "2021-09-05T06:46:03.746860",
     "status": "completed"
    },
    "tags": []
   },
   "source": [
    "## Training"
   ]
  },
  {
   "cell_type": "code",
   "execution_count": 10,
   "id": "3e3aaf0c",
   "metadata": {
    "execution": {
     "iopub.execute_input": "2021-09-05T06:46:03.809119Z",
     "iopub.status.busy": "2021-09-05T06:46:03.808625Z",
     "iopub.status.idle": "2021-09-05T11:05:03.329340Z",
     "shell.execute_reply": "2021-09-05T11:05:03.329854Z",
     "shell.execute_reply.started": "2021-09-03T09:38:13.3908Z"
    },
    "id": "T7LwpawHGgs6",
    "outputId": "80e6e6ed-18ce-4cfc-f0ba-d93b25d41615",
    "papermill": {
     "duration": 15539.544523,
     "end_time": "2021-09-05T11:05:03.330012",
     "exception": false,
     "start_time": "2021-09-05T06:46:03.785489",
     "status": "completed"
    },
    "tags": []
   },
   "outputs": [
    {
     "name": "stdout",
     "output_type": "stream",
     "text": [
      "Epoch 1/100\n",
      "114/114 [==============================] - 253s 2s/step - loss: 0.5190 - accuracy: 0.7581 - val_loss: 0.2491 - val_accuracy: 0.9538\n",
      "Epoch 2/100\n",
      "114/114 [==============================] - 149s 1s/step - loss: 0.2361 - accuracy: 0.9311 - val_loss: 0.1724 - val_accuracy: 0.9560\n",
      "Epoch 3/100\n",
      "114/114 [==============================] - 152s 1s/step - loss: 0.1883 - accuracy: 0.9477 - val_loss: 0.1670 - val_accuracy: 0.9538\n",
      "Epoch 4/100\n",
      "114/114 [==============================] - 153s 1s/step - loss: 0.1590 - accuracy: 0.9488 - val_loss: 0.1311 - val_accuracy: 0.9648\n",
      "Epoch 5/100\n",
      "114/114 [==============================] - 149s 1s/step - loss: 0.1424 - accuracy: 0.9598 - val_loss: 0.1260 - val_accuracy: 0.9582\n",
      "Epoch 6/100\n",
      "114/114 [==============================] - 149s 1s/step - loss: 0.1311 - accuracy: 0.9559 - val_loss: 0.1150 - val_accuracy: 0.9692\n",
      "Epoch 7/100\n",
      "114/114 [==============================] - 149s 1s/step - loss: 0.1270 - accuracy: 0.9582 - val_loss: 0.1106 - val_accuracy: 0.9604\n",
      "Epoch 8/100\n",
      "114/114 [==============================] - 151s 1s/step - loss: 0.1198 - accuracy: 0.9644 - val_loss: 0.1079 - val_accuracy: 0.9626\n",
      "Epoch 9/100\n",
      "114/114 [==============================] - 150s 1s/step - loss: 0.1243 - accuracy: 0.9576 - val_loss: 0.1135 - val_accuracy: 0.9648\n",
      "Epoch 10/100\n",
      "114/114 [==============================] - 150s 1s/step - loss: 0.1115 - accuracy: 0.9642 - val_loss: 0.1024 - val_accuracy: 0.9670\n",
      "Epoch 11/100\n",
      "114/114 [==============================] - 151s 1s/step - loss: 0.1020 - accuracy: 0.9672 - val_loss: 0.1016 - val_accuracy: 0.9670\n",
      "Epoch 12/100\n",
      "114/114 [==============================] - 150s 1s/step - loss: 0.1056 - accuracy: 0.9679 - val_loss: 0.0981 - val_accuracy: 0.9670\n",
      "Epoch 13/100\n",
      "114/114 [==============================] - 151s 1s/step - loss: 0.1016 - accuracy: 0.9645 - val_loss: 0.0941 - val_accuracy: 0.9714\n",
      "Epoch 14/100\n",
      "114/114 [==============================] - 150s 1s/step - loss: 0.1041 - accuracy: 0.9670 - val_loss: 0.0927 - val_accuracy: 0.9648\n",
      "Epoch 15/100\n",
      "114/114 [==============================] - 152s 1s/step - loss: 0.0951 - accuracy: 0.9700 - val_loss: 0.0933 - val_accuracy: 0.9714\n",
      "Epoch 16/100\n",
      "114/114 [==============================] - 150s 1s/step - loss: 0.0892 - accuracy: 0.9725 - val_loss: 0.0941 - val_accuracy: 0.9714\n",
      "Epoch 17/100\n",
      "114/114 [==============================] - 151s 1s/step - loss: 0.0923 - accuracy: 0.9674 - val_loss: 0.0905 - val_accuracy: 0.9692\n",
      "Epoch 18/100\n",
      "114/114 [==============================] - 151s 1s/step - loss: 0.0877 - accuracy: 0.9718 - val_loss: 0.0884 - val_accuracy: 0.9692\n",
      "Epoch 19/100\n",
      "114/114 [==============================] - 151s 1s/step - loss: 0.0859 - accuracy: 0.9746 - val_loss: 0.0952 - val_accuracy: 0.9692\n",
      "Epoch 20/100\n",
      "114/114 [==============================] - 150s 1s/step - loss: 0.0874 - accuracy: 0.9693 - val_loss: 0.0859 - val_accuracy: 0.9714\n",
      "Epoch 21/100\n",
      "114/114 [==============================] - 151s 1s/step - loss: 0.0863 - accuracy: 0.9734 - val_loss: 0.0965 - val_accuracy: 0.9670\n",
      "Epoch 22/100\n",
      "114/114 [==============================] - 150s 1s/step - loss: 0.0809 - accuracy: 0.9739 - val_loss: 0.0848 - val_accuracy: 0.9736\n",
      "Epoch 23/100\n",
      "114/114 [==============================] - 150s 1s/step - loss: 0.0814 - accuracy: 0.9740 - val_loss: 0.0840 - val_accuracy: 0.9714\n",
      "Epoch 24/100\n",
      "114/114 [==============================] - 151s 1s/step - loss: 0.0905 - accuracy: 0.9653 - val_loss: 0.0837 - val_accuracy: 0.9736\n",
      "Epoch 25/100\n",
      "114/114 [==============================] - 151s 1s/step - loss: 0.0763 - accuracy: 0.9794 - val_loss: 0.0841 - val_accuracy: 0.9758\n",
      "Epoch 26/100\n",
      "114/114 [==============================] - 151s 1s/step - loss: 0.0802 - accuracy: 0.9769 - val_loss: 0.0826 - val_accuracy: 0.9736\n",
      "Epoch 27/100\n",
      "114/114 [==============================] - 152s 1s/step - loss: 0.0745 - accuracy: 0.9772 - val_loss: 0.0820 - val_accuracy: 0.9780\n",
      "Epoch 28/100\n",
      "114/114 [==============================] - 151s 1s/step - loss: 0.0779 - accuracy: 0.9722 - val_loss: 0.0815 - val_accuracy: 0.9714\n",
      "Epoch 29/100\n",
      "114/114 [==============================] - 151s 1s/step - loss: 0.0726 - accuracy: 0.9748 - val_loss: 0.0827 - val_accuracy: 0.9780\n",
      "Epoch 30/100\n",
      "114/114 [==============================] - 152s 1s/step - loss: 0.0820 - accuracy: 0.9741 - val_loss: 0.0805 - val_accuracy: 0.9780\n",
      "Epoch 31/100\n",
      "114/114 [==============================] - 152s 1s/step - loss: 0.0690 - accuracy: 0.9752 - val_loss: 0.0874 - val_accuracy: 0.9736\n",
      "Epoch 32/100\n",
      "114/114 [==============================] - 152s 1s/step - loss: 0.0741 - accuracy: 0.9717 - val_loss: 0.0793 - val_accuracy: 0.9780\n",
      "Epoch 33/100\n",
      "114/114 [==============================] - 153s 1s/step - loss: 0.0695 - accuracy: 0.9766 - val_loss: 0.0792 - val_accuracy: 0.9758\n",
      "Epoch 34/100\n",
      "114/114 [==============================] - 151s 1s/step - loss: 0.0649 - accuracy: 0.9785 - val_loss: 0.0789 - val_accuracy: 0.9714\n",
      "Epoch 35/100\n",
      "114/114 [==============================] - 152s 1s/step - loss: 0.0773 - accuracy: 0.9721 - val_loss: 0.0784 - val_accuracy: 0.9758\n",
      "Epoch 36/100\n",
      "114/114 [==============================] - 152s 1s/step - loss: 0.0707 - accuracy: 0.9774 - val_loss: 0.0803 - val_accuracy: 0.9780\n",
      "Epoch 37/100\n",
      "114/114 [==============================] - 151s 1s/step - loss: 0.0741 - accuracy: 0.9726 - val_loss: 0.0782 - val_accuracy: 0.9758\n",
      "Epoch 38/100\n",
      "114/114 [==============================] - 152s 1s/step - loss: 0.0643 - accuracy: 0.9817 - val_loss: 0.0791 - val_accuracy: 0.9758\n",
      "Epoch 39/100\n",
      "114/114 [==============================] - 152s 1s/step - loss: 0.0687 - accuracy: 0.9743 - val_loss: 0.0781 - val_accuracy: 0.9780\n",
      "Epoch 40/100\n",
      "114/114 [==============================] - 153s 1s/step - loss: 0.0667 - accuracy: 0.9740 - val_loss: 0.0804 - val_accuracy: 0.9758\n",
      "Epoch 41/100\n",
      "114/114 [==============================] - 155s 1s/step - loss: 0.0737 - accuracy: 0.9679 - val_loss: 0.0777 - val_accuracy: 0.9758\n",
      "Epoch 42/100\n",
      "114/114 [==============================] - 157s 1s/step - loss: 0.0580 - accuracy: 0.9817 - val_loss: 0.0760 - val_accuracy: 0.9780\n",
      "Epoch 43/100\n",
      "114/114 [==============================] - 156s 1s/step - loss: 0.0763 - accuracy: 0.9686 - val_loss: 0.0756 - val_accuracy: 0.9780\n",
      "Epoch 44/100\n",
      "114/114 [==============================] - 155s 1s/step - loss: 0.0564 - accuracy: 0.9800 - val_loss: 0.0776 - val_accuracy: 0.9758\n",
      "Epoch 45/100\n",
      "114/114 [==============================] - 157s 1s/step - loss: 0.0612 - accuracy: 0.9777 - val_loss: 0.0754 - val_accuracy: 0.9758\n",
      "Epoch 46/100\n",
      "114/114 [==============================] - 155s 1s/step - loss: 0.0635 - accuracy: 0.9803 - val_loss: 0.0787 - val_accuracy: 0.9758\n",
      "Epoch 47/100\n",
      "114/114 [==============================] - 154s 1s/step - loss: 0.0598 - accuracy: 0.9794 - val_loss: 0.0778 - val_accuracy: 0.9758\n",
      "Epoch 48/100\n",
      "114/114 [==============================] - 152s 1s/step - loss: 0.0634 - accuracy: 0.9814 - val_loss: 0.0745 - val_accuracy: 0.9780\n",
      "Epoch 49/100\n",
      "114/114 [==============================] - 151s 1s/step - loss: 0.0599 - accuracy: 0.9817 - val_loss: 0.0763 - val_accuracy: 0.9758\n",
      "Epoch 50/100\n",
      "114/114 [==============================] - 153s 1s/step - loss: 0.0610 - accuracy: 0.9810 - val_loss: 0.0751 - val_accuracy: 0.9780\n",
      "Epoch 51/100\n",
      "114/114 [==============================] - 152s 1s/step - loss: 0.0554 - accuracy: 0.9815 - val_loss: 0.0775 - val_accuracy: 0.9758\n",
      "Epoch 52/100\n",
      "114/114 [==============================] - 152s 1s/step - loss: 0.0579 - accuracy: 0.9823 - val_loss: 0.0781 - val_accuracy: 0.9758\n",
      "Epoch 53/100\n",
      "114/114 [==============================] - 153s 1s/step - loss: 0.0632 - accuracy: 0.9795 - val_loss: 0.0797 - val_accuracy: 0.9758\n",
      "Epoch 54/100\n",
      "114/114 [==============================] - 152s 1s/step - loss: 0.0563 - accuracy: 0.9841 - val_loss: 0.0746 - val_accuracy: 0.9758\n",
      "Epoch 55/100\n",
      "114/114 [==============================] - 154s 1s/step - loss: 0.0596 - accuracy: 0.9790 - val_loss: 0.0751 - val_accuracy: 0.9758\n",
      "Epoch 56/100\n",
      "114/114 [==============================] - 154s 1s/step - loss: 0.0523 - accuracy: 0.9837 - val_loss: 0.0720 - val_accuracy: 0.9780\n",
      "Epoch 57/100\n",
      "114/114 [==============================] - 154s 1s/step - loss: 0.0549 - accuracy: 0.9817 - val_loss: 0.0758 - val_accuracy: 0.9758\n",
      "Epoch 58/100\n",
      "114/114 [==============================] - 157s 1s/step - loss: 0.0561 - accuracy: 0.9830 - val_loss: 0.0717 - val_accuracy: 0.9780\n",
      "Epoch 59/100\n",
      "114/114 [==============================] - 156s 1s/step - loss: 0.0645 - accuracy: 0.9748 - val_loss: 0.0711 - val_accuracy: 0.9780\n",
      "Epoch 60/100\n",
      "114/114 [==============================] - 154s 1s/step - loss: 0.0548 - accuracy: 0.9819 - val_loss: 0.0711 - val_accuracy: 0.9780\n",
      "Epoch 61/100\n",
      "114/114 [==============================] - 154s 1s/step - loss: 0.0525 - accuracy: 0.9847 - val_loss: 0.0781 - val_accuracy: 0.9758\n",
      "Epoch 62/100\n",
      "114/114 [==============================] - 157s 1s/step - loss: 0.0597 - accuracy: 0.9773 - val_loss: 0.0723 - val_accuracy: 0.9802\n",
      "Epoch 63/100\n",
      "114/114 [==============================] - 157s 1s/step - loss: 0.0566 - accuracy: 0.9834 - val_loss: 0.0703 - val_accuracy: 0.9780\n",
      "Epoch 64/100\n",
      "114/114 [==============================] - 162s 1s/step - loss: 0.0513 - accuracy: 0.9817 - val_loss: 0.0726 - val_accuracy: 0.9780\n",
      "Epoch 65/100\n",
      "114/114 [==============================] - 156s 1s/step - loss: 0.0544 - accuracy: 0.9806 - val_loss: 0.0702 - val_accuracy: 0.9780\n",
      "Epoch 66/100\n",
      "114/114 [==============================] - 156s 1s/step - loss: 0.0657 - accuracy: 0.9756 - val_loss: 0.0705 - val_accuracy: 0.9802\n",
      "Epoch 67/100\n",
      "114/114 [==============================] - 156s 1s/step - loss: 0.0517 - accuracy: 0.9851 - val_loss: 0.0743 - val_accuracy: 0.9758\n",
      "Epoch 68/100\n",
      "114/114 [==============================] - 156s 1s/step - loss: 0.0555 - accuracy: 0.9821 - val_loss: 0.0694 - val_accuracy: 0.9802\n",
      "Epoch 69/100\n",
      "114/114 [==============================] - 155s 1s/step - loss: 0.0612 - accuracy: 0.9766 - val_loss: 0.0716 - val_accuracy: 0.9780\n",
      "Epoch 70/100\n",
      "114/114 [==============================] - 156s 1s/step - loss: 0.0560 - accuracy: 0.9832 - val_loss: 0.0707 - val_accuracy: 0.9802\n",
      "Epoch 71/100\n",
      "114/114 [==============================] - 156s 1s/step - loss: 0.0571 - accuracy: 0.9822 - val_loss: 0.0740 - val_accuracy: 0.9758\n",
      "Epoch 72/100\n",
      "114/114 [==============================] - 157s 1s/step - loss: 0.0610 - accuracy: 0.9773 - val_loss: 0.0689 - val_accuracy: 0.9802\n",
      "Epoch 73/100\n",
      "114/114 [==============================] - 155s 1s/step - loss: 0.0581 - accuracy: 0.9820 - val_loss: 0.0695 - val_accuracy: 0.9802\n",
      "Epoch 74/100\n",
      "114/114 [==============================] - 156s 1s/step - loss: 0.0497 - accuracy: 0.9805 - val_loss: 0.0709 - val_accuracy: 0.9802\n",
      "Epoch 75/100\n",
      "114/114 [==============================] - 156s 1s/step - loss: 0.0541 - accuracy: 0.9809 - val_loss: 0.0717 - val_accuracy: 0.9780\n",
      "Epoch 76/100\n",
      "114/114 [==============================] - 156s 1s/step - loss: 0.0509 - accuracy: 0.9846 - val_loss: 0.0682 - val_accuracy: 0.9780\n",
      "Epoch 77/100\n",
      "114/114 [==============================] - 155s 1s/step - loss: 0.0552 - accuracy: 0.9804 - val_loss: 0.0679 - val_accuracy: 0.9780\n",
      "Epoch 78/100\n",
      "114/114 [==============================] - 156s 1s/step - loss: 0.0523 - accuracy: 0.9818 - val_loss: 0.0697 - val_accuracy: 0.9802\n",
      "Epoch 79/100\n",
      "114/114 [==============================] - 156s 1s/step - loss: 0.0553 - accuracy: 0.9798 - val_loss: 0.0701 - val_accuracy: 0.9780\n",
      "Epoch 80/100\n",
      "114/114 [==============================] - 157s 1s/step - loss: 0.0455 - accuracy: 0.9860 - val_loss: 0.0718 - val_accuracy: 0.9802\n",
      "Epoch 81/100\n",
      "114/114 [==============================] - 156s 1s/step - loss: 0.0520 - accuracy: 0.9834 - val_loss: 0.0668 - val_accuracy: 0.9802\n",
      "Epoch 82/100\n",
      "114/114 [==============================] - 158s 1s/step - loss: 0.0585 - accuracy: 0.9818 - val_loss: 0.0720 - val_accuracy: 0.9758\n",
      "Epoch 83/100\n",
      "114/114 [==============================] - 156s 1s/step - loss: 0.0491 - accuracy: 0.9817 - val_loss: 0.0681 - val_accuracy: 0.9802\n",
      "Epoch 84/100\n",
      "114/114 [==============================] - 156s 1s/step - loss: 0.0549 - accuracy: 0.9798 - val_loss: 0.0667 - val_accuracy: 0.9802\n",
      "Epoch 85/100\n",
      "114/114 [==============================] - 157s 1s/step - loss: 0.0451 - accuracy: 0.9865 - val_loss: 0.0740 - val_accuracy: 0.9758\n",
      "Epoch 86/100\n",
      "114/114 [==============================] - 159s 1s/step - loss: 0.0500 - accuracy: 0.9846 - val_loss: 0.0706 - val_accuracy: 0.9802\n",
      "Epoch 87/100\n",
      "114/114 [==============================] - 159s 1s/step - loss: 0.0520 - accuracy: 0.9806 - val_loss: 0.0700 - val_accuracy: 0.9780\n",
      "Epoch 88/100\n",
      "114/114 [==============================] - 160s 1s/step - loss: 0.0466 - accuracy: 0.9828 - val_loss: 0.0715 - val_accuracy: 0.9780\n",
      "Epoch 89/100\n",
      "114/114 [==============================] - 157s 1s/step - loss: 0.0525 - accuracy: 0.9803 - val_loss: 0.0685 - val_accuracy: 0.9802\n",
      "Epoch 90/100\n",
      "114/114 [==============================] - 157s 1s/step - loss: 0.0449 - accuracy: 0.9843 - val_loss: 0.0689 - val_accuracy: 0.9802\n",
      "Epoch 91/100\n",
      "114/114 [==============================] - 157s 1s/step - loss: 0.0490 - accuracy: 0.9832 - val_loss: 0.0678 - val_accuracy: 0.9802\n",
      "Epoch 92/100\n",
      "114/114 [==============================] - 159s 1s/step - loss: 0.0503 - accuracy: 0.9848 - val_loss: 0.0711 - val_accuracy: 0.9780\n",
      "Epoch 93/100\n",
      "114/114 [==============================] - 158s 1s/step - loss: 0.0439 - accuracy: 0.9866 - val_loss: 0.0746 - val_accuracy: 0.9758\n",
      "Epoch 94/100\n",
      "114/114 [==============================] - 158s 1s/step - loss: 0.0440 - accuracy: 0.9852 - val_loss: 0.0655 - val_accuracy: 0.9780\n",
      "Epoch 95/100\n",
      "114/114 [==============================] - 157s 1s/step - loss: 0.0554 - accuracy: 0.9778 - val_loss: 0.0682 - val_accuracy: 0.9780\n",
      "Epoch 96/100\n",
      "114/114 [==============================] - 162s 1s/step - loss: 0.0502 - accuracy: 0.9819 - val_loss: 0.0676 - val_accuracy: 0.9780\n",
      "Epoch 97/100\n",
      "114/114 [==============================] - 170s 1s/step - loss: 0.0490 - accuracy: 0.9863 - val_loss: 0.0651 - val_accuracy: 0.9780\n",
      "Epoch 98/100\n",
      "114/114 [==============================] - 167s 1s/step - loss: 0.0462 - accuracy: 0.9843 - val_loss: 0.0652 - val_accuracy: 0.9780\n",
      "Epoch 99/100\n",
      "114/114 [==============================] - 161s 1s/step - loss: 0.0535 - accuracy: 0.9798 - val_loss: 0.0673 - val_accuracy: 0.9802\n",
      "Epoch 100/100\n",
      "114/114 [==============================] - 161s 1s/step - loss: 0.0479 - accuracy: 0.9831 - val_loss: 0.0649 - val_accuracy: 0.9780\n"
     ]
    }
   ],
   "source": [
    "history = final_model.fit_generator(\n",
    "  training_set,\n",
    "  validation_data=val_set,\n",
    "  epochs=100,\n",
    "  steps_per_epoch=len(training_set),\n",
    "  validation_steps=len(val_set)\n",
    ")"
   ]
  },
  {
   "cell_type": "markdown",
   "id": "9f65d7f0",
   "metadata": {
    "id": "wqvMA-ZuKdG6",
    "papermill": {
     "duration": 2.944543,
     "end_time": "2021-09-05T11:05:09.326216",
     "exception": false,
     "start_time": "2021-09-05T11:05:06.381673",
     "status": "completed"
    },
    "tags": []
   },
   "source": [
    "## Testing"
   ]
  },
  {
   "cell_type": "code",
   "execution_count": 11,
   "id": "0950df5d",
   "metadata": {
    "execution": {
     "iopub.execute_input": "2021-09-05T11:05:15.532717Z",
     "iopub.status.busy": "2021-09-05T11:05:15.530892Z",
     "iopub.status.idle": "2021-09-05T11:05:54.906655Z",
     "shell.execute_reply": "2021-09-05T11:05:54.907177Z",
     "shell.execute_reply.started": "2021-09-03T14:07:11.129277Z"
    },
    "id": "Lf56gnUUZ8PB",
    "papermill": {
     "duration": 42.400371,
     "end_time": "2021-09-05T11:05:54.907340",
     "exception": false,
     "start_time": "2021-09-05T11:05:12.506969",
     "status": "completed"
    },
    "tags": []
   },
   "outputs": [
    {
     "name": "stdout",
     "output_type": "stream",
     "text": [
      "Evaluating on test data ....\n",
      "15/15 [==============================] - 37s 3s/step - loss: 0.0514 - accuracy: 0.9824\n",
      "test loss, test acc: [0.051412779837846756, 0.9824175834655762]\n"
     ]
    }
   ],
   "source": [
    "print(\"Evaluating on test data ....\")\n",
    "results = final_model.evaluate(test_set, batch_size=32)\n",
    "print(\"test loss, test acc:\", results)"
   ]
  },
  {
   "cell_type": "markdown",
   "id": "0625a987",
   "metadata": {
    "id": "oAttfdbALKT-",
    "papermill": {
     "duration": 3.072985,
     "end_time": "2021-09-05T11:06:01.119439",
     "exception": false,
     "start_time": "2021-09-05T11:05:58.046454",
     "status": "completed"
    },
    "tags": []
   },
   "source": [
    "## Plotting "
   ]
  },
  {
   "cell_type": "code",
   "execution_count": 12,
   "id": "a804f2fa",
   "metadata": {
    "execution": {
     "iopub.execute_input": "2021-09-05T11:06:07.768081Z",
     "iopub.status.busy": "2021-09-05T11:06:07.767169Z",
     "iopub.status.idle": "2021-09-05T11:06:07.770884Z",
     "shell.execute_reply": "2021-09-05T11:06:07.771284Z",
     "shell.execute_reply.started": "2021-09-03T14:07:34.626995Z"
    },
    "id": "Qdbzj8VlLOGb",
    "papermill": {
     "duration": 3.656514,
     "end_time": "2021-09-05T11:06:07.771439",
     "exception": false,
     "start_time": "2021-09-05T11:06:04.114925",
     "status": "completed"
    },
    "tags": []
   },
   "outputs": [
    {
     "data": {
      "text/plain": [
       "{'loss': [0.3859904706478119,\n",
       "  0.21578852832317352,\n",
       "  0.17461463809013367,\n",
       "  0.1531483232975006,\n",
       "  0.14192667603492737,\n",
       "  0.13017792999744415,\n",
       "  0.1221594586968422,\n",
       "  0.11763015389442444,\n",
       "  0.11642522364854813,\n",
       "  0.10922037065029144,\n",
       "  0.10400226712226868,\n",
       "  0.10151611268520355,\n",
       "  0.10054716467857361,\n",
       "  0.09591518342494965,\n",
       "  0.09729210287332535,\n",
       "  0.08868714421987534,\n",
       "  0.09175536036491394,\n",
       "  0.08747148513793945,\n",
       "  0.08523311465978622,\n",
       "  0.08430158346891403,\n",
       "  0.08491326123476028,\n",
       "  0.0803251713514328,\n",
       "  0.08265376836061478,\n",
       "  0.08077775686979294,\n",
       "  0.07610615342855453,\n",
       "  0.08002129942178726,\n",
       "  0.07476942986249924,\n",
       "  0.07368602603673935,\n",
       "  0.07242786884307861,\n",
       "  0.07263657450675964,\n",
       "  0.07089550048112869,\n",
       "  0.07165936380624771,\n",
       "  0.07026096433401108,\n",
       "  0.07238032668828964,\n",
       "  0.06990307569503784,\n",
       "  0.0709703117609024,\n",
       "  0.06951440125703812,\n",
       "  0.06382209807634354,\n",
       "  0.0700720027089119,\n",
       "  0.06808821111917496,\n",
       "  0.06869866698980331,\n",
       "  0.06729966402053833,\n",
       "  0.06454163789749146,\n",
       "  0.062002409249544144,\n",
       "  0.06380964070558548,\n",
       "  0.0628022849559784,\n",
       "  0.06289765238761902,\n",
       "  0.06164126843214035,\n",
       "  0.062000203877687454,\n",
       "  0.06407821178436279,\n",
       "  0.05719934031367302,\n",
       "  0.06292145699262619,\n",
       "  0.06030323728919029,\n",
       "  0.05884696915745735,\n",
       "  0.05780970677733421,\n",
       "  0.06021915376186371,\n",
       "  0.05908405780792236,\n",
       "  0.05725520849227905,\n",
       "  0.0608023926615715,\n",
       "  0.05736136808991432,\n",
       "  0.05754964053630829,\n",
       "  0.061581917107105255,\n",
       "  0.058863312005996704,\n",
       "  0.05251273512840271,\n",
       "  0.057323750108480453,\n",
       "  0.05953246355056763,\n",
       "  0.05695611983537674,\n",
       "  0.058370258659124374,\n",
       "  0.057836275547742844,\n",
       "  0.05673731118440628,\n",
       "  0.05441563203930855,\n",
       "  0.060294102877378464,\n",
       "  0.05604077875614166,\n",
       "  0.055660344660282135,\n",
       "  0.056338824331760406,\n",
       "  0.054850779473781586,\n",
       "  0.05568515509366989,\n",
       "  0.05391591042280197,\n",
       "  0.054373204708099365,\n",
       "  0.05367784947156906,\n",
       "  0.052786316722631454,\n",
       "  0.05375344678759575,\n",
       "  0.05532847344875336,\n",
       "  0.052971918135881424,\n",
       "  0.049651261419057846,\n",
       "  0.0534382164478302,\n",
       "  0.05422421544790268,\n",
       "  0.05133135989308357,\n",
       "  0.05076837167143822,\n",
       "  0.050989165902137756,\n",
       "  0.05142246186733246,\n",
       "  0.049987319856882095,\n",
       "  0.04946015030145645,\n",
       "  0.048259131610393524,\n",
       "  0.052697304636240005,\n",
       "  0.05039411410689354,\n",
       "  0.05017463490366936,\n",
       "  0.0489344596862793,\n",
       "  0.051588274538517,\n",
       "  0.050702787935733795],\n",
       " 'accuracy': [0.8453721404075623,\n",
       "  0.9365558624267578,\n",
       "  0.9508376717567444,\n",
       "  0.9535841941833496,\n",
       "  0.9555067420005798,\n",
       "  0.9579786062240601,\n",
       "  0.9604504108428955,\n",
       "  0.9634715914726257,\n",
       "  0.9612743854522705,\n",
       "  0.9626476168632507,\n",
       "  0.964844822883606,\n",
       "  0.9686899185180664,\n",
       "  0.965668797492981,\n",
       "  0.9706124663352966,\n",
       "  0.9673166871070862,\n",
       "  0.9730843305587769,\n",
       "  0.9678659439086914,\n",
       "  0.9714364409446716,\n",
       "  0.9739082455635071,\n",
       "  0.9711617827415466,\n",
       "  0.9708871245384216,\n",
       "  0.9752815365791321,\n",
       "  0.9719856977462769,\n",
       "  0.9711617827415466,\n",
       "  0.9772040843963623,\n",
       "  0.9741829037666321,\n",
       "  0.9769294261932373,\n",
       "  0.9761054515838623,\n",
       "  0.9744575619697571,\n",
       "  0.9769294261932373,\n",
       "  0.9755561947822571,\n",
       "  0.9741829037666321,\n",
       "  0.9758307933807373,\n",
       "  0.9741829037666321,\n",
       "  0.9752815365791321,\n",
       "  0.9780279994010925,\n",
       "  0.9769294261932373,\n",
       "  0.9813238382339478,\n",
       "  0.9755561947822571,\n",
       "  0.9752815365791321,\n",
       "  0.9736335873603821,\n",
       "  0.9785773158073425,\n",
       "  0.9755561947822571,\n",
       "  0.9780279994010925,\n",
       "  0.9766547679901123,\n",
       "  0.9802252054214478,\n",
       "  0.9772040843963623,\n",
       "  0.9804998636245728,\n",
       "  0.9802252054214478,\n",
       "  0.9785773158073425,\n",
       "  0.9791266322135925,\n",
       "  0.9780279994010925,\n",
       "  0.9804998636245728,\n",
       "  0.9804998636245728,\n",
       "  0.9807745218276978,\n",
       "  0.9794012904167175,\n",
       "  0.9810491800308228,\n",
       "  0.9813238382339478,\n",
       "  0.9788519740104675,\n",
       "  0.981873095035553,\n",
       "  0.982147753238678,\n",
       "  0.9785773158073425,\n",
       "  0.9813238382339478,\n",
       "  0.982147753238678,\n",
       "  0.9804998636245728,\n",
       "  0.9802252054214478,\n",
       "  0.9810491800308228,\n",
       "  0.9804998636245728,\n",
       "  0.9783026576042175,\n",
       "  0.981873095035553,\n",
       "  0.9840703010559082,\n",
       "  0.9785773158073425,\n",
       "  0.982147753238678,\n",
       "  0.9802252054214478,\n",
       "  0.9796758890151978,\n",
       "  0.983246386051178,\n",
       "  0.9799505472183228,\n",
       "  0.9791266322135925,\n",
       "  0.9807745218276978,\n",
       "  0.982697069644928,\n",
       "  0.9813238382339478,\n",
       "  0.981598436832428,\n",
       "  0.9799505472183228,\n",
       "  0.9813238382339478,\n",
       "  0.9835209846496582,\n",
       "  0.983246386051178,\n",
       "  0.9796758890151978,\n",
       "  0.982971727848053,\n",
       "  0.982422411441803,\n",
       "  0.982971727848053,\n",
       "  0.9813238382339478,\n",
       "  0.9837956428527832,\n",
       "  0.983246386051178,\n",
       "  0.982971727848053,\n",
       "  0.9802252054214478,\n",
       "  0.9835209846496582,\n",
       "  0.9843449592590332,\n",
       "  0.9837956428527832,\n",
       "  0.982147753238678,\n",
       "  0.981598436832428],\n",
       " 'val_loss': [0.24907304346561432,\n",
       "  0.17241734266281128,\n",
       "  0.16700030863285065,\n",
       "  0.131139874458313,\n",
       "  0.12601874768733978,\n",
       "  0.11501336097717285,\n",
       "  0.11062297970056534,\n",
       "  0.10790283977985382,\n",
       "  0.11351416260004044,\n",
       "  0.10236764699220657,\n",
       "  0.10157658159732819,\n",
       "  0.0980512797832489,\n",
       "  0.09413603693246841,\n",
       "  0.09274251013994217,\n",
       "  0.09331109374761581,\n",
       "  0.09407846629619598,\n",
       "  0.09045396000146866,\n",
       "  0.08844055235385895,\n",
       "  0.09516700357198715,\n",
       "  0.08589451014995575,\n",
       "  0.0964922234416008,\n",
       "  0.08484901487827301,\n",
       "  0.08398151397705078,\n",
       "  0.08371437340974808,\n",
       "  0.08412778377532959,\n",
       "  0.08264575153589249,\n",
       "  0.08198957145214081,\n",
       "  0.08152524381875992,\n",
       "  0.08269914239645004,\n",
       "  0.08045712113380432,\n",
       "  0.08737082034349442,\n",
       "  0.07932215929031372,\n",
       "  0.07921995967626572,\n",
       "  0.07889413833618164,\n",
       "  0.07836100459098816,\n",
       "  0.08030156046152115,\n",
       "  0.07817620784044266,\n",
       "  0.07911798357963562,\n",
       "  0.07807081192731857,\n",
       "  0.08044020086526871,\n",
       "  0.07767939567565918,\n",
       "  0.07600390911102295,\n",
       "  0.07562106847763062,\n",
       "  0.07763898372650146,\n",
       "  0.07537323981523514,\n",
       "  0.07865733653306961,\n",
       "  0.07781843096017838,\n",
       "  0.0744965672492981,\n",
       "  0.07634415477514267,\n",
       "  0.0750579759478569,\n",
       "  0.07750242948532104,\n",
       "  0.07808767259120941,\n",
       "  0.07971576601266861,\n",
       "  0.0745815858244896,\n",
       "  0.07509491592645645,\n",
       "  0.07198087126016617,\n",
       "  0.07578538358211517,\n",
       "  0.07167360931634903,\n",
       "  0.07105274498462677,\n",
       "  0.07110805064439774,\n",
       "  0.0781238004565239,\n",
       "  0.07227053493261337,\n",
       "  0.070317842066288,\n",
       "  0.07258448004722595,\n",
       "  0.07021907716989517,\n",
       "  0.0705125480890274,\n",
       "  0.07431241869926453,\n",
       "  0.06944551318883896,\n",
       "  0.0716097354888916,\n",
       "  0.07070223987102509,\n",
       "  0.07396124303340912,\n",
       "  0.06885074824094772,\n",
       "  0.06950853765010834,\n",
       "  0.07086750864982605,\n",
       "  0.07168807089328766,\n",
       "  0.06816256791353226,\n",
       "  0.06787008047103882,\n",
       "  0.06969329714775085,\n",
       "  0.0700550526380539,\n",
       "  0.07176532596349716,\n",
       "  0.06678973138332367,\n",
       "  0.07198218256235123,\n",
       "  0.0681108757853508,\n",
       "  0.06665284931659698,\n",
       "  0.07401012629270554,\n",
       "  0.07059875130653381,\n",
       "  0.06999451667070389,\n",
       "  0.07147888839244843,\n",
       "  0.06849366426467896,\n",
       "  0.06893889605998993,\n",
       "  0.0677717849612236,\n",
       "  0.07114288210868835,\n",
       "  0.07462774217128754,\n",
       "  0.0655016228556633,\n",
       "  0.06820473074913025,\n",
       "  0.06761420518159866,\n",
       "  0.06507867574691772,\n",
       "  0.06519605964422226,\n",
       "  0.06728847324848175,\n",
       "  0.0649414211511612],\n",
       " 'val_accuracy': [0.9538461565971375,\n",
       "  0.9560439586639404,\n",
       "  0.9538461565971375,\n",
       "  0.9648351669311523,\n",
       "  0.9582417607307434,\n",
       "  0.9692307710647583,\n",
       "  0.9604395627975464,\n",
       "  0.9626373648643494,\n",
       "  0.9648351669311523,\n",
       "  0.9670329689979553,\n",
       "  0.9670329689979553,\n",
       "  0.9670329689979553,\n",
       "  0.9714285731315613,\n",
       "  0.9648351669311523,\n",
       "  0.9714285731315613,\n",
       "  0.9714285731315613,\n",
       "  0.9692307710647583,\n",
       "  0.9692307710647583,\n",
       "  0.9692307710647583,\n",
       "  0.9714285731315613,\n",
       "  0.9670329689979553,\n",
       "  0.9736263751983643,\n",
       "  0.9714285731315613,\n",
       "  0.9736263751983643,\n",
       "  0.9758241772651672,\n",
       "  0.9736263751983643,\n",
       "  0.9780219793319702,\n",
       "  0.9714285731315613,\n",
       "  0.9780219793319702,\n",
       "  0.9780219793319702,\n",
       "  0.9736263751983643,\n",
       "  0.9780219793319702,\n",
       "  0.9758241772651672,\n",
       "  0.9714285731315613,\n",
       "  0.9758241772651672,\n",
       "  0.9780219793319702,\n",
       "  0.9758241772651672,\n",
       "  0.9758241772651672,\n",
       "  0.9780219793319702,\n",
       "  0.9758241772651672,\n",
       "  0.9758241772651672,\n",
       "  0.9780219793319702,\n",
       "  0.9780219793319702,\n",
       "  0.9758241772651672,\n",
       "  0.9758241772651672,\n",
       "  0.9758241772651672,\n",
       "  0.9758241772651672,\n",
       "  0.9780219793319702,\n",
       "  0.9758241772651672,\n",
       "  0.9780219793319702,\n",
       "  0.9758241772651672,\n",
       "  0.9758241772651672,\n",
       "  0.9758241772651672,\n",
       "  0.9758241772651672,\n",
       "  0.9758241772651672,\n",
       "  0.9780219793319702,\n",
       "  0.9758241772651672,\n",
       "  0.9780219793319702,\n",
       "  0.9780219793319702,\n",
       "  0.9780219793319702,\n",
       "  0.9758241772651672,\n",
       "  0.9802197813987732,\n",
       "  0.9780219793319702,\n",
       "  0.9780219793319702,\n",
       "  0.9780219793319702,\n",
       "  0.9802197813987732,\n",
       "  0.9758241772651672,\n",
       "  0.9802197813987732,\n",
       "  0.9780219793319702,\n",
       "  0.9802197813987732,\n",
       "  0.9758241772651672,\n",
       "  0.9802197813987732,\n",
       "  0.9802197813987732,\n",
       "  0.9802197813987732,\n",
       "  0.9780219793319702,\n",
       "  0.9780219793319702,\n",
       "  0.9780219793319702,\n",
       "  0.9802197813987732,\n",
       "  0.9780219793319702,\n",
       "  0.9802197813987732,\n",
       "  0.9802197813987732,\n",
       "  0.9758241772651672,\n",
       "  0.9802197813987732,\n",
       "  0.9802197813987732,\n",
       "  0.9758241772651672,\n",
       "  0.9802197813987732,\n",
       "  0.9780219793319702,\n",
       "  0.9780219793319702,\n",
       "  0.9802197813987732,\n",
       "  0.9802197813987732,\n",
       "  0.9802197813987732,\n",
       "  0.9780219793319702,\n",
       "  0.9758241772651672,\n",
       "  0.9780219793319702,\n",
       "  0.9780219793319702,\n",
       "  0.9780219793319702,\n",
       "  0.9780219793319702,\n",
       "  0.9780219793319702,\n",
       "  0.9802197813987732,\n",
       "  0.9780219793319702]}"
      ]
     },
     "execution_count": 12,
     "metadata": {},
     "output_type": "execute_result"
    }
   ],
   "source": [
    "history.history"
   ]
  },
  {
   "cell_type": "markdown",
   "id": "42733121",
   "metadata": {
    "id": "_6YrqxNiK74j",
    "papermill": {
     "duration": 2.969982,
     "end_time": "2021-09-05T11:06:13.755200",
     "exception": false,
     "start_time": "2021-09-05T11:06:10.785218",
     "status": "completed"
    },
    "tags": []
   },
   "source": [
    "### Accuracy vs Epochs"
   ]
  },
  {
   "cell_type": "code",
   "execution_count": 13,
   "id": "ee9a95fa",
   "metadata": {
    "execution": {
     "iopub.execute_input": "2021-09-05T11:06:20.033690Z",
     "iopub.status.busy": "2021-09-05T11:06:20.032772Z",
     "iopub.status.idle": "2021-09-05T11:06:20.167634Z",
     "shell.execute_reply": "2021-09-05T11:06:20.168045Z",
     "shell.execute_reply.started": "2021-09-03T14:07:34.646009Z"
    },
    "id": "sdB7_fjsaa5z",
    "papermill": {
     "duration": 3.193027,
     "end_time": "2021-09-05T11:06:20.168182",
     "exception": false,
     "start_time": "2021-09-05T11:06:16.975155",
     "status": "completed"
    },
    "tags": []
   },
   "outputs": [
    {
     "data": {
      "image/png": "[encoded data removed]",
      "text/plain": [
       "<Figure size 432x288 with 1 Axes>"
      ]
     },
     "metadata": {
      "needs_background": "light"
     },
     "output_type": "display_data"
    }
   ],
   "source": [
    "plt.plot(history.history['accuracy'])\n",
    "plt.plot(history.history['val_accuracy'])\n",
    "plt.title('model accuracy')\n",
    "plt.ylabel('accuracy')\n",
    "plt.xlabel('epoch')\n",
    "plt.legend(['train', 'test'], loc='upper left')\n",
    "plt.show()\n"
   ]
  },
  {
   "cell_type": "markdown",
   "id": "2a7542ca",
   "metadata": {
    "id": "2Y77bbOVLAhu",
    "papermill": {
     "duration": 3.004116,
     "end_time": "2021-09-05T11:06:26.142463",
     "exception": false,
     "start_time": "2021-09-05T11:06:23.138347",
     "status": "completed"
    },
    "tags": []
   },
   "source": [
    "### Loss vs Epochs"
   ]
  },
  {
   "cell_type": "code",
   "execution_count": 14,
   "id": "977a321c",
   "metadata": {
    "execution": {
     "iopub.execute_input": "2021-09-05T11:06:32.461980Z",
     "iopub.status.busy": "2021-09-05T11:06:32.461023Z",
     "iopub.status.idle": "2021-09-05T11:06:32.578334Z",
     "shell.execute_reply": "2021-09-05T11:06:32.578749Z",
     "shell.execute_reply.started": "2021-09-03T14:07:34.831244Z"
    },
    "id": "_GV-kvZqKydx",
    "papermill": {
     "duration": 3.167069,
     "end_time": "2021-09-05T11:06:32.578890",
     "exception": false,
     "start_time": "2021-09-05T11:06:29.411821",
     "status": "completed"
    },
    "tags": []
   },
   "outputs": [
    {
     "data": {
      "image/png": "[encoded data removed]",
      "text/plain": [
       "<Figure size 432x288 with 1 Axes>"
      ]
     },
     "metadata": {
      "needs_background": "light"
     },
     "output_type": "display_data"
    }
   ],
   "source": [
    "plt.plot(history.history['loss'])\n",
    "plt.plot(history.history['val_loss'])\n",
    "plt.title('model loss')\n",
    "plt.ylabel('loss')\n",
    "plt.xlabel('epoch')\n",
    "plt.legend(['train', 'test'], loc='upper left')\n",
    "plt.show()"
   ]
  }
 ],
 "metadata": {
  "kernelspec": {
   "display_name": "Python 3",
   "language": "python",
   "name": "python3"
  },
  "language_info": {
   "codemirror_mode": {
    "name": "ipython",
    "version": 3
   },
   "file_extension": ".py",
   "mimetype": "text/x-python",
   "name": "python",
   "nbconvert_exporter": "python",
   "pygments_lexer": "ipython3",
   "version": "3.7.10"
  },
  "papermill": {
   "default_parameters": {},
   "duration": 15653.433611,
   "end_time": "2021-09-05T11:06:38.565871",
   "environment_variables": {},
   "exception": null,
   "input_path": "__notebook__.ipynb",
   "output_path": "__notebook__.ipynb",
   "parameters": {},
   "start_time": "2021-09-05T06:45:45.132260",
   "version": "2.3.3"
  }
 },
 "nbformat": 4,
 "nbformat_minor": 5
}
