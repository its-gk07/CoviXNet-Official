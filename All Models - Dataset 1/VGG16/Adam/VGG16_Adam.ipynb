{
 "cells": [
  {
   "cell_type": "markdown",
   "id": "0d52c919",
   "metadata": {
    "id": "9Dg7bhcMQjrx",
    "papermill": {
     "duration": 0.035604,
     "end_time": "2021-09-04T15:41:35.040207",
     "exception": false,
     "start_time": "2021-09-04T15:41:35.004603",
     "status": "completed"
    },
    "tags": []
   },
   "source": [
    "# Complete Notebook"
   ]
  },
  {
   "cell_type": "markdown",
   "id": "e387e338",
   "metadata": {
    "id": "jG_5SoNmSwPc",
    "papermill": {
     "duration": 0.036608,
     "end_time": "2021-09-04T15:41:35.106672",
     "exception": false,
     "start_time": "2021-09-04T15:41:35.070064",
     "status": "completed"
    },
    "tags": []
   },
   "source": [
    "## Importing Libraries"
   ]
  },
  {
   "cell_type": "code",
   "execution_count": 1,
   "id": "d8058659",
   "metadata": {
    "execution": {
     "iopub.execute_input": "2021-09-04T15:41:35.215316Z",
     "iopub.status.busy": "2021-09-04T15:41:35.213463Z",
     "iopub.status.idle": "2021-09-04T15:41:35.337822Z",
     "shell.execute_reply": "2021-09-04T15:41:35.339206Z",
     "shell.execute_reply.started": "2021-09-03T09:36:50.027146Z"
    },
    "id": "QwAtFRvYQpDm",
    "papermill": {
     "duration": 0.195091,
     "end_time": "2021-09-04T15:41:35.339672",
     "exception": false,
     "start_time": "2021-09-04T15:41:35.144581",
     "status": "completed"
    },
    "tags": []
   },
   "outputs": [],
   "source": [
    "import warnings\n",
    "warnings.filterwarnings('ignore')"
   ]
  },
  {
   "cell_type": "code",
   "execution_count": 2,
   "id": "4fa17048",
   "metadata": {
    "execution": {
     "iopub.execute_input": "2021-09-04T15:41:35.415007Z",
     "iopub.status.busy": "2021-09-04T15:41:35.413988Z",
     "iopub.status.idle": "2021-09-04T15:41:40.801684Z",
     "shell.execute_reply": "2021-09-04T15:41:40.800771Z",
     "shell.execute_reply.started": "2021-09-03T09:36:50.645719Z"
    },
    "id": "q-CIsMW9QtQm",
    "papermill": {
     "duration": 5.429701,
     "end_time": "2021-09-04T15:41:40.801855",
     "exception": false,
     "start_time": "2021-09-04T15:41:35.372154",
     "status": "completed"
    },
    "tags": []
   },
   "outputs": [],
   "source": [
    "from tensorflow import keras\n",
    "from keras.layers import Input, Lambda, Dense, Flatten, Dropout\n",
    "from keras.models import Model\n",
    "from tensorflow.keras.applications.resnet import ResNet152\n",
    "from keras.preprocessing import image\n",
    "from keras.applications.vgg16 import VGG16\n",
    "from keras.applications.vgg16 import preprocess_input\n",
    "from keras.applications.vgg19 import VGG19\n",
    "from keras.applications.vgg19 import preprocess_input\n",
    "from keras.preprocessing.image import ImageDataGenerator\n",
    "from keras.models import Sequential\n",
    "import numpy as np\n",
    "from glob import glob\n",
    "import matplotlib.pyplot as plt\n",
    "%matplotlib inline "
   ]
  },
  {
   "cell_type": "markdown",
   "id": "428b019e",
   "metadata": {
    "id": "xs6p7RMOciNF",
    "papermill": {
     "duration": 0.019168,
     "end_time": "2021-09-04T15:41:40.839658",
     "exception": false,
     "start_time": "2021-09-04T15:41:40.820490",
     "status": "completed"
    },
    "tags": []
   },
   "source": [
    "## Initializing Parameters"
   ]
  },
  {
   "cell_type": "code",
   "execution_count": 3,
   "id": "25f8ac0a",
   "metadata": {
    "execution": {
     "iopub.execute_input": "2021-09-04T15:41:40.881693Z",
     "iopub.status.busy": "2021-09-04T15:41:40.880550Z",
     "iopub.status.idle": "2021-09-04T15:41:40.883853Z",
     "shell.execute_reply": "2021-09-04T15:41:40.884436Z",
     "shell.execute_reply.started": "2021-09-03T09:37:48.845787Z"
    },
    "id": "fiLzfiHJQyFv",
    "papermill": {
     "duration": 0.027224,
     "end_time": "2021-09-04T15:41:40.884579",
     "exception": false,
     "start_time": "2021-09-04T15:41:40.857355",
     "status": "completed"
    },
    "tags": []
   },
   "outputs": [],
   "source": [
    "IMAGE_SIZE = [224,224, 3]\n",
    "\n",
    "train_path = '/kaggle/input/covid19-chest-xray-processed-dataset/Dataset/Train'\n",
    "test_path = '/kaggle/input/covid19-chest-xray-processed-dataset/Dataset/Test'\n",
    "val_path = '/kaggle/input/covid19-chest-xray-processed-dataset/Dataset/Val'"
   ]
  },
  {
   "cell_type": "markdown",
   "id": "cab3b6e0",
   "metadata": {
    "id": "C9swfxvUcwfb",
    "papermill": {
     "duration": 0.019173,
     "end_time": "2021-09-04T15:41:40.922407",
     "exception": false,
     "start_time": "2021-09-04T15:41:40.903234",
     "status": "completed"
    },
    "tags": []
   },
   "source": [
    "## Data Augmentation"
   ]
  },
  {
   "cell_type": "code",
   "execution_count": 4,
   "id": "7faf2815",
   "metadata": {
    "execution": {
     "iopub.execute_input": "2021-09-04T15:41:40.967475Z",
     "iopub.status.busy": "2021-09-04T15:41:40.966823Z",
     "iopub.status.idle": "2021-09-04T15:41:47.105459Z",
     "shell.execute_reply": "2021-09-04T15:41:47.104769Z",
     "shell.execute_reply.started": "2021-09-03T09:37:48.852449Z"
    },
    "id": "YiRQm0hvcsmB",
    "outputId": "0a0afb85-2a97-445e-ccfb-7facbfa29e09",
    "papermill": {
     "duration": 6.164779,
     "end_time": "2021-09-04T15:41:47.105624",
     "exception": false,
     "start_time": "2021-09-04T15:41:40.940845",
     "status": "completed"
    },
    "tags": []
   },
   "outputs": [
    {
     "name": "stdout",
     "output_type": "stream",
     "text": [
      "Found 3641 images belonging to 2 classes.\n",
      "Found 455 images belonging to 2 classes.\n",
      "Found 455 images belonging to 2 classes.\n"
     ]
    }
   ],
   "source": [
    "train_datagen = ImageDataGenerator(rescale = 1./255,\n",
    "                                   shear_range = 0.2,\n",
    "                                   zoom_range = 0.2,\n",
    "                                   horizontal_flip = True)\n",
    "\n",
    "test_datagen = ImageDataGenerator(rescale = 1./255)\n",
    "val_datagen = ImageDataGenerator(rescale = 1./255)\n",
    "\n",
    "\n",
    "\n",
    "\n",
    "# Make sure you provide the same target size as initialied for the image size\n",
    "training_set = train_datagen.flow_from_directory('/kaggle/input/covid19-chest-xray-processed-dataset/Dataset/Train',\n",
    "                                                 target_size = (224,224),\n",
    "                                                 batch_size = 32,\n",
    "                                                 class_mode = 'categorical')\n",
    "\n",
    "\n",
    "test_set = test_datagen.flow_from_directory('/kaggle/input/covid19-chest-xray-processed-dataset/Dataset/Test',\n",
    "                                            target_size = (224,224),\n",
    "                                            batch_size = 32,\n",
    "                                            class_mode = 'categorical')\n",
    "\n",
    "\n",
    "val_set = test_datagen.flow_from_directory('/kaggle/input/covid19-chest-xray-processed-dataset/Dataset/Val',\n",
    "                                            target_size = (224,224),\n",
    "                                            batch_size = 32,\n",
    "                                            class_mode = 'categorical')"
   ]
  },
  {
   "cell_type": "markdown",
   "id": "44eceb04",
   "metadata": {
    "id": "eyh24sefc22K",
    "papermill": {
     "duration": 0.019709,
     "end_time": "2021-09-04T15:41:47.144433",
     "exception": false,
     "start_time": "2021-09-04T15:41:47.124724",
     "status": "completed"
    },
    "tags": []
   },
   "source": [
    "## VGG16"
   ]
  },
  {
   "cell_type": "code",
   "execution_count": 5,
   "id": "ea4f2784",
   "metadata": {
    "execution": {
     "iopub.execute_input": "2021-09-04T15:41:47.191407Z",
     "iopub.status.busy": "2021-09-04T15:41:47.190740Z",
     "iopub.status.idle": "2021-09-04T15:41:50.975457Z",
     "shell.execute_reply": "2021-09-04T15:41:50.974846Z",
     "shell.execute_reply.started": "2021-09-03T09:37:54.165941Z"
    },
    "id": "M_hmEZCZUETs",
    "outputId": "a58a8249-d7de-4374-8364-df5be813d2f7",
    "papermill": {
     "duration": 3.811957,
     "end_time": "2021-09-04T15:41:50.975706",
     "exception": false,
     "start_time": "2021-09-04T15:41:47.163749",
     "status": "completed"
    },
    "tags": []
   },
   "outputs": [
    {
     "name": "stdout",
     "output_type": "stream",
     "text": [
      "Downloading data from https://storage.googleapis.com/tensorflow/keras-applications/vgg16/vgg16_weights_tf_dim_ordering_tf_kernels_notop.h5\n",
      "58892288/58889256 [==============================] - 1s 0us/step\n"
     ]
    }
   ],
   "source": [
    "base_model_vgg16 = VGG16(input_shape=IMAGE_SIZE, weights='imagenet', include_top=False, pooling='max')"
   ]
  },
  {
   "cell_type": "code",
   "execution_count": 6,
   "id": "9e3a1986",
   "metadata": {
    "execution": {
     "iopub.execute_input": "2021-09-04T15:41:51.032037Z",
     "iopub.status.busy": "2021-09-04T15:41:51.029871Z",
     "iopub.status.idle": "2021-09-04T15:41:51.032926Z",
     "shell.execute_reply": "2021-09-04T15:41:51.033486Z",
     "shell.execute_reply.started": "2021-09-03T09:38:07.558561Z"
    },
    "id": "kP16aMjdUJUf",
    "papermill": {
     "duration": 0.032908,
     "end_time": "2021-09-04T15:41:51.033640",
     "exception": false,
     "start_time": "2021-09-04T15:41:51.000732",
     "status": "completed"
    },
    "tags": []
   },
   "outputs": [],
   "source": [
    "for layer in base_model_vgg16.layers:\n",
    "    layer.trainable = False"
   ]
  },
  {
   "cell_type": "markdown",
   "id": "338aba0f",
   "metadata": {
    "id": "QvKCywVUdZSu",
    "papermill": {
     "duration": 0.024907,
     "end_time": "2021-09-04T15:41:51.081765",
     "exception": false,
     "start_time": "2021-09-04T15:41:51.056858",
     "status": "completed"
    },
    "tags": []
   },
   "source": [
    "## Building Model"
   ]
  },
  {
   "cell_type": "code",
   "execution_count": 7,
   "id": "a1c6906e",
   "metadata": {
    "execution": {
     "iopub.execute_input": "2021-09-04T15:41:51.137262Z",
     "iopub.status.busy": "2021-09-04T15:41:51.135395Z",
     "iopub.status.idle": "2021-09-04T15:41:51.156332Z",
     "shell.execute_reply": "2021-09-04T15:41:51.155129Z",
     "shell.execute_reply.started": "2021-09-03T09:38:08.755612Z"
    },
    "id": "h7Al-lBKVRYs",
    "papermill": {
     "duration": 0.051046,
     "end_time": "2021-09-04T15:41:51.156464",
     "exception": false,
     "start_time": "2021-09-04T15:41:51.105418",
     "status": "completed"
    },
    "tags": []
   },
   "outputs": [],
   "source": [
    "x = base_model_vgg16.output\n",
    "x = Flatten()(x)\n",
    "prediction = Dense(2, activation='softmax')(x)\n",
    "final_model = Model(inputs=base_model_vgg16.input, outputs=prediction)"
   ]
  },
  {
   "cell_type": "code",
   "execution_count": 8,
   "id": "293dc0ad",
   "metadata": {
    "execution": {
     "iopub.execute_input": "2021-09-04T15:41:51.219058Z",
     "iopub.status.busy": "2021-09-04T15:41:51.217867Z",
     "iopub.status.idle": "2021-09-04T15:41:51.225259Z",
     "shell.execute_reply": "2021-09-04T15:41:51.224638Z",
     "shell.execute_reply.started": "2021-09-03T09:38:12.106834Z"
    },
    "id": "onWkMLGkVj_x",
    "papermill": {
     "duration": 0.044502,
     "end_time": "2021-09-04T15:41:51.225397",
     "exception": false,
     "start_time": "2021-09-04T15:41:51.180895",
     "status": "completed"
    },
    "tags": []
   },
   "outputs": [],
   "source": [
    "final_model.compile(\n",
    "  loss='categorical_crossentropy',\n",
    "  optimizer='Adam',\n",
    "  metrics=['accuracy']\n",
    ")"
   ]
  },
  {
   "cell_type": "code",
   "execution_count": 9,
   "id": "a9dd9f5a",
   "metadata": {
    "execution": {
     "iopub.execute_input": "2021-09-04T15:41:51.284829Z",
     "iopub.status.busy": "2021-09-04T15:41:51.283861Z",
     "iopub.status.idle": "2021-09-04T15:41:51.295250Z",
     "shell.execute_reply": "2021-09-04T15:41:51.294552Z",
     "shell.execute_reply.started": "2021-09-03T09:38:13.315629Z"
    },
    "id": "i267lbE_GWCn",
    "outputId": "2f94956f-25c0-4064-d847-0b1cc481c8da",
    "papermill": {
     "duration": 0.046585,
     "end_time": "2021-09-04T15:41:51.295383",
     "exception": false,
     "start_time": "2021-09-04T15:41:51.248798",
     "status": "completed"
    },
    "tags": []
   },
   "outputs": [
    {
     "name": "stdout",
     "output_type": "stream",
     "text": [
      "Model: \"model\"\n",
      "_________________________________________________________________\n",
      "Layer (type)                 Output Shape              Param #   \n",
      "=================================================================\n",
      "input_1 (InputLayer)         [(None, 224, 224, 3)]     0         \n",
      "_________________________________________________________________\n",
      "block1_conv1 (Conv2D)        (None, 224, 224, 64)      1792      \n",
      "_________________________________________________________________\n",
      "block1_conv2 (Conv2D)        (None, 224, 224, 64)      36928     \n",
      "_________________________________________________________________\n",
      "block1_pool (MaxPooling2D)   (None, 112, 112, 64)      0         \n",
      "_________________________________________________________________\n",
      "block2_conv1 (Conv2D)        (None, 112, 112, 128)     73856     \n",
      "_________________________________________________________________\n",
      "block2_conv2 (Conv2D)        (None, 112, 112, 128)     147584    \n",
      "_________________________________________________________________\n",
      "block2_pool (MaxPooling2D)   (None, 56, 56, 128)       0         \n",
      "_________________________________________________________________\n",
      "block3_conv1 (Conv2D)        (None, 56, 56, 256)       295168    \n",
      "_________________________________________________________________\n",
      "block3_conv2 (Conv2D)        (None, 56, 56, 256)       590080    \n",
      "_________________________________________________________________\n",
      "block3_conv3 (Conv2D)        (None, 56, 56, 256)       590080    \n",
      "_________________________________________________________________\n",
      "block3_pool (MaxPooling2D)   (None, 28, 28, 256)       0         \n",
      "_________________________________________________________________\n",
      "block4_conv1 (Conv2D)        (None, 28, 28, 512)       1180160   \n",
      "_________________________________________________________________\n",
      "block4_conv2 (Conv2D)        (None, 28, 28, 512)       2359808   \n",
      "_________________________________________________________________\n",
      "block4_conv3 (Conv2D)        (None, 28, 28, 512)       2359808   \n",
      "_________________________________________________________________\n",
      "block4_pool (MaxPooling2D)   (None, 14, 14, 512)       0         \n",
      "_________________________________________________________________\n",
      "block5_conv1 (Conv2D)        (None, 14, 14, 512)       2359808   \n",
      "_________________________________________________________________\n",
      "block5_conv2 (Conv2D)        (None, 14, 14, 512)       2359808   \n",
      "_________________________________________________________________\n",
      "block5_conv3 (Conv2D)        (None, 14, 14, 512)       2359808   \n",
      "_________________________________________________________________\n",
      "block5_pool (MaxPooling2D)   (None, 7, 7, 512)         0         \n",
      "_________________________________________________________________\n",
      "global_max_pooling2d (Global (None, 512)               0         \n",
      "_________________________________________________________________\n",
      "flatten (Flatten)            (None, 512)               0         \n",
      "_________________________________________________________________\n",
      "dense (Dense)                (None, 2)                 1026      \n",
      "=================================================================\n",
      "Total params: 14,715,714\n",
      "Trainable params: 1,026\n",
      "Non-trainable params: 14,714,688\n",
      "_________________________________________________________________\n"
     ]
    }
   ],
   "source": [
    "final_model.summary()"
   ]
  },
  {
   "cell_type": "markdown",
   "id": "1d91024c",
   "metadata": {
    "id": "UrGXm4MkKIr7",
    "papermill": {
     "duration": 0.024483,
     "end_time": "2021-09-04T15:41:51.344171",
     "exception": false,
     "start_time": "2021-09-04T15:41:51.319688",
     "status": "completed"
    },
    "tags": []
   },
   "source": [
    "## Training"
   ]
  },
  {
   "cell_type": "code",
   "execution_count": 10,
   "id": "52ff8694",
   "metadata": {
    "execution": {
     "iopub.execute_input": "2021-09-04T15:41:51.399178Z",
     "iopub.status.busy": "2021-09-04T15:41:51.398335Z",
     "iopub.status.idle": "2021-09-04T20:21:57.272498Z",
     "shell.execute_reply": "2021-09-04T20:21:57.273393Z",
     "shell.execute_reply.started": "2021-09-03T09:38:13.3908Z"
    },
    "id": "T7LwpawHGgs6",
    "outputId": "80e6e6ed-18ce-4cfc-f0ba-d93b25d41615",
    "papermill": {
     "duration": 16805.903957,
     "end_time": "2021-09-04T20:21:57.273587",
     "exception": false,
     "start_time": "2021-09-04T15:41:51.369630",
     "status": "completed"
    },
    "tags": []
   },
   "outputs": [
    {
     "name": "stdout",
     "output_type": "stream",
     "text": [
      "Epoch 1/100\n",
      "114/114 [==============================] - 256s 2s/step - loss: 0.4361 - accuracy: 0.7959 - val_loss: 0.1751 - val_accuracy: 0.9604\n",
      "Epoch 2/100\n",
      "114/114 [==============================] - 163s 1s/step - loss: 0.1557 - accuracy: 0.9650 - val_loss: 0.1214 - val_accuracy: 0.9648\n",
      "Epoch 3/100\n",
      "114/114 [==============================] - 166s 1s/step - loss: 0.1074 - accuracy: 0.9687 - val_loss: 0.0981 - val_accuracy: 0.9758\n",
      "Epoch 4/100\n",
      "114/114 [==============================] - 165s 1s/step - loss: 0.0910 - accuracy: 0.9765 - val_loss: 0.0925 - val_accuracy: 0.9692\n",
      "Epoch 5/100\n",
      "114/114 [==============================] - 164s 1s/step - loss: 0.0849 - accuracy: 0.9732 - val_loss: 0.0753 - val_accuracy: 0.9780\n",
      "Epoch 6/100\n",
      "114/114 [==============================] - 164s 1s/step - loss: 0.0680 - accuracy: 0.9773 - val_loss: 0.0705 - val_accuracy: 0.9780\n",
      "Epoch 7/100\n",
      "114/114 [==============================] - 165s 1s/step - loss: 0.0570 - accuracy: 0.9861 - val_loss: 0.0670 - val_accuracy: 0.9802\n",
      "Epoch 8/100\n",
      "114/114 [==============================] - 169s 1s/step - loss: 0.0599 - accuracy: 0.9858 - val_loss: 0.0640 - val_accuracy: 0.9802\n",
      "Epoch 9/100\n",
      "114/114 [==============================] - 168s 1s/step - loss: 0.0502 - accuracy: 0.9853 - val_loss: 0.0632 - val_accuracy: 0.9846\n",
      "Epoch 10/100\n",
      "114/114 [==============================] - 167s 1s/step - loss: 0.0498 - accuracy: 0.9850 - val_loss: 0.0622 - val_accuracy: 0.9846\n",
      "Epoch 11/100\n",
      "114/114 [==============================] - 171s 1s/step - loss: 0.0518 - accuracy: 0.9843 - val_loss: 0.0593 - val_accuracy: 0.9846\n",
      "Epoch 12/100\n",
      "114/114 [==============================] - 170s 1s/step - loss: 0.0436 - accuracy: 0.9876 - val_loss: 0.0601 - val_accuracy: 0.9846\n",
      "Epoch 13/100\n",
      "114/114 [==============================] - 168s 1s/step - loss: 0.0478 - accuracy: 0.9855 - val_loss: 0.0587 - val_accuracy: 0.9846\n",
      "Epoch 14/100\n",
      "114/114 [==============================] - 168s 1s/step - loss: 0.0479 - accuracy: 0.9886 - val_loss: 0.0514 - val_accuracy: 0.9846\n",
      "Epoch 15/100\n",
      "114/114 [==============================] - 170s 1s/step - loss: 0.0419 - accuracy: 0.9883 - val_loss: 0.0507 - val_accuracy: 0.9846\n",
      "Epoch 16/100\n",
      "114/114 [==============================] - 167s 1s/step - loss: 0.0367 - accuracy: 0.9869 - val_loss: 0.0526 - val_accuracy: 0.9868\n",
      "Epoch 17/100\n",
      "114/114 [==============================] - 167s 1s/step - loss: 0.0377 - accuracy: 0.9896 - val_loss: 0.0499 - val_accuracy: 0.9868\n",
      "Epoch 18/100\n",
      "114/114 [==============================] - 169s 1s/step - loss: 0.0338 - accuracy: 0.9921 - val_loss: 0.0486 - val_accuracy: 0.9890\n",
      "Epoch 19/100\n",
      "114/114 [==============================] - 170s 1s/step - loss: 0.0409 - accuracy: 0.9840 - val_loss: 0.0468 - val_accuracy: 0.9846\n",
      "Epoch 20/100\n",
      "114/114 [==============================] - 168s 1s/step - loss: 0.0342 - accuracy: 0.9902 - val_loss: 0.0519 - val_accuracy: 0.9868\n",
      "Epoch 21/100\n",
      "114/114 [==============================] - 171s 1s/step - loss: 0.0414 - accuracy: 0.9874 - val_loss: 0.0457 - val_accuracy: 0.9824\n",
      "Epoch 22/100\n",
      "114/114 [==============================] - 169s 1s/step - loss: 0.0296 - accuracy: 0.9922 - val_loss: 0.0475 - val_accuracy: 0.9868\n",
      "Epoch 23/100\n",
      "114/114 [==============================] - 170s 1s/step - loss: 0.0333 - accuracy: 0.9889 - val_loss: 0.0451 - val_accuracy: 0.9846\n",
      "Epoch 24/100\n",
      "114/114 [==============================] - 169s 1s/step - loss: 0.0272 - accuracy: 0.9905 - val_loss: 0.0469 - val_accuracy: 0.9868\n",
      "Epoch 25/100\n",
      "114/114 [==============================] - 169s 1s/step - loss: 0.0317 - accuracy: 0.9911 - val_loss: 0.0452 - val_accuracy: 0.9868\n",
      "Epoch 26/100\n",
      "114/114 [==============================] - 166s 1s/step - loss: 0.0329 - accuracy: 0.9893 - val_loss: 0.0513 - val_accuracy: 0.9868\n",
      "Epoch 27/100\n",
      "114/114 [==============================] - 166s 1s/step - loss: 0.0347 - accuracy: 0.9903 - val_loss: 0.0470 - val_accuracy: 0.9868\n",
      "Epoch 28/100\n",
      "114/114 [==============================] - 168s 1s/step - loss: 0.0297 - accuracy: 0.9937 - val_loss: 0.0435 - val_accuracy: 0.9868\n",
      "Epoch 29/100\n",
      "114/114 [==============================] - 172s 2s/step - loss: 0.0311 - accuracy: 0.9920 - val_loss: 0.0446 - val_accuracy: 0.9868\n",
      "Epoch 30/100\n",
      "114/114 [==============================] - 169s 1s/step - loss: 0.0289 - accuracy: 0.9905 - val_loss: 0.0498 - val_accuracy: 0.9868\n",
      "Epoch 31/100\n",
      "114/114 [==============================] - 166s 1s/step - loss: 0.0304 - accuracy: 0.9899 - val_loss: 0.0519 - val_accuracy: 0.9868\n",
      "Epoch 32/100\n",
      "114/114 [==============================] - 166s 1s/step - loss: 0.0264 - accuracy: 0.9943 - val_loss: 0.0457 - val_accuracy: 0.9868\n",
      "Epoch 33/100\n",
      "114/114 [==============================] - 165s 1s/step - loss: 0.0239 - accuracy: 0.9936 - val_loss: 0.0435 - val_accuracy: 0.9868\n",
      "Epoch 34/100\n",
      "114/114 [==============================] - 165s 1s/step - loss: 0.0319 - accuracy: 0.9894 - val_loss: 0.0436 - val_accuracy: 0.9868\n",
      "Epoch 35/100\n",
      "114/114 [==============================] - 165s 1s/step - loss: 0.0253 - accuracy: 0.9913 - val_loss: 0.0435 - val_accuracy: 0.9868\n",
      "Epoch 36/100\n",
      "114/114 [==============================] - 165s 1s/step - loss: 0.0376 - accuracy: 0.9832 - val_loss: 0.0460 - val_accuracy: 0.9868\n",
      "Epoch 37/100\n",
      "114/114 [==============================] - 166s 1s/step - loss: 0.0324 - accuracy: 0.9901 - val_loss: 0.0436 - val_accuracy: 0.9890\n",
      "Epoch 38/100\n",
      "114/114 [==============================] - 165s 1s/step - loss: 0.0272 - accuracy: 0.9904 - val_loss: 0.0518 - val_accuracy: 0.9846\n",
      "Epoch 39/100\n",
      "114/114 [==============================] - 165s 1s/step - loss: 0.0308 - accuracy: 0.9902 - val_loss: 0.0421 - val_accuracy: 0.9890\n",
      "Epoch 40/100\n",
      "114/114 [==============================] - 166s 1s/step - loss: 0.0226 - accuracy: 0.9926 - val_loss: 0.0448 - val_accuracy: 0.9890\n",
      "Epoch 41/100\n",
      "114/114 [==============================] - 165s 1s/step - loss: 0.0251 - accuracy: 0.9922 - val_loss: 0.0480 - val_accuracy: 0.9846\n",
      "Epoch 42/100\n",
      "114/114 [==============================] - 165s 1s/step - loss: 0.0224 - accuracy: 0.9931 - val_loss: 0.0423 - val_accuracy: 0.9890\n",
      "Epoch 43/100\n",
      "114/114 [==============================] - 161s 1s/step - loss: 0.0247 - accuracy: 0.9917 - val_loss: 0.0460 - val_accuracy: 0.9868\n",
      "Epoch 44/100\n",
      "114/114 [==============================] - 161s 1s/step - loss: 0.0260 - accuracy: 0.9925 - val_loss: 0.0431 - val_accuracy: 0.9890\n",
      "Epoch 45/100\n",
      "114/114 [==============================] - 161s 1s/step - loss: 0.0257 - accuracy: 0.9919 - val_loss: 0.0449 - val_accuracy: 0.9890\n",
      "Epoch 46/100\n",
      "114/114 [==============================] - 160s 1s/step - loss: 0.0242 - accuracy: 0.9932 - val_loss: 0.0459 - val_accuracy: 0.9890\n",
      "Epoch 47/100\n",
      "114/114 [==============================] - 154s 1s/step - loss: 0.0259 - accuracy: 0.9915 - val_loss: 0.0608 - val_accuracy: 0.9824\n",
      "Epoch 48/100\n",
      "114/114 [==============================] - 157s 1s/step - loss: 0.0208 - accuracy: 0.9918 - val_loss: 0.0432 - val_accuracy: 0.9868\n",
      "Epoch 49/100\n",
      "114/114 [==============================] - 162s 1s/step - loss: 0.0209 - accuracy: 0.9944 - val_loss: 0.0473 - val_accuracy: 0.9868\n",
      "Epoch 50/100\n",
      "114/114 [==============================] - 165s 1s/step - loss: 0.0183 - accuracy: 0.9954 - val_loss: 0.0444 - val_accuracy: 0.9846\n",
      "Epoch 51/100\n",
      "114/114 [==============================] - 165s 1s/step - loss: 0.0260 - accuracy: 0.9935 - val_loss: 0.0474 - val_accuracy: 0.9868\n",
      "Epoch 52/100\n",
      "114/114 [==============================] - 164s 1s/step - loss: 0.0237 - accuracy: 0.9910 - val_loss: 0.0462 - val_accuracy: 0.9890\n",
      "Epoch 53/100\n",
      "114/114 [==============================] - 170s 1s/step - loss: 0.0209 - accuracy: 0.9941 - val_loss: 0.0456 - val_accuracy: 0.9890\n",
      "Epoch 54/100\n",
      "114/114 [==============================] - 169s 1s/step - loss: 0.0226 - accuracy: 0.9942 - val_loss: 0.0538 - val_accuracy: 0.9846\n",
      "Epoch 55/100\n",
      "114/114 [==============================] - 165s 1s/step - loss: 0.0234 - accuracy: 0.9930 - val_loss: 0.0455 - val_accuracy: 0.9868\n",
      "Epoch 56/100\n",
      "114/114 [==============================] - 169s 1s/step - loss: 0.0226 - accuracy: 0.9937 - val_loss: 0.0442 - val_accuracy: 0.9890\n",
      "Epoch 57/100\n",
      "114/114 [==============================] - 169s 1s/step - loss: 0.0254 - accuracy: 0.9909 - val_loss: 0.0439 - val_accuracy: 0.9868\n",
      "Epoch 58/100\n",
      "114/114 [==============================] - 167s 1s/step - loss: 0.0257 - accuracy: 0.9928 - val_loss: 0.0445 - val_accuracy: 0.9868\n",
      "Epoch 59/100\n",
      "114/114 [==============================] - 167s 1s/step - loss: 0.0229 - accuracy: 0.9931 - val_loss: 0.0464 - val_accuracy: 0.9868\n",
      "Epoch 60/100\n",
      "114/114 [==============================] - 166s 1s/step - loss: 0.0176 - accuracy: 0.9941 - val_loss: 0.0453 - val_accuracy: 0.9890\n",
      "Epoch 61/100\n",
      "114/114 [==============================] - 168s 1s/step - loss: 0.0183 - accuracy: 0.9935 - val_loss: 0.0461 - val_accuracy: 0.9868\n",
      "Epoch 62/100\n",
      "114/114 [==============================] - 172s 2s/step - loss: 0.0191 - accuracy: 0.9942 - val_loss: 0.0557 - val_accuracy: 0.9868\n",
      "Epoch 63/100\n",
      "114/114 [==============================] - 169s 1s/step - loss: 0.0215 - accuracy: 0.9937 - val_loss: 0.0470 - val_accuracy: 0.9846\n",
      "Epoch 64/100\n",
      "114/114 [==============================] - 169s 1s/step - loss: 0.0199 - accuracy: 0.9945 - val_loss: 0.0458 - val_accuracy: 0.9868\n",
      "Epoch 65/100\n",
      "114/114 [==============================] - 168s 1s/step - loss: 0.0212 - accuracy: 0.9916 - val_loss: 0.0423 - val_accuracy: 0.9890\n",
      "Epoch 66/100\n",
      "114/114 [==============================] - 171s 1s/step - loss: 0.0210 - accuracy: 0.9939 - val_loss: 0.0524 - val_accuracy: 0.9868\n",
      "Epoch 67/100\n",
      "114/114 [==============================] - 168s 1s/step - loss: 0.0194 - accuracy: 0.9937 - val_loss: 0.0463 - val_accuracy: 0.9890\n",
      "Epoch 68/100\n",
      "114/114 [==============================] - 163s 1s/step - loss: 0.0209 - accuracy: 0.9932 - val_loss: 0.0448 - val_accuracy: 0.9868\n",
      "Epoch 69/100\n",
      "114/114 [==============================] - 162s 1s/step - loss: 0.0197 - accuracy: 0.9944 - val_loss: 0.0554 - val_accuracy: 0.9868\n",
      "Epoch 70/100\n",
      "114/114 [==============================] - 162s 1s/step - loss: 0.0182 - accuracy: 0.9954 - val_loss: 0.0508 - val_accuracy: 0.9890\n",
      "Epoch 71/100\n",
      "114/114 [==============================] - 162s 1s/step - loss: 0.0193 - accuracy: 0.9948 - val_loss: 0.0504 - val_accuracy: 0.9846\n",
      "Epoch 72/100\n",
      "114/114 [==============================] - 165s 1s/step - loss: 0.0195 - accuracy: 0.9940 - val_loss: 0.0443 - val_accuracy: 0.9890\n",
      "Epoch 73/100\n",
      "114/114 [==============================] - 165s 1s/step - loss: 0.0175 - accuracy: 0.9970 - val_loss: 0.0475 - val_accuracy: 0.9890\n",
      "Epoch 74/100\n",
      "114/114 [==============================] - 165s 1s/step - loss: 0.0237 - accuracy: 0.9938 - val_loss: 0.0539 - val_accuracy: 0.9868\n",
      "Epoch 75/100\n",
      "114/114 [==============================] - 165s 1s/step - loss: 0.0173 - accuracy: 0.9949 - val_loss: 0.0495 - val_accuracy: 0.9868\n",
      "Epoch 76/100\n",
      "114/114 [==============================] - 167s 1s/step - loss: 0.0190 - accuracy: 0.9923 - val_loss: 0.0478 - val_accuracy: 0.9890\n",
      "Epoch 77/100\n",
      "114/114 [==============================] - 168s 1s/step - loss: 0.0180 - accuracy: 0.9929 - val_loss: 0.0481 - val_accuracy: 0.9890\n",
      "Epoch 78/100\n",
      "114/114 [==============================] - 170s 1s/step - loss: 0.0188 - accuracy: 0.9935 - val_loss: 0.0486 - val_accuracy: 0.9890\n",
      "Epoch 79/100\n",
      "114/114 [==============================] - 167s 1s/step - loss: 0.0126 - accuracy: 0.9966 - val_loss: 0.0454 - val_accuracy: 0.9890\n",
      "Epoch 80/100\n",
      "114/114 [==============================] - 171s 1s/step - loss: 0.0179 - accuracy: 0.9954 - val_loss: 0.0487 - val_accuracy: 0.9890\n",
      "Epoch 81/100\n",
      "114/114 [==============================] - 168s 1s/step - loss: 0.0173 - accuracy: 0.9947 - val_loss: 0.0462 - val_accuracy: 0.9868\n",
      "Epoch 82/100\n",
      "114/114 [==============================] - 172s 2s/step - loss: 0.0160 - accuracy: 0.9937 - val_loss: 0.0519 - val_accuracy: 0.9890\n",
      "Epoch 83/100\n",
      "114/114 [==============================] - 170s 1s/step - loss: 0.0172 - accuracy: 0.9926 - val_loss: 0.0544 - val_accuracy: 0.9890\n",
      "Epoch 84/100\n",
      "114/114 [==============================] - 170s 1s/step - loss: 0.0163 - accuracy: 0.9952 - val_loss: 0.0510 - val_accuracy: 0.9890\n",
      "Epoch 85/100\n",
      "114/114 [==============================] - 170s 1s/step - loss: 0.0187 - accuracy: 0.9952 - val_loss: 0.0456 - val_accuracy: 0.9890\n",
      "Epoch 86/100\n",
      "114/114 [==============================] - 172s 2s/step - loss: 0.0201 - accuracy: 0.9944 - val_loss: 0.0461 - val_accuracy: 0.9890\n",
      "Epoch 87/100\n",
      "114/114 [==============================] - 170s 1s/step - loss: 0.0130 - accuracy: 0.9950 - val_loss: 0.0491 - val_accuracy: 0.9890\n",
      "Epoch 88/100\n",
      "114/114 [==============================] - 170s 1s/step - loss: 0.0144 - accuracy: 0.9962 - val_loss: 0.0551 - val_accuracy: 0.9868\n",
      "Epoch 89/100\n",
      "114/114 [==============================] - 169s 1s/step - loss: 0.0143 - accuracy: 0.9958 - val_loss: 0.0558 - val_accuracy: 0.9868\n",
      "Epoch 90/100\n",
      "114/114 [==============================] - 177s 2s/step - loss: 0.0252 - accuracy: 0.9913 - val_loss: 0.0471 - val_accuracy: 0.9868\n",
      "Epoch 91/100\n",
      "114/114 [==============================] - 169s 1s/step - loss: 0.0174 - accuracy: 0.9958 - val_loss: 0.0457 - val_accuracy: 0.9890\n",
      "Epoch 92/100\n",
      "114/114 [==============================] - 169s 1s/step - loss: 0.0148 - accuracy: 0.9960 - val_loss: 0.0501 - val_accuracy: 0.9890\n",
      "Epoch 93/100\n",
      "114/114 [==============================] - 168s 1s/step - loss: 0.0192 - accuracy: 0.9928 - val_loss: 0.0507 - val_accuracy: 0.9890\n",
      "Epoch 94/100\n",
      "114/114 [==============================] - 168s 1s/step - loss: 0.0110 - accuracy: 0.9974 - val_loss: 0.0550 - val_accuracy: 0.9890\n",
      "Epoch 95/100\n",
      "114/114 [==============================] - 168s 1s/step - loss: 0.0139 - accuracy: 0.9955 - val_loss: 0.0592 - val_accuracy: 0.9868\n",
      "Epoch 96/100\n",
      "114/114 [==============================] - 167s 1s/step - loss: 0.0155 - accuracy: 0.9961 - val_loss: 0.0638 - val_accuracy: 0.9846\n",
      "Epoch 97/100\n",
      "114/114 [==============================] - 168s 1s/step - loss: 0.0253 - accuracy: 0.9927 - val_loss: 0.0452 - val_accuracy: 0.9890\n",
      "Epoch 98/100\n",
      "114/114 [==============================] - 171s 2s/step - loss: 0.0218 - accuracy: 0.9939 - val_loss: 0.0549 - val_accuracy: 0.9868\n",
      "Epoch 99/100\n",
      "114/114 [==============================] - 173s 2s/step - loss: 0.0205 - accuracy: 0.9935 - val_loss: 0.0640 - val_accuracy: 0.9846\n",
      "Epoch 100/100\n",
      "114/114 [==============================] - 179s 2s/step - loss: 0.0279 - accuracy: 0.9923 - val_loss: 0.0614 - val_accuracy: 0.9846\n"
     ]
    }
   ],
   "source": [
    "history = final_model.fit_generator(\n",
    "  training_set,\n",
    "  validation_data=val_set,\n",
    "  epochs=100,\n",
    "  steps_per_epoch=len(training_set),\n",
    "  validation_steps=len(val_set)\n",
    ")"
   ]
  },
  {
   "cell_type": "markdown",
   "id": "def0646c",
   "metadata": {
    "id": "wqvMA-ZuKdG6",
    "papermill": {
     "duration": 3.986134,
     "end_time": "2021-09-04T20:22:05.305957",
     "exception": false,
     "start_time": "2021-09-04T20:22:01.319823",
     "status": "completed"
    },
    "tags": []
   },
   "source": [
    "## Testing"
   ]
  },
  {
   "cell_type": "code",
   "execution_count": 11,
   "id": "fb66b8d6",
   "metadata": {
    "execution": {
     "iopub.execute_input": "2021-09-04T20:22:13.971676Z",
     "iopub.status.busy": "2021-09-04T20:22:13.970262Z",
     "iopub.status.idle": "2021-09-04T20:22:54.050375Z",
     "shell.execute_reply": "2021-09-04T20:22:54.051030Z",
     "shell.execute_reply.started": "2021-09-03T14:07:11.129277Z"
    },
    "id": "Lf56gnUUZ8PB",
    "papermill": {
     "duration": 43.944712,
     "end_time": "2021-09-04T20:22:54.051233",
     "exception": false,
     "start_time": "2021-09-04T20:22:10.106521",
     "status": "completed"
    },
    "tags": []
   },
   "outputs": [
    {
     "name": "stdout",
     "output_type": "stream",
     "text": [
      "Evaluating on test data ....\n",
      "15/15 [==============================] - 37s 2s/step - loss: 0.0529 - accuracy: 0.9802\n",
      "test loss, test acc: [0.0528763122856617, 0.9802197813987732]\n"
     ]
    }
   ],
   "source": [
    "print(\"Evaluating on test data ....\")\n",
    "results = final_model.evaluate(test_set, batch_size=32)\n",
    "print(\"test loss, test acc:\", results)"
   ]
  },
  {
   "cell_type": "markdown",
   "id": "c725aac3",
   "metadata": {
    "id": "oAttfdbALKT-",
    "papermill": {
     "duration": 4.17057,
     "end_time": "2021-09-04T20:23:02.194292",
     "exception": false,
     "start_time": "2021-09-04T20:22:58.023722",
     "status": "completed"
    },
    "tags": []
   },
   "source": [
    "## Plotting "
   ]
  },
  {
   "cell_type": "code",
   "execution_count": 12,
   "id": "99a79fb4",
   "metadata": {
    "execution": {
     "iopub.execute_input": "2021-09-04T20:23:09.973980Z",
     "iopub.status.busy": "2021-09-04T20:23:09.972974Z",
     "iopub.status.idle": "2021-09-04T20:23:09.977674Z",
     "shell.execute_reply": "2021-09-04T20:23:09.978210Z",
     "shell.execute_reply.started": "2021-09-03T14:07:34.626995Z"
    },
    "id": "Qdbzj8VlLOGb",
    "papermill": {
     "duration": 3.891982,
     "end_time": "2021-09-04T20:23:09.978378",
     "exception": false,
     "start_time": "2021-09-04T20:23:06.086396",
     "status": "completed"
    },
    "tags": []
   },
   "outputs": [
    {
     "data": {
      "text/plain": [
       "{'loss': [0.31675291061401367,\n",
       "  0.14101451635360718,\n",
       "  0.10459566116333008,\n",
       "  0.08442877978086472,\n",
       "  0.07463096082210541,\n",
       "  0.06631791591644287,\n",
       "  0.06264223903417587,\n",
       "  0.05842255428433418,\n",
       "  0.054030753672122955,\n",
       "  0.052940484136343,\n",
       "  0.05099048838019371,\n",
       "  0.04710988700389862,\n",
       "  0.042010921984910965,\n",
       "  0.04641426354646683,\n",
       "  0.04294077679514885,\n",
       "  0.04020622745156288,\n",
       "  0.03712530806660652,\n",
       "  0.035321224480867386,\n",
       "  0.040593791753053665,\n",
       "  0.03491761162877083,\n",
       "  0.03552928939461708,\n",
       "  0.03573964908719063,\n",
       "  0.03570668026804924,\n",
       "  0.03348414599895477,\n",
       "  0.0309867225587368,\n",
       "  0.0313863642513752,\n",
       "  0.034227404743433,\n",
       "  0.030418792739510536,\n",
       "  0.03127416968345642,\n",
       "  0.02722521685063839,\n",
       "  0.02874438837170601,\n",
       "  0.026896439492702484,\n",
       "  0.028592482209205627,\n",
       "  0.02785373479127884,\n",
       "  0.02626149356365204,\n",
       "  0.029409004375338554,\n",
       "  0.02787833847105503,\n",
       "  0.027331490069627762,\n",
       "  0.025076646357774734,\n",
       "  0.02710084058344364,\n",
       "  0.026080304756760597,\n",
       "  0.023002777248620987,\n",
       "  0.023616552352905273,\n",
       "  0.024400319904088974,\n",
       "  0.027239222079515457,\n",
       "  0.024914197623729706,\n",
       "  0.025364605709910393,\n",
       "  0.022448496893048286,\n",
       "  0.020259495824575424,\n",
       "  0.02443590573966503,\n",
       "  0.026883846148848534,\n",
       "  0.02349686250090599,\n",
       "  0.019406290724873543,\n",
       "  0.021536419168114662,\n",
       "  0.02240697667002678,\n",
       "  0.022192522883415222,\n",
       "  0.022854479029774666,\n",
       "  0.022699736058712006,\n",
       "  0.01875099167227745,\n",
       "  0.018667209893465042,\n",
       "  0.017796583473682404,\n",
       "  0.02196824923157692,\n",
       "  0.01882694661617279,\n",
       "  0.021188439801335335,\n",
       "  0.018758155405521393,\n",
       "  0.0192773025482893,\n",
       "  0.018139764666557312,\n",
       "  0.01889534294605255,\n",
       "  0.018364856019616127,\n",
       "  0.01933625526726246,\n",
       "  0.020215820521116257,\n",
       "  0.02025357447564602,\n",
       "  0.018703659996390343,\n",
       "  0.019936947152018547,\n",
       "  0.017326457425951958,\n",
       "  0.018410038203001022,\n",
       "  0.018922792747616768,\n",
       "  0.01841895841062069,\n",
       "  0.016192976385354996,\n",
       "  0.017414527013897896,\n",
       "  0.021971294656395912,\n",
       "  0.013968088664114475,\n",
       "  0.01522392500191927,\n",
       "  0.01834000088274479,\n",
       "  0.02035829983651638,\n",
       "  0.015769904479384422,\n",
       "  0.01618334650993347,\n",
       "  0.017009703442454338,\n",
       "  0.01697256788611412,\n",
       "  0.021035518497228622,\n",
       "  0.016729585826396942,\n",
       "  0.014358943328261375,\n",
       "  0.015322715044021606,\n",
       "  0.013624549843370914,\n",
       "  0.015484530478715897,\n",
       "  0.016812730580568314,\n",
       "  0.016127796843647957,\n",
       "  0.02059347741305828,\n",
       "  0.01904481276869774,\n",
       "  0.018129590898752213],\n",
       " 'accuracy': [0.8753089904785156,\n",
       "  0.9659433960914612,\n",
       "  0.9692392349243164,\n",
       "  0.9774787425994873,\n",
       "  0.9788519740104675,\n",
       "  0.9802252054214478,\n",
       "  0.981873095035553,\n",
       "  0.9857181906700134,\n",
       "  0.982697069644928,\n",
       "  0.9857181906700134,\n",
       "  0.982422411441803,\n",
       "  0.9857181906700134,\n",
       "  0.9876407384872437,\n",
       "  0.9868168234825134,\n",
       "  0.9879153966903687,\n",
       "  0.9862675070762634,\n",
       "  0.9895632863044739,\n",
       "  0.9912111759185791,\n",
       "  0.9854435324668884,\n",
       "  0.9906619191169739,\n",
       "  0.9906619191169739,\n",
       "  0.9890140295028687,\n",
       "  0.9892886281013489,\n",
       "  0.9873660802841187,\n",
       "  0.9925844669342041,\n",
       "  0.9895632863044739,\n",
       "  0.9881900548934937,\n",
       "  0.9920351505279541,\n",
       "  0.9914858341217041,\n",
       "  0.9903872609138489,\n",
       "  0.9906619191169739,\n",
       "  0.9931337833404541,\n",
       "  0.9906619191169739,\n",
       "  0.9903872609138489,\n",
       "  0.9914858341217041,\n",
       "  0.9901126027107239,\n",
       "  0.9917604923248291,\n",
       "  0.9901126027107239,\n",
       "  0.9925844669342041,\n",
       "  0.9912111759185791,\n",
       "  0.9917604923248291,\n",
       "  0.9934083819389343,\n",
       "  0.9917604923248291,\n",
       "  0.9925844669342041,\n",
       "  0.9914858341217041,\n",
       "  0.9914858341217041,\n",
       "  0.9914858341217041,\n",
       "  0.9925844669342041,\n",
       "  0.9942323565483093,\n",
       "  0.9925844669342041,\n",
       "  0.9931337833404541,\n",
       "  0.9920351505279541,\n",
       "  0.9950563311576843,\n",
       "  0.9936830401420593,\n",
       "  0.9928591251373291,\n",
       "  0.9939576983451843,\n",
       "  0.9925844669342041,\n",
       "  0.9939576983451843,\n",
       "  0.9950563311576843,\n",
       "  0.9931337833404541,\n",
       "  0.9942323565483093,\n",
       "  0.9925844669342041,\n",
       "  0.9945070147514343,\n",
       "  0.9931337833404541,\n",
       "  0.9934083819389343,\n",
       "  0.9939576983451843,\n",
       "  0.9947816729545593,\n",
       "  0.9939576983451843,\n",
       "  0.9950563311576843,\n",
       "  0.9942323565483093,\n",
       "  0.9945070147514343,\n",
       "  0.9942323565483093,\n",
       "  0.9953309297561646,\n",
       "  0.9950563311576843,\n",
       "  0.9947816729545593,\n",
       "  0.9931337833404541,\n",
       "  0.9936830401420593,\n",
       "  0.9939576983451843,\n",
       "  0.9953309297561646,\n",
       "  0.9947816729545593,\n",
       "  0.9923098087310791,\n",
       "  0.9956055879592896,\n",
       "  0.9950563311576843,\n",
       "  0.9945070147514343,\n",
       "  0.9936830401420593,\n",
       "  0.9956055879592896,\n",
       "  0.9934083819389343,\n",
       "  0.9947816729545593,\n",
       "  0.9942323565483093,\n",
       "  0.9928591251373291,\n",
       "  0.9953309297561646,\n",
       "  0.9967042207717896,\n",
       "  0.9945070147514343,\n",
       "  0.9964295625686646,\n",
       "  0.9953309297561646,\n",
       "  0.9947816729545593,\n",
       "  0.9950563311576843,\n",
       "  0.9942323565483093,\n",
       "  0.9942323565483093,\n",
       "  0.9945070147514343],\n",
       " 'val_loss': [0.1750544309616089,\n",
       "  0.12135433405637741,\n",
       "  0.09805693477392197,\n",
       "  0.09249842166900635,\n",
       "  0.07526333630084991,\n",
       "  0.07047304511070251,\n",
       "  0.06703903526067734,\n",
       "  0.06401856243610382,\n",
       "  0.06320475786924362,\n",
       "  0.06216776371002197,\n",
       "  0.05932140722870827,\n",
       "  0.06012749671936035,\n",
       "  0.05874282494187355,\n",
       "  0.05136668309569359,\n",
       "  0.05072310194373131,\n",
       "  0.05262865498661995,\n",
       "  0.04992388188838959,\n",
       "  0.048579465597867966,\n",
       "  0.04678666964173317,\n",
       "  0.05192101374268532,\n",
       "  0.045716747641563416,\n",
       "  0.04746057838201523,\n",
       "  0.045052651315927505,\n",
       "  0.04691503569483757,\n",
       "  0.045245904475450516,\n",
       "  0.0512508787214756,\n",
       "  0.04698172211647034,\n",
       "  0.043476950377225876,\n",
       "  0.044573210179805756,\n",
       "  0.04982030391693115,\n",
       "  0.05192680284380913,\n",
       "  0.04570150002837181,\n",
       "  0.043498165905475616,\n",
       "  0.0436241440474987,\n",
       "  0.04351339116692543,\n",
       "  0.045953355729579926,\n",
       "  0.04357987269759178,\n",
       "  0.05182745307683945,\n",
       "  0.04213711619377136,\n",
       "  0.04480469971895218,\n",
       "  0.048018500208854675,\n",
       "  0.04227069020271301,\n",
       "  0.046003807336091995,\n",
       "  0.043094031512737274,\n",
       "  0.0449158139526844,\n",
       "  0.04593978822231293,\n",
       "  0.06078551337122917,\n",
       "  0.043217647820711136,\n",
       "  0.04727436229586601,\n",
       "  0.04441910982131958,\n",
       "  0.04741617292165756,\n",
       "  0.046184342354536057,\n",
       "  0.04560365900397301,\n",
       "  0.05384308472275734,\n",
       "  0.04554484412074089,\n",
       "  0.04420857131481171,\n",
       "  0.04392325505614281,\n",
       "  0.04450181871652603,\n",
       "  0.04638049751520157,\n",
       "  0.04525306075811386,\n",
       "  0.04605951905250549,\n",
       "  0.05570682883262634,\n",
       "  0.04695098474621773,\n",
       "  0.045787401497364044,\n",
       "  0.04228990152478218,\n",
       "  0.052448198199272156,\n",
       "  0.04627373069524765,\n",
       "  0.04483526945114136,\n",
       "  0.055436477065086365,\n",
       "  0.05075174942612648,\n",
       "  0.05040987208485603,\n",
       "  0.044321395456790924,\n",
       "  0.04747084155678749,\n",
       "  0.05387827381491661,\n",
       "  0.049483127892017365,\n",
       "  0.04784366860985756,\n",
       "  0.04809257760643959,\n",
       "  0.0485784076154232,\n",
       "  0.04536527395248413,\n",
       "  0.04866481572389603,\n",
       "  0.04622862860560417,\n",
       "  0.051915694028139114,\n",
       "  0.05441563203930855,\n",
       "  0.0509856715798378,\n",
       "  0.0456458255648613,\n",
       "  0.04609360918402672,\n",
       "  0.049103282392024994,\n",
       "  0.05506608262658119,\n",
       "  0.05583994835615158,\n",
       "  0.04708082228899002,\n",
       "  0.045678745955228806,\n",
       "  0.05007661506533623,\n",
       "  0.05071553960442543,\n",
       "  0.055028099566698074,\n",
       "  0.05923439934849739,\n",
       "  0.0638284981250763,\n",
       "  0.045222289860248566,\n",
       "  0.054873883724212646,\n",
       "  0.06400635093450546,\n",
       "  0.061414215713739395],\n",
       " 'val_accuracy': [0.9604395627975464,\n",
       "  0.9648351669311523,\n",
       "  0.9758241772651672,\n",
       "  0.9692307710647583,\n",
       "  0.9780219793319702,\n",
       "  0.9780219793319702,\n",
       "  0.9802197813987732,\n",
       "  0.9802197813987732,\n",
       "  0.9846153855323792,\n",
       "  0.9846153855323792,\n",
       "  0.9846153855323792,\n",
       "  0.9846153855323792,\n",
       "  0.9846153855323792,\n",
       "  0.9846153855323792,\n",
       "  0.9846153855323792,\n",
       "  0.9868131875991821,\n",
       "  0.9868131875991821,\n",
       "  0.9890109896659851,\n",
       "  0.9846153855323792,\n",
       "  0.9868131875991821,\n",
       "  0.9824175834655762,\n",
       "  0.9868131875991821,\n",
       "  0.9846153855323792,\n",
       "  0.9868131875991821,\n",
       "  0.9868131875991821,\n",
       "  0.9868131875991821,\n",
       "  0.9868131875991821,\n",
       "  0.9868131875991821,\n",
       "  0.9868131875991821,\n",
       "  0.9868131875991821,\n",
       "  0.9868131875991821,\n",
       "  0.9868131875991821,\n",
       "  0.9868131875991821,\n",
       "  0.9868131875991821,\n",
       "  0.9868131875991821,\n",
       "  0.9868131875991821,\n",
       "  0.9890109896659851,\n",
       "  0.9846153855323792,\n",
       "  0.9890109896659851,\n",
       "  0.9890109896659851,\n",
       "  0.9846153855323792,\n",
       "  0.9890109896659851,\n",
       "  0.9868131875991821,\n",
       "  0.9890109896659851,\n",
       "  0.9890109896659851,\n",
       "  0.9890109896659851,\n",
       "  0.9824175834655762,\n",
       "  0.9868131875991821,\n",
       "  0.9868131875991821,\n",
       "  0.9846153855323792,\n",
       "  0.9868131875991821,\n",
       "  0.9890109896659851,\n",
       "  0.9890109896659851,\n",
       "  0.9846153855323792,\n",
       "  0.9868131875991821,\n",
       "  0.9890109896659851,\n",
       "  0.9868131875991821,\n",
       "  0.9868131875991821,\n",
       "  0.9868131875991821,\n",
       "  0.9890109896659851,\n",
       "  0.9868131875991821,\n",
       "  0.9868131875991821,\n",
       "  0.9846153855323792,\n",
       "  0.9868131875991821,\n",
       "  0.9890109896659851,\n",
       "  0.9868131875991821,\n",
       "  0.9890109896659851,\n",
       "  0.9868131875991821,\n",
       "  0.9868131875991821,\n",
       "  0.9890109896659851,\n",
       "  0.9846153855323792,\n",
       "  0.9890109896659851,\n",
       "  0.9890109896659851,\n",
       "  0.9868131875991821,\n",
       "  0.9868131875991821,\n",
       "  0.9890109896659851,\n",
       "  0.9890109896659851,\n",
       "  0.9890109896659851,\n",
       "  0.9890109896659851,\n",
       "  0.9890109896659851,\n",
       "  0.9868131875991821,\n",
       "  0.9890109896659851,\n",
       "  0.9890109896659851,\n",
       "  0.9890109896659851,\n",
       "  0.9890109896659851,\n",
       "  0.9890109896659851,\n",
       "  0.9890109896659851,\n",
       "  0.9868131875991821,\n",
       "  0.9868131875991821,\n",
       "  0.9868131875991821,\n",
       "  0.9890109896659851,\n",
       "  0.9890109896659851,\n",
       "  0.9890109896659851,\n",
       "  0.9890109896659851,\n",
       "  0.9868131875991821,\n",
       "  0.9846153855323792,\n",
       "  0.9890109896659851,\n",
       "  0.9868131875991821,\n",
       "  0.9846153855323792,\n",
       "  0.9846153855323792]}"
      ]
     },
     "execution_count": 12,
     "metadata": {},
     "output_type": "execute_result"
    }
   ],
   "source": [
    "history.history"
   ]
  },
  {
   "cell_type": "markdown",
   "id": "eb369f87",
   "metadata": {
    "id": "_6YrqxNiK74j",
    "papermill": {
     "duration": 4.07395,
     "end_time": "2021-09-04T20:23:18.878203",
     "exception": false,
     "start_time": "2021-09-04T20:23:14.804253",
     "status": "completed"
    },
    "tags": []
   },
   "source": [
    "### Accuracy vs Epochs"
   ]
  },
  {
   "cell_type": "code",
   "execution_count": 13,
   "id": "8cd7dc4b",
   "metadata": {
    "execution": {
     "iopub.execute_input": "2021-09-04T20:23:27.272141Z",
     "iopub.status.busy": "2021-09-04T20:23:27.270934Z",
     "iopub.status.idle": "2021-09-04T20:23:27.458323Z",
     "shell.execute_reply": "2021-09-04T20:23:27.458922Z",
     "shell.execute_reply.started": "2021-09-03T14:07:34.646009Z"
    },
    "id": "sdB7_fjsaa5z",
    "papermill": {
     "duration": 4.667973,
     "end_time": "2021-09-04T20:23:27.459089",
     "exception": false,
     "start_time": "2021-09-04T20:23:22.791116",
     "status": "completed"
    },
    "tags": []
   },
   "outputs": [
    {
     "data": {
      "image/png": "[encoded data removed]",
      "text/plain": [
       "<Figure size 432x288 with 1 Axes>"
      ]
     },
     "metadata": {
      "needs_background": "light"
     },
     "output_type": "display_data"
    }
   ],
   "source": [
    "plt.plot(history.history['accuracy'])\n",
    "plt.plot(history.history['val_accuracy'])\n",
    "plt.title('model accuracy')\n",
    "plt.ylabel('accuracy')\n",
    "plt.xlabel('epoch')\n",
    "plt.legend(['train', 'test'], loc='upper left')\n",
    "plt.show()\n"
   ]
  },
  {
   "cell_type": "markdown",
   "id": "f9d5ea33",
   "metadata": {
    "id": "2Y77bbOVLAhu",
    "papermill": {
     "duration": 4.199764,
     "end_time": "2021-09-04T20:23:35.631986",
     "exception": false,
     "start_time": "2021-09-04T20:23:31.432222",
     "status": "completed"
    },
    "tags": []
   },
   "source": [
    "### Loss vs Epochs"
   ]
  },
  {
   "cell_type": "code",
   "execution_count": 14,
   "id": "785684ce",
   "metadata": {
    "execution": {
     "iopub.execute_input": "2021-09-04T20:23:43.670504Z",
     "iopub.status.busy": "2021-09-04T20:23:43.669463Z",
     "iopub.status.idle": "2021-09-04T20:23:43.834557Z",
     "shell.execute_reply": "2021-09-04T20:23:43.833817Z",
     "shell.execute_reply.started": "2021-09-03T14:07:34.831244Z"
    },
    "id": "_GV-kvZqKydx",
    "papermill": {
     "duration": 4.25289,
     "end_time": "2021-09-04T20:23:43.834714",
     "exception": false,
     "start_time": "2021-09-04T20:23:39.581824",
     "status": "completed"
    },
    "tags": []
   },
   "outputs": [
    {
     "data": {
      "image/png": "[encoded data removed]",
      "text/plain": [
       "<Figure size 432x288 with 1 Axes>"
      ]
     },
     "metadata": {
      "needs_background": "light"
     },
     "output_type": "display_data"
    }
   ],
   "source": [
    "plt.plot(history.history['loss'])\n",
    "plt.plot(history.history['val_loss'])\n",
    "plt.title('model loss')\n",
    "plt.ylabel('loss')\n",
    "plt.xlabel('epoch')\n",
    "plt.legend(['train', 'test'], loc='upper left')\n",
    "plt.show()"
   ]
  }
 ],
 "metadata": {
  "kernelspec": {
   "display_name": "Python 3 (ipykernel)",
   "language": "python",
   "name": "python3"
  },
  "language_info": {
   "codemirror_mode": {
    "name": "ipython",
    "version": 3
   },
   "file_extension": ".py",
   "mimetype": "text/x-python",
   "name": "python",
   "nbconvert_exporter": "python",
   "pygments_lexer": "ipython3",
   "version": "3.8.11"
  },
  "papermill": {
   "default_parameters": {},
   "duration": 16943.99882,
   "end_time": "2021-09-04T20:23:50.814438",
   "environment_variables": {},
   "exception": null,
   "input_path": "__notebook__.ipynb",
   "output_path": "__notebook__.ipynb",
   "parameters": {},
   "start_time": "2021-09-04T15:41:26.815618",
   "version": "2.3.3"
  }
 },
 "nbformat": 4,
 "nbformat_minor": 5
}
