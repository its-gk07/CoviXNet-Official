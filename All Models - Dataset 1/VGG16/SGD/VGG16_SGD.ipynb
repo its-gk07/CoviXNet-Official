{
 "cells": [
  {
   "cell_type": "markdown",
   "metadata": {
    "id": "9Dg7bhcMQjrx",
    "papermill": {
     "duration": 0.014894,
     "end_time": "2021-09-04T16:03:42.980080",
     "exception": false,
     "start_time": "2021-09-04T16:03:42.965186",
     "status": "completed"
    },
    "tags": []
   },
   "source": [
    "# Complete Notebook"
   ]
  },
  {
   "cell_type": "markdown",
   "metadata": {
    "id": "jG_5SoNmSwPc",
    "papermill": {
     "duration": 0.013789,
     "end_time": "2021-09-04T16:03:43.008157",
     "exception": false,
     "start_time": "2021-09-04T16:03:42.994368",
     "status": "completed"
    },
    "tags": []
   },
   "source": [
    "## Importing Libraries"
   ]
  },
  {
   "cell_type": "code",
   "execution_count": 1,
   "metadata": {
    "execution": {
     "iopub.execute_input": "2021-09-04T16:03:43.047042Z",
     "iopub.status.busy": "2021-09-04T16:03:43.046556Z",
     "iopub.status.idle": "2021-09-04T16:03:43.049834Z",
     "shell.execute_reply": "2021-09-04T16:03:43.050327Z",
     "shell.execute_reply.started": "2021-09-03T09:36:50.027146Z"
    },
    "id": "QwAtFRvYQpDm",
    "papermill": {
     "duration": 0.028387,
     "end_time": "2021-09-04T16:03:43.050574",
     "exception": false,
     "start_time": "2021-09-04T16:03:43.022187",
     "status": "completed"
    },
    "tags": []
   },
   "outputs": [],
   "source": [
    "import warnings\n",
    "warnings.filterwarnings('ignore')"
   ]
  },
  {
   "cell_type": "code",
   "execution_count": 2,
   "metadata": {
    "execution": {
     "iopub.execute_input": "2021-09-04T16:03:43.085807Z",
     "iopub.status.busy": "2021-09-04T16:03:43.085308Z",
     "iopub.status.idle": "2021-09-04T16:03:47.306893Z",
     "shell.execute_reply": "2021-09-04T16:03:47.306380Z",
     "shell.execute_reply.started": "2021-09-03T09:36:50.645719Z"
    },
    "id": "q-CIsMW9QtQm",
    "papermill": {
     "duration": 4.242132,
     "end_time": "2021-09-04T16:03:47.307030",
     "exception": false,
     "start_time": "2021-09-04T16:03:43.064898",
     "status": "completed"
    },
    "tags": []
   },
   "outputs": [],
   "source": [
    "from tensorflow import keras\n",
    "from keras.layers import Input, Lambda, Dense, Flatten, Dropout\n",
    "from keras.models import Model\n",
    "from tensorflow.keras.applications.resnet import ResNet152\n",
    "from keras.preprocessing import image\n",
    "from keras.applications.vgg16 import VGG16\n",
    "from keras.applications.vgg16 import preprocess_input\n",
    "from keras.preprocessing.image import ImageDataGenerator\n",
    "from keras.models import Sequential\n",
    "import numpy as np\n",
    "from glob import glob\n",
    "import matplotlib.pyplot as plt\n",
    "%matplotlib inline "
   ]
  },
  {
   "cell_type": "markdown",
   "metadata": {
    "id": "xs6p7RMOciNF",
    "papermill": {
     "duration": 0.014071,
     "end_time": "2021-09-04T16:03:47.335680",
     "exception": false,
     "start_time": "2021-09-04T16:03:47.321609",
     "status": "completed"
    },
    "tags": []
   },
   "source": [
    "## Initializing Parameters"
   ]
  },
  {
   "cell_type": "code",
   "execution_count": 3,
   "metadata": {
    "execution": {
     "iopub.execute_input": "2021-09-04T16:03:47.368228Z",
     "iopub.status.busy": "2021-09-04T16:03:47.367471Z",
     "iopub.status.idle": "2021-09-04T16:03:47.370157Z",
     "shell.execute_reply": "2021-09-04T16:03:47.369740Z",
     "shell.execute_reply.started": "2021-09-03T09:37:48.845787Z"
    },
    "id": "fiLzfiHJQyFv",
    "papermill": {
     "duration": 0.020136,
     "end_time": "2021-09-04T16:03:47.370265",
     "exception": false,
     "start_time": "2021-09-04T16:03:47.350129",
     "status": "completed"
    },
    "tags": []
   },
   "outputs": [],
   "source": [
    "IMAGE_SIZE = [224,224, 3]\n",
    "\n",
    "train_path = '/kaggle/input/covid19-chest-xray-processed-dataset/Dataset/Train'\n",
    "test_path = '/kaggle/input/covid19-chest-xray-processed-dataset/Dataset/Test'\n",
    "val_path = '/kaggle/input/covid19-chest-xray-processed-dataset/Dataset/Val'"
   ]
  },
  {
   "cell_type": "markdown",
   "metadata": {
    "id": "C9swfxvUcwfb",
    "papermill": {
     "duration": 0.013744,
     "end_time": "2021-09-04T16:03:47.397836",
     "exception": false,
     "start_time": "2021-09-04T16:03:47.384092",
     "status": "completed"
    },
    "tags": []
   },
   "source": [
    "## Data Augmentation"
   ]
  },
  {
   "cell_type": "code",
   "execution_count": 4,
   "metadata": {
    "execution": {
     "iopub.execute_input": "2021-09-04T16:03:47.432044Z",
     "iopub.status.busy": "2021-09-04T16:03:47.431539Z",
     "iopub.status.idle": "2021-09-04T16:03:48.757665Z",
     "shell.execute_reply": "2021-09-04T16:03:48.757233Z",
     "shell.execute_reply.started": "2021-09-03T09:37:48.852449Z"
    },
    "id": "YiRQm0hvcsmB",
    "outputId": "0a0afb85-2a97-445e-ccfb-7facbfa29e09",
    "papermill": {
     "duration": 1.345905,
     "end_time": "2021-09-04T16:03:48.757786",
     "exception": false,
     "start_time": "2021-09-04T16:03:47.411881",
     "status": "completed"
    },
    "tags": []
   },
   "outputs": [
    {
     "name": "stdout",
     "output_type": "stream",
     "text": [
      "Found 3641 images belonging to 2 classes.\n",
      "Found 455 images belonging to 2 classes.\n",
      "Found 455 images belonging to 2 classes.\n"
     ]
    }
   ],
   "source": [
    "train_datagen = ImageDataGenerator(rescale = 1./255,\n",
    "                                   shear_range = 0.2,\n",
    "                                   zoom_range = 0.2,\n",
    "                                   horizontal_flip = True)\n",
    "\n",
    "test_datagen = ImageDataGenerator(rescale = 1./255)\n",
    "val_datagen = ImageDataGenerator(rescale = 1./255)\n",
    "\n",
    "\n",
    "\n",
    "\n",
    "# Make sure you provide the same target size as initialied for the image size\n",
    "training_set = train_datagen.flow_from_directory('/kaggle/input/covid19-chest-xray-processed-dataset/Dataset/Train',\n",
    "                                                 target_size = (224,224),\n",
    "                                                 batch_size = 32,\n",
    "                                                 class_mode = 'categorical')\n",
    "\n",
    "\n",
    "test_set = test_datagen.flow_from_directory('/kaggle/input/covid19-chest-xray-processed-dataset/Dataset/Test',\n",
    "                                            target_size = (224,224),\n",
    "                                            batch_size = 32,\n",
    "                                            class_mode = 'categorical')\n",
    "\n",
    "\n",
    "val_set = test_datagen.flow_from_directory('/kaggle/input/covid19-chest-xray-processed-dataset/Dataset/Val',\n",
    "                                            target_size = (224,224),\n",
    "                                            batch_size = 32,\n",
    "                                            class_mode = 'categorical')"
   ]
  },
  {
   "cell_type": "markdown",
   "metadata": {
    "id": "eyh24sefc22K",
    "papermill": {
     "duration": 0.014518,
     "end_time": "2021-09-04T16:03:48.787163",
     "exception": false,
     "start_time": "2021-09-04T16:03:48.772645",
     "status": "completed"
    },
    "tags": []
   },
   "source": [
    "## VGG16"
   ]
  },
  {
   "cell_type": "code",
   "execution_count": 5,
   "metadata": {
    "execution": {
     "iopub.execute_input": "2021-09-04T16:03:48.823347Z",
     "iopub.status.busy": "2021-09-04T16:03:48.822804Z",
     "iopub.status.idle": "2021-09-04T16:03:51.724451Z",
     "shell.execute_reply": "2021-09-04T16:03:51.723926Z",
     "shell.execute_reply.started": "2021-09-03T09:37:54.165941Z"
    },
    "id": "M_hmEZCZUETs",
    "outputId": "a58a8249-d7de-4374-8364-df5be813d2f7",
    "papermill": {
     "duration": 2.922832,
     "end_time": "2021-09-04T16:03:51.724596",
     "exception": false,
     "start_time": "2021-09-04T16:03:48.801764",
     "status": "completed"
    },
    "tags": []
   },
   "outputs": [
    {
     "name": "stdout",
     "output_type": "stream",
     "text": [
      "Downloading data from https://storage.googleapis.com/tensorflow/keras-applications/vgg16/vgg16_weights_tf_dim_ordering_tf_kernels_notop.h5\n",
      "58892288/58889256 [==============================] - 0s 0us/step\n"
     ]
    }
   ],
   "source": [
    "base_model_vgg16 = VGG16(input_shape=IMAGE_SIZE, weights='imagenet', include_top=False, pooling='max')"
   ]
  },
  {
   "cell_type": "code",
   "execution_count": 6,
   "metadata": {
    "execution": {
     "iopub.execute_input": "2021-09-04T16:03:51.763143Z",
     "iopub.status.busy": "2021-09-04T16:03:51.762425Z",
     "iopub.status.idle": "2021-09-04T16:03:51.764774Z",
     "shell.execute_reply": "2021-09-04T16:03:51.765160Z",
     "shell.execute_reply.started": "2021-09-03T09:38:07.558561Z"
    },
    "id": "kP16aMjdUJUf",
    "papermill": {
     "duration": 0.023398,
     "end_time": "2021-09-04T16:03:51.765287",
     "exception": false,
     "start_time": "2021-09-04T16:03:51.741889",
     "status": "completed"
    },
    "tags": []
   },
   "outputs": [],
   "source": [
    "for layer in base_model_vgg16.layers:\n",
    "    layer.trainable = False"
   ]
  },
  {
   "cell_type": "markdown",
   "metadata": {
    "id": "QvKCywVUdZSu",
    "papermill": {
     "duration": 0.016482,
     "end_time": "2021-09-04T16:03:51.798351",
     "exception": false,
     "start_time": "2021-09-04T16:03:51.781869",
     "status": "completed"
    },
    "tags": []
   },
   "source": [
    "## Building Model"
   ]
  },
  {
   "cell_type": "code",
   "execution_count": 7,
   "metadata": {
    "execution": {
     "iopub.execute_input": "2021-09-04T16:03:51.838006Z",
     "iopub.status.busy": "2021-09-04T16:03:51.837245Z",
     "iopub.status.idle": "2021-09-04T16:03:51.852364Z",
     "shell.execute_reply": "2021-09-04T16:03:51.851875Z",
     "shell.execute_reply.started": "2021-09-03T09:38:08.755612Z"
    },
    "id": "h7Al-lBKVRYs",
    "papermill": {
     "duration": 0.037578,
     "end_time": "2021-09-04T16:03:51.852469",
     "exception": false,
     "start_time": "2021-09-04T16:03:51.814891",
     "status": "completed"
    },
    "tags": []
   },
   "outputs": [],
   "source": [
    "x = base_model_vgg16.output\n",
    "x = Flatten()(x)\n",
    "\n",
    "prediction = Dense(2, activation='softmax')(x)\n",
    "final_model = Model(inputs=base_model_vgg16.input, outputs=prediction)"
   ]
  },
  {
   "cell_type": "code",
   "execution_count": 8,
   "metadata": {
    "execution": {
     "iopub.execute_input": "2021-09-04T16:03:51.895298Z",
     "iopub.status.busy": "2021-09-04T16:03:51.894499Z",
     "iopub.status.idle": "2021-09-04T16:03:51.900524Z",
     "shell.execute_reply": "2021-09-04T16:03:51.900006Z",
     "shell.execute_reply.started": "2021-09-03T09:38:12.106834Z"
    },
    "id": "onWkMLGkVj_x",
    "papermill": {
     "duration": 0.031677,
     "end_time": "2021-09-04T16:03:51.900623",
     "exception": false,
     "start_time": "2021-09-04T16:03:51.868946",
     "status": "completed"
    },
    "tags": []
   },
   "outputs": [],
   "source": [
    "final_model.compile(\n",
    "  loss='categorical_crossentropy',\n",
    "  optimizer='SGD',\n",
    "  metrics=['accuracy']\n",
    ")"
   ]
  },
  {
   "cell_type": "code",
   "execution_count": 9,
   "metadata": {
    "execution": {
     "iopub.execute_input": "2021-09-04T16:03:51.939382Z",
     "iopub.status.busy": "2021-09-04T16:03:51.937366Z",
     "iopub.status.idle": "2021-09-04T16:03:51.952033Z",
     "shell.execute_reply": "2021-09-04T16:03:51.951641Z",
     "shell.execute_reply.started": "2021-09-03T09:38:13.315629Z"
    },
    "id": "i267lbE_GWCn",
    "outputId": "2f94956f-25c0-4064-d847-0b1cc481c8da",
    "papermill": {
     "duration": 0.034944,
     "end_time": "2021-09-04T16:03:51.952151",
     "exception": false,
     "start_time": "2021-09-04T16:03:51.917207",
     "status": "completed"
    },
    "tags": []
   },
   "outputs": [
    {
     "name": "stdout",
     "output_type": "stream",
     "text": [
      "Model: \"model\"\n",
      "_________________________________________________________________\n",
      "Layer (type)                 Output Shape              Param #   \n",
      "=================================================================\n",
      "input_1 (InputLayer)         [(None, 224, 224, 3)]     0         \n",
      "_________________________________________________________________\n",
      "block1_conv1 (Conv2D)        (None, 224, 224, 64)      1792      \n",
      "_________________________________________________________________\n",
      "block1_conv2 (Conv2D)        (None, 224, 224, 64)      36928     \n",
      "_________________________________________________________________\n",
      "block1_pool (MaxPooling2D)   (None, 112, 112, 64)      0         \n",
      "_________________________________________________________________\n",
      "block2_conv1 (Conv2D)        (None, 112, 112, 128)     73856     \n",
      "_________________________________________________________________\n",
      "block2_conv2 (Conv2D)        (None, 112, 112, 128)     147584    \n",
      "_________________________________________________________________\n",
      "block2_pool (MaxPooling2D)   (None, 56, 56, 128)       0         \n",
      "_________________________________________________________________\n",
      "block3_conv1 (Conv2D)        (None, 56, 56, 256)       295168    \n",
      "_________________________________________________________________\n",
      "block3_conv2 (Conv2D)        (None, 56, 56, 256)       590080    \n",
      "_________________________________________________________________\n",
      "block3_conv3 (Conv2D)        (None, 56, 56, 256)       590080    \n",
      "_________________________________________________________________\n",
      "block3_pool (MaxPooling2D)   (None, 28, 28, 256)       0         \n",
      "_________________________________________________________________\n",
      "block4_conv1 (Conv2D)        (None, 28, 28, 512)       1180160   \n",
      "_________________________________________________________________\n",
      "block4_conv2 (Conv2D)        (None, 28, 28, 512)       2359808   \n",
      "_________________________________________________________________\n",
      "block4_conv3 (Conv2D)        (None, 28, 28, 512)       2359808   \n",
      "_________________________________________________________________\n",
      "block4_pool (MaxPooling2D)   (None, 14, 14, 512)       0         \n",
      "_________________________________________________________________\n",
      "block5_conv1 (Conv2D)        (None, 14, 14, 512)       2359808   \n",
      "_________________________________________________________________\n",
      "block5_conv2 (Conv2D)        (None, 14, 14, 512)       2359808   \n",
      "_________________________________________________________________\n",
      "block5_conv3 (Conv2D)        (None, 14, 14, 512)       2359808   \n",
      "_________________________________________________________________\n",
      "block5_pool (MaxPooling2D)   (None, 7, 7, 512)         0         \n",
      "_________________________________________________________________\n",
      "global_max_pooling2d (Global (None, 512)               0         \n",
      "_________________________________________________________________\n",
      "flatten (Flatten)            (None, 512)               0         \n",
      "_________________________________________________________________\n",
      "dense (Dense)                (None, 2)                 1026      \n",
      "=================================================================\n",
      "Total params: 14,715,714\n",
      "Trainable params: 1,026\n",
      "Non-trainable params: 14,714,688\n",
      "_________________________________________________________________\n"
     ]
    }
   ],
   "source": [
    "final_model.summary()"
   ]
  },
  {
   "cell_type": "markdown",
   "metadata": {
    "id": "UrGXm4MkKIr7",
    "papermill": {
     "duration": 0.016731,
     "end_time": "2021-09-04T16:03:51.985717",
     "exception": false,
     "start_time": "2021-09-04T16:03:51.968986",
     "status": "completed"
    },
    "tags": []
   },
   "source": [
    "## Training"
   ]
  },
  {
   "cell_type": "code",
   "execution_count": 10,
   "metadata": {
    "execution": {
     "iopub.execute_input": "2021-09-04T16:03:52.023462Z",
     "iopub.status.busy": "2021-09-04T16:03:52.022858Z",
     "iopub.status.idle": "2021-09-04T20:17:17.776942Z",
     "shell.execute_reply": "2021-09-04T20:17:17.777672Z",
     "shell.execute_reply.started": "2021-09-03T09:38:13.3908Z"
    },
    "id": "T7LwpawHGgs6",
    "outputId": "80e6e6ed-18ce-4cfc-f0ba-d93b25d41615",
    "papermill": {
     "duration": 15205.775174,
     "end_time": "2021-09-04T20:17:17.777890",
     "exception": false,
     "start_time": "2021-09-04T16:03:52.002716",
     "status": "completed"
    },
    "tags": []
   },
   "outputs": [
    {
     "name": "stdout",
     "output_type": "stream",
     "text": [
      "Epoch 1/100\n",
      "114/114 [==============================] - 205s 2s/step - loss: 0.4296 - accuracy: 0.8026 - val_loss: 0.2195 - val_accuracy: 0.9297\n",
      "Epoch 2/100\n",
      "114/114 [==============================] - 148s 1s/step - loss: 0.1951 - accuracy: 0.9455 - val_loss: 0.1552 - val_accuracy: 0.9670\n",
      "Epoch 3/100\n",
      "114/114 [==============================] - 147s 1s/step - loss: 0.1515 - accuracy: 0.9536 - val_loss: 0.1331 - val_accuracy: 0.9604\n",
      "Epoch 4/100\n",
      "114/114 [==============================] - 147s 1s/step - loss: 0.1235 - accuracy: 0.9702 - val_loss: 0.1185 - val_accuracy: 0.9670\n",
      "Epoch 5/100\n",
      "114/114 [==============================] - 148s 1s/step - loss: 0.1156 - accuracy: 0.9694 - val_loss: 0.1098 - val_accuracy: 0.9670\n",
      "Epoch 6/100\n",
      "114/114 [==============================] - 148s 1s/step - loss: 0.1029 - accuracy: 0.9722 - val_loss: 0.1060 - val_accuracy: 0.9648\n",
      "Epoch 7/100\n",
      "114/114 [==============================] - 147s 1s/step - loss: 0.0944 - accuracy: 0.9755 - val_loss: 0.0993 - val_accuracy: 0.9692\n",
      "Epoch 8/100\n",
      "114/114 [==============================] - 148s 1s/step - loss: 0.0892 - accuracy: 0.9720 - val_loss: 0.0992 - val_accuracy: 0.9758\n",
      "Epoch 9/100\n",
      "114/114 [==============================] - 148s 1s/step - loss: 0.0875 - accuracy: 0.9721 - val_loss: 0.0924 - val_accuracy: 0.9714\n",
      "Epoch 10/100\n",
      "114/114 [==============================] - 148s 1s/step - loss: 0.0764 - accuracy: 0.9788 - val_loss: 0.0898 - val_accuracy: 0.9736\n",
      "Epoch 11/100\n",
      "114/114 [==============================] - 147s 1s/step - loss: 0.0855 - accuracy: 0.9741 - val_loss: 0.0891 - val_accuracy: 0.9714\n",
      "Epoch 12/100\n",
      "114/114 [==============================] - 149s 1s/step - loss: 0.0804 - accuracy: 0.9758 - val_loss: 0.0863 - val_accuracy: 0.9648\n",
      "Epoch 13/100\n",
      "114/114 [==============================] - 148s 1s/step - loss: 0.0791 - accuracy: 0.9733 - val_loss: 0.0906 - val_accuracy: 0.9692\n",
      "Epoch 14/100\n",
      "114/114 [==============================] - 150s 1s/step - loss: 0.0716 - accuracy: 0.9782 - val_loss: 0.0849 - val_accuracy: 0.9802\n",
      "Epoch 15/100\n",
      "114/114 [==============================] - 150s 1s/step - loss: 0.0778 - accuracy: 0.9721 - val_loss: 0.0827 - val_accuracy: 0.9824\n",
      "Epoch 16/100\n",
      "114/114 [==============================] - 150s 1s/step - loss: 0.0724 - accuracy: 0.9765 - val_loss: 0.0787 - val_accuracy: 0.9780\n",
      "Epoch 17/100\n",
      "114/114 [==============================] - 150s 1s/step - loss: 0.0668 - accuracy: 0.9788 - val_loss: 0.0776 - val_accuracy: 0.9736\n",
      "Epoch 18/100\n",
      "114/114 [==============================] - 148s 1s/step - loss: 0.0649 - accuracy: 0.9789 - val_loss: 0.0766 - val_accuracy: 0.9780\n",
      "Epoch 19/100\n",
      "114/114 [==============================] - 149s 1s/step - loss: 0.0582 - accuracy: 0.9841 - val_loss: 0.0756 - val_accuracy: 0.9780\n",
      "Epoch 20/100\n",
      "114/114 [==============================] - 148s 1s/step - loss: 0.0602 - accuracy: 0.9795 - val_loss: 0.0750 - val_accuracy: 0.9802\n",
      "Epoch 21/100\n",
      "114/114 [==============================] - 149s 1s/step - loss: 0.0600 - accuracy: 0.9845 - val_loss: 0.0738 - val_accuracy: 0.9780\n",
      "Epoch 22/100\n",
      "114/114 [==============================] - 149s 1s/step - loss: 0.0651 - accuracy: 0.9809 - val_loss: 0.0729 - val_accuracy: 0.9780\n",
      "Epoch 23/100\n",
      "114/114 [==============================] - 149s 1s/step - loss: 0.0577 - accuracy: 0.9797 - val_loss: 0.0721 - val_accuracy: 0.9780\n",
      "Epoch 24/100\n",
      "114/114 [==============================] - 149s 1s/step - loss: 0.0590 - accuracy: 0.9799 - val_loss: 0.0711 - val_accuracy: 0.9780\n",
      "Epoch 25/100\n",
      "114/114 [==============================] - 149s 1s/step - loss: 0.0578 - accuracy: 0.9782 - val_loss: 0.0727 - val_accuracy: 0.9846\n",
      "Epoch 26/100\n",
      "114/114 [==============================] - 149s 1s/step - loss: 0.0543 - accuracy: 0.9804 - val_loss: 0.0698 - val_accuracy: 0.9758\n",
      "Epoch 27/100\n",
      "114/114 [==============================] - 149s 1s/step - loss: 0.0508 - accuracy: 0.9839 - val_loss: 0.0698 - val_accuracy: 0.9824\n",
      "Epoch 28/100\n",
      "114/114 [==============================] - 149s 1s/step - loss: 0.0525 - accuracy: 0.9843 - val_loss: 0.0690 - val_accuracy: 0.9758\n",
      "Epoch 29/100\n",
      "114/114 [==============================] - 149s 1s/step - loss: 0.0599 - accuracy: 0.9815 - val_loss: 0.0685 - val_accuracy: 0.9758\n",
      "Epoch 30/100\n",
      "114/114 [==============================] - 150s 1s/step - loss: 0.0676 - accuracy: 0.9765 - val_loss: 0.0682 - val_accuracy: 0.9824\n",
      "Epoch 31/100\n",
      "114/114 [==============================] - 149s 1s/step - loss: 0.0519 - accuracy: 0.9851 - val_loss: 0.0680 - val_accuracy: 0.9846\n",
      "Epoch 32/100\n",
      "114/114 [==============================] - 150s 1s/step - loss: 0.0472 - accuracy: 0.9867 - val_loss: 0.0670 - val_accuracy: 0.9802\n",
      "Epoch 33/100\n",
      "114/114 [==============================] - 149s 1s/step - loss: 0.0501 - accuracy: 0.9865 - val_loss: 0.0664 - val_accuracy: 0.9780\n",
      "Epoch 34/100\n",
      "114/114 [==============================] - 150s 1s/step - loss: 0.0495 - accuracy: 0.9865 - val_loss: 0.0661 - val_accuracy: 0.9802\n",
      "Epoch 35/100\n",
      "114/114 [==============================] - 150s 1s/step - loss: 0.0487 - accuracy: 0.9867 - val_loss: 0.0658 - val_accuracy: 0.9780\n",
      "Epoch 36/100\n",
      "114/114 [==============================] - 150s 1s/step - loss: 0.0552 - accuracy: 0.9811 - val_loss: 0.0652 - val_accuracy: 0.9802\n",
      "Epoch 37/100\n",
      "114/114 [==============================] - 150s 1s/step - loss: 0.0534 - accuracy: 0.9835 - val_loss: 0.0649 - val_accuracy: 0.9802\n",
      "Epoch 38/100\n",
      "114/114 [==============================] - 150s 1s/step - loss: 0.0574 - accuracy: 0.9798 - val_loss: 0.0654 - val_accuracy: 0.9780\n",
      "Epoch 39/100\n",
      "114/114 [==============================] - 150s 1s/step - loss: 0.0596 - accuracy: 0.9821 - val_loss: 0.0640 - val_accuracy: 0.9824\n",
      "Epoch 40/100\n",
      "114/114 [==============================] - 150s 1s/step - loss: 0.0566 - accuracy: 0.9803 - val_loss: 0.0642 - val_accuracy: 0.9824\n",
      "Epoch 41/100\n",
      "114/114 [==============================] - 150s 1s/step - loss: 0.0476 - accuracy: 0.9872 - val_loss: 0.0638 - val_accuracy: 0.9802\n",
      "Epoch 42/100\n",
      "114/114 [==============================] - 150s 1s/step - loss: 0.0530 - accuracy: 0.9849 - val_loss: 0.0649 - val_accuracy: 0.9846\n",
      "Epoch 43/100\n",
      "114/114 [==============================] - 150s 1s/step - loss: 0.0507 - accuracy: 0.9846 - val_loss: 0.0628 - val_accuracy: 0.9824\n",
      "Epoch 44/100\n",
      "114/114 [==============================] - 150s 1s/step - loss: 0.0502 - accuracy: 0.9846 - val_loss: 0.0627 - val_accuracy: 0.9824\n",
      "Epoch 45/100\n",
      "114/114 [==============================] - 150s 1s/step - loss: 0.0523 - accuracy: 0.9846 - val_loss: 0.0628 - val_accuracy: 0.9824\n",
      "Epoch 46/100\n",
      "114/114 [==============================] - 151s 1s/step - loss: 0.0492 - accuracy: 0.9844 - val_loss: 0.0646 - val_accuracy: 0.9846\n",
      "Epoch 47/100\n",
      "114/114 [==============================] - 151s 1s/step - loss: 0.0477 - accuracy: 0.9806 - val_loss: 0.0620 - val_accuracy: 0.9802\n",
      "Epoch 48/100\n",
      "114/114 [==============================] - 150s 1s/step - loss: 0.0467 - accuracy: 0.9877 - val_loss: 0.0628 - val_accuracy: 0.9802\n",
      "Epoch 49/100\n",
      "114/114 [==============================] - 152s 1s/step - loss: 0.0437 - accuracy: 0.9871 - val_loss: 0.0613 - val_accuracy: 0.9824\n",
      "Epoch 50/100\n",
      "114/114 [==============================] - 151s 1s/step - loss: 0.0487 - accuracy: 0.9859 - val_loss: 0.0610 - val_accuracy: 0.9824\n",
      "Epoch 51/100\n",
      "114/114 [==============================] - 151s 1s/step - loss: 0.0464 - accuracy: 0.9852 - val_loss: 0.0611 - val_accuracy: 0.9824\n",
      "Epoch 52/100\n",
      "114/114 [==============================] - 151s 1s/step - loss: 0.0456 - accuracy: 0.9851 - val_loss: 0.0607 - val_accuracy: 0.9824\n",
      "Epoch 53/100\n",
      "114/114 [==============================] - 152s 1s/step - loss: 0.0418 - accuracy: 0.9849 - val_loss: 0.0622 - val_accuracy: 0.9846\n",
      "Epoch 54/100\n",
      "114/114 [==============================] - 152s 1s/step - loss: 0.0536 - accuracy: 0.9852 - val_loss: 0.0605 - val_accuracy: 0.9802\n",
      "Epoch 55/100\n",
      "114/114 [==============================] - 155s 1s/step - loss: 0.0442 - accuracy: 0.9827 - val_loss: 0.0602 - val_accuracy: 0.9802\n",
      "Epoch 56/100\n",
      "114/114 [==============================] - 153s 1s/step - loss: 0.0391 - accuracy: 0.9893 - val_loss: 0.0612 - val_accuracy: 0.9802\n",
      "Epoch 57/100\n",
      "114/114 [==============================] - 153s 1s/step - loss: 0.0498 - accuracy: 0.9842 - val_loss: 0.0610 - val_accuracy: 0.9846\n",
      "Epoch 58/100\n",
      "114/114 [==============================] - 152s 1s/step - loss: 0.0446 - accuracy: 0.9879 - val_loss: 0.0597 - val_accuracy: 0.9802\n",
      "Epoch 59/100\n",
      "114/114 [==============================] - 157s 1s/step - loss: 0.0392 - accuracy: 0.9891 - val_loss: 0.0597 - val_accuracy: 0.9846\n",
      "Epoch 60/100\n",
      "114/114 [==============================] - 156s 1s/step - loss: 0.0386 - accuracy: 0.9925 - val_loss: 0.0605 - val_accuracy: 0.9846\n",
      "Epoch 61/100\n",
      "114/114 [==============================] - 153s 1s/step - loss: 0.0377 - accuracy: 0.9902 - val_loss: 0.0592 - val_accuracy: 0.9802\n",
      "Epoch 62/100\n",
      "114/114 [==============================] - 153s 1s/step - loss: 0.0506 - accuracy: 0.9819 - val_loss: 0.0597 - val_accuracy: 0.9802\n",
      "Epoch 63/100\n",
      "114/114 [==============================] - 153s 1s/step - loss: 0.0405 - accuracy: 0.9877 - val_loss: 0.0601 - val_accuracy: 0.9846\n",
      "Epoch 64/100\n",
      "114/114 [==============================] - 152s 1s/step - loss: 0.0411 - accuracy: 0.9888 - val_loss: 0.0588 - val_accuracy: 0.9824\n",
      "Epoch 65/100\n",
      "114/114 [==============================] - 153s 1s/step - loss: 0.0426 - accuracy: 0.9870 - val_loss: 0.0598 - val_accuracy: 0.9846\n",
      "Epoch 66/100\n",
      "114/114 [==============================] - 153s 1s/step - loss: 0.0416 - accuracy: 0.9880 - val_loss: 0.0589 - val_accuracy: 0.9846\n",
      "Epoch 67/100\n",
      "114/114 [==============================] - 154s 1s/step - loss: 0.0523 - accuracy: 0.9810 - val_loss: 0.0584 - val_accuracy: 0.9846\n",
      "Epoch 68/100\n",
      "114/114 [==============================] - 153s 1s/step - loss: 0.0424 - accuracy: 0.9869 - val_loss: 0.0590 - val_accuracy: 0.9868\n",
      "Epoch 69/100\n",
      "114/114 [==============================] - 153s 1s/step - loss: 0.0416 - accuracy: 0.9845 - val_loss: 0.0581 - val_accuracy: 0.9802\n",
      "Epoch 70/100\n",
      "114/114 [==============================] - 153s 1s/step - loss: 0.0476 - accuracy: 0.9860 - val_loss: 0.0601 - val_accuracy: 0.9846\n",
      "Epoch 71/100\n",
      "114/114 [==============================] - 155s 1s/step - loss: 0.0350 - accuracy: 0.9886 - val_loss: 0.0585 - val_accuracy: 0.9868\n",
      "Epoch 72/100\n",
      "114/114 [==============================] - 153s 1s/step - loss: 0.0383 - accuracy: 0.9889 - val_loss: 0.0575 - val_accuracy: 0.9802\n",
      "Epoch 73/100\n",
      "114/114 [==============================] - 153s 1s/step - loss: 0.0434 - accuracy: 0.9861 - val_loss: 0.0583 - val_accuracy: 0.9868\n",
      "Epoch 74/100\n",
      "114/114 [==============================] - 153s 1s/step - loss: 0.0474 - accuracy: 0.9833 - val_loss: 0.0581 - val_accuracy: 0.9868\n",
      "Epoch 75/100\n",
      "114/114 [==============================] - 153s 1s/step - loss: 0.0430 - accuracy: 0.9854 - val_loss: 0.0642 - val_accuracy: 0.9846\n",
      "Epoch 76/100\n",
      "114/114 [==============================] - 153s 1s/step - loss: 0.0395 - accuracy: 0.9860 - val_loss: 0.0593 - val_accuracy: 0.9846\n",
      "Epoch 77/100\n",
      "114/114 [==============================] - 153s 1s/step - loss: 0.0381 - accuracy: 0.9888 - val_loss: 0.0584 - val_accuracy: 0.9846\n",
      "Epoch 78/100\n",
      "114/114 [==============================] - 153s 1s/step - loss: 0.0386 - accuracy: 0.9896 - val_loss: 0.0576 - val_accuracy: 0.9868\n",
      "Epoch 79/100\n",
      "114/114 [==============================] - 153s 1s/step - loss: 0.0406 - accuracy: 0.9854 - val_loss: 0.0588 - val_accuracy: 0.9846\n",
      "Epoch 80/100\n",
      "114/114 [==============================] - 153s 1s/step - loss: 0.0356 - accuracy: 0.9885 - val_loss: 0.0567 - val_accuracy: 0.9802\n",
      "Epoch 81/100\n",
      "114/114 [==============================] - 154s 1s/step - loss: 0.0420 - accuracy: 0.9855 - val_loss: 0.0576 - val_accuracy: 0.9868\n",
      "Epoch 82/100\n",
      "114/114 [==============================] - 153s 1s/step - loss: 0.0375 - accuracy: 0.9905 - val_loss: 0.0612 - val_accuracy: 0.9846\n",
      "Epoch 83/100\n",
      "114/114 [==============================] - 153s 1s/step - loss: 0.0388 - accuracy: 0.9889 - val_loss: 0.0571 - val_accuracy: 0.9868\n",
      "Epoch 84/100\n",
      "114/114 [==============================] - 155s 1s/step - loss: 0.0388 - accuracy: 0.9880 - val_loss: 0.0564 - val_accuracy: 0.9802\n",
      "Epoch 85/100\n",
      "114/114 [==============================] - 155s 1s/step - loss: 0.0400 - accuracy: 0.9893 - val_loss: 0.0586 - val_accuracy: 0.9846\n",
      "Epoch 86/100\n",
      "114/114 [==============================] - 153s 1s/step - loss: 0.0390 - accuracy: 0.9862 - val_loss: 0.0566 - val_accuracy: 0.9846\n",
      "Epoch 87/100\n",
      "114/114 [==============================] - 154s 1s/step - loss: 0.0392 - accuracy: 0.9873 - val_loss: 0.0569 - val_accuracy: 0.9868\n",
      "Epoch 88/100\n",
      "114/114 [==============================] - 155s 1s/step - loss: 0.0408 - accuracy: 0.9879 - val_loss: 0.0573 - val_accuracy: 0.9868\n",
      "Epoch 89/100\n",
      "114/114 [==============================] - 154s 1s/step - loss: 0.0366 - accuracy: 0.9880 - val_loss: 0.0561 - val_accuracy: 0.9824\n",
      "Epoch 90/100\n",
      "114/114 [==============================] - 155s 1s/step - loss: 0.0406 - accuracy: 0.9877 - val_loss: 0.0562 - val_accuracy: 0.9846\n",
      "Epoch 91/100\n",
      "114/114 [==============================] - 155s 1s/step - loss: 0.0378 - accuracy: 0.9888 - val_loss: 0.0575 - val_accuracy: 0.9868\n",
      "Epoch 92/100\n",
      "114/114 [==============================] - 155s 1s/step - loss: 0.0388 - accuracy: 0.9885 - val_loss: 0.0576 - val_accuracy: 0.9846\n",
      "Epoch 93/100\n",
      "114/114 [==============================] - 154s 1s/step - loss: 0.0366 - accuracy: 0.9891 - val_loss: 0.0568 - val_accuracy: 0.9868\n",
      "Epoch 94/100\n",
      "114/114 [==============================] - 154s 1s/step - loss: 0.0381 - accuracy: 0.9861 - val_loss: 0.0564 - val_accuracy: 0.9846\n",
      "Epoch 95/100\n",
      "114/114 [==============================] - 155s 1s/step - loss: 0.0356 - accuracy: 0.9899 - val_loss: 0.0556 - val_accuracy: 0.9824\n",
      "Epoch 96/100\n",
      "114/114 [==============================] - 154s 1s/step - loss: 0.0335 - accuracy: 0.9897 - val_loss: 0.0588 - val_accuracy: 0.9846\n",
      "Epoch 97/100\n",
      "114/114 [==============================] - 155s 1s/step - loss: 0.0408 - accuracy: 0.9877 - val_loss: 0.0554 - val_accuracy: 0.9824\n",
      "Epoch 98/100\n",
      "114/114 [==============================] - 155s 1s/step - loss: 0.0369 - accuracy: 0.9900 - val_loss: 0.0623 - val_accuracy: 0.9846\n",
      "Epoch 99/100\n",
      "114/114 [==============================] - 155s 1s/step - loss: 0.0359 - accuracy: 0.9887 - val_loss: 0.0581 - val_accuracy: 0.9846\n",
      "Epoch 100/100\n",
      "114/114 [==============================] - 154s 1s/step - loss: 0.0453 - accuracy: 0.9855 - val_loss: 0.0585 - val_accuracy: 0.9846\n"
     ]
    }
   ],
   "source": [
    "history = final_model.fit_generator(\n",
    "  training_set,\n",
    "  validation_data=val_set,\n",
    "  epochs=100,\n",
    "  steps_per_epoch=len(training_set),\n",
    "  validation_steps=len(val_set)\n",
    ")"
   ]
  },
  {
   "cell_type": "markdown",
   "metadata": {
    "id": "wqvMA-ZuKdG6",
    "papermill": {
     "duration": 2.900227,
     "end_time": "2021-09-04T20:17:24.393799",
     "exception": false,
     "start_time": "2021-09-04T20:17:21.493572",
     "status": "completed"
    },
    "tags": []
   },
   "source": [
    "## Testing"
   ]
  },
  {
   "cell_type": "code",
   "execution_count": 11,
   "metadata": {
    "execution": {
     "iopub.execute_input": "2021-09-04T20:17:30.266688Z",
     "iopub.status.busy": "2021-09-04T20:17:30.265178Z",
     "iopub.status.idle": "2021-09-04T20:18:05.930926Z",
     "shell.execute_reply": "2021-09-04T20:18:05.927477Z",
     "shell.execute_reply.started": "2021-09-03T14:07:11.129277Z"
    },
    "id": "Lf56gnUUZ8PB",
    "papermill": {
     "duration": 38.57311,
     "end_time": "2021-09-04T20:18:05.931088",
     "exception": false,
     "start_time": "2021-09-04T20:17:27.357978",
     "status": "completed"
    },
    "tags": []
   },
   "outputs": [
    {
     "name": "stdout",
     "output_type": "stream",
     "text": [
      "Evaluating on test data ....\n",
      "15/15 [==============================] - 33s 2s/step - loss: 0.0424 - accuracy: 0.9846\n",
      "test loss, test acc: [0.0423918180167675, 0.9846153855323792]\n"
     ]
    }
   ],
   "source": [
    "print(\"Evaluating on test data ....\")\n",
    "results = final_model.evaluate(test_set, batch_size=32)\n",
    "print(\"test loss, test acc:\", results)"
   ]
  },
  {
   "cell_type": "markdown",
   "metadata": {
    "id": "oAttfdbALKT-",
    "papermill": {
     "duration": 2.91065,
     "end_time": "2021-09-04T20:18:11.750676",
     "exception": false,
     "start_time": "2021-09-04T20:18:08.840026",
     "status": "completed"
    },
    "tags": []
   },
   "source": [
    "## Plotting "
   ]
  },
  {
   "cell_type": "code",
   "execution_count": 12,
   "metadata": {
    "execution": {
     "iopub.execute_input": "2021-09-04T20:18:17.928515Z",
     "iopub.status.busy": "2021-09-04T20:18:17.927776Z",
     "iopub.status.idle": "2021-09-04T20:18:17.931293Z",
     "shell.execute_reply": "2021-09-04T20:18:17.931713Z",
     "shell.execute_reply.started": "2021-09-03T14:07:34.626995Z"
    },
    "id": "Qdbzj8VlLOGb",
    "papermill": {
     "duration": 3.25129,
     "end_time": "2021-09-04T20:18:17.931847",
     "exception": false,
     "start_time": "2021-09-04T20:18:14.680557",
     "status": "completed"
    },
    "tags": []
   },
   "outputs": [
    {
     "data": {
      "text/plain": [
       "{'loss': [0.33531373739242554,\n",
       "  0.17920416593551636,\n",
       "  0.1407071053981781,\n",
       "  0.12052209675312042,\n",
       "  0.1120910570025444,\n",
       "  0.10256443917751312,\n",
       "  0.09314999729394913,\n",
       "  0.08778706938028336,\n",
       "  0.0887814313173294,\n",
       "  0.08278333395719528,\n",
       "  0.0754963681101799,\n",
       "  0.08100872486829758,\n",
       "  0.0723259225487709,\n",
       "  0.07298871129751205,\n",
       "  0.07022847980260849,\n",
       "  0.0680028647184372,\n",
       "  0.06802248954772949,\n",
       "  0.06087828055024147,\n",
       "  0.06354828178882599,\n",
       "  0.06674027442932129,\n",
       "  0.06028451398015022,\n",
       "  0.058942366391420364,\n",
       "  0.05945398285984993,\n",
       "  0.06008957698941231,\n",
       "  0.059312604367733,\n",
       "  0.05697496235370636,\n",
       "  0.05635673180222511,\n",
       "  0.05678178742527962,\n",
       "  0.056568678468465805,\n",
       "  0.06105487421154976,\n",
       "  0.0531160868704319,\n",
       "  0.051206205040216446,\n",
       "  0.05280045047402382,\n",
       "  0.05191926285624504,\n",
       "  0.0511314757168293,\n",
       "  0.05121128633618355,\n",
       "  0.05160894989967346,\n",
       "  0.054479002952575684,\n",
       "  0.0517832450568676,\n",
       "  0.052452050149440765,\n",
       "  0.05112495645880699,\n",
       "  0.049919359385967255,\n",
       "  0.0500987209379673,\n",
       "  0.05023512244224548,\n",
       "  0.04944715276360512,\n",
       "  0.04988355562090874,\n",
       "  0.04649753496050835,\n",
       "  0.04633380472660065,\n",
       "  0.045929502695798874,\n",
       "  0.0461404025554657,\n",
       "  0.044819194823503494,\n",
       "  0.0443541593849659,\n",
       "  0.04536556825041771,\n",
       "  0.04797394946217537,\n",
       "  0.045649971812963486,\n",
       "  0.042987141758203506,\n",
       "  0.04633922129869461,\n",
       "  0.04592422768473625,\n",
       "  0.04393082857131958,\n",
       "  0.04298784211277962,\n",
       "  0.04284239560365677,\n",
       "  0.04335976392030716,\n",
       "  0.04361078888177872,\n",
       "  0.04243384301662445,\n",
       "  0.04214412346482277,\n",
       "  0.04217558354139328,\n",
       "  0.0477144680917263,\n",
       "  0.0415923148393631,\n",
       "  0.04259457811713219,\n",
       "  0.04301834851503372,\n",
       "  0.04242194443941116,\n",
       "  0.04241151362657547,\n",
       "  0.039643414318561554,\n",
       "  0.03953906521201134,\n",
       "  0.040225159376859665,\n",
       "  0.043655864894390106,\n",
       "  0.04154965281486511,\n",
       "  0.041597191244363785,\n",
       "  0.04043657332658768,\n",
       "  0.0382472388446331,\n",
       "  0.03930819779634476,\n",
       "  0.03753536567091942,\n",
       "  0.04072541370987892,\n",
       "  0.0388520322740078,\n",
       "  0.042355723679065704,\n",
       "  0.04244741424918175,\n",
       "  0.0394253134727478,\n",
       "  0.041118819266557693,\n",
       "  0.038004837930202484,\n",
       "  0.0404752753674984,\n",
       "  0.03922408074140549,\n",
       "  0.03827947378158569,\n",
       "  0.03738756105303764,\n",
       "  0.03769946098327637,\n",
       "  0.03846634179353714,\n",
       "  0.03797294199466705,\n",
       "  0.03836572542786598,\n",
       "  0.037360455840826035,\n",
       "  0.03735039010643959,\n",
       "  0.03886571153998375],\n",
       " 'accuracy': [0.8709145784378052,\n",
       "  0.9497390985488892,\n",
       "  0.9631969332695007,\n",
       "  0.9670420289039612,\n",
       "  0.9695138931274414,\n",
       "  0.9725350141525269,\n",
       "  0.9744575619697571,\n",
       "  0.9752815365791321,\n",
       "  0.9703378081321716,\n",
       "  0.9741829037666321,\n",
       "  0.9783026576042175,\n",
       "  0.9728096723556519,\n",
       "  0.9769294261932373,\n",
       "  0.9777533411979675,\n",
       "  0.9791266322135925,\n",
       "  0.9785773158073425,\n",
       "  0.9780279994010925,\n",
       "  0.981873095035553,\n",
       "  0.9813238382339478,\n",
       "  0.9783026576042175,\n",
       "  0.982147753238678,\n",
       "  0.982147753238678,\n",
       "  0.982147753238678,\n",
       "  0.9791266322135925,\n",
       "  0.9802252054214478,\n",
       "  0.9796758890151978,\n",
       "  0.982147753238678,\n",
       "  0.9794012904167175,\n",
       "  0.9835209846496582,\n",
       "  0.9810491800308228,\n",
       "  0.9843449592590332,\n",
       "  0.9854435324668884,\n",
       "  0.9848942756652832,\n",
       "  0.9846196174621582,\n",
       "  0.9854435324668884,\n",
       "  0.9840703010559082,\n",
       "  0.982422411441803,\n",
       "  0.981598436832428,\n",
       "  0.9846196174621582,\n",
       "  0.981598436832428,\n",
       "  0.9835209846496582,\n",
       "  0.9865421652793884,\n",
       "  0.982971727848053,\n",
       "  0.983246386051178,\n",
       "  0.9848942756652832,\n",
       "  0.983246386051178,\n",
       "  0.9837956428527832,\n",
       "  0.9873660802841187,\n",
       "  0.9854435324668884,\n",
       "  0.9870914816856384,\n",
       "  0.9865421652793884,\n",
       "  0.9848942756652832,\n",
       "  0.9851689338684082,\n",
       "  0.9859928488731384,\n",
       "  0.9835209846496582,\n",
       "  0.9873660802841187,\n",
       "  0.9859928488731384,\n",
       "  0.9865421652793884,\n",
       "  0.9876407384872437,\n",
       "  0.9887393712997437,\n",
       "  0.9857181906700134,\n",
       "  0.9859928488731384,\n",
       "  0.9862675070762634,\n",
       "  0.9873660802841187,\n",
       "  0.9859928488731384,\n",
       "  0.9870914816856384,\n",
       "  0.9840703010559082,\n",
       "  0.9870914816856384,\n",
       "  0.9846196174621582,\n",
       "  0.9887393712997437,\n",
       "  0.9862675070762634,\n",
       "  0.9857181906700134,\n",
       "  0.9887393712997437,\n",
       "  0.9881900548934937,\n",
       "  0.9876407384872437,\n",
       "  0.9843449592590332,\n",
       "  0.9873660802841187,\n",
       "  0.9876407384872437,\n",
       "  0.9870914816856384,\n",
       "  0.9870914816856384,\n",
       "  0.9868168234825134,\n",
       "  0.9898379445075989,\n",
       "  0.9879153966903687,\n",
       "  0.9876407384872437,\n",
       "  0.9868168234825134,\n",
       "  0.9846196174621582,\n",
       "  0.9879153966903687,\n",
       "  0.9876407384872437,\n",
       "  0.9879153966903687,\n",
       "  0.9879153966903687,\n",
       "  0.9881900548934937,\n",
       "  0.9870914816856384,\n",
       "  0.9879153966903687,\n",
       "  0.9868168234825134,\n",
       "  0.9887393712997437,\n",
       "  0.9881900548934937,\n",
       "  0.9892886281013489,\n",
       "  0.9887393712997437,\n",
       "  0.9873660802841187,\n",
       "  0.9887393712997437],\n",
       " 'val_loss': [0.21945108473300934,\n",
       "  0.15521013736724854,\n",
       "  0.13312488794326782,\n",
       "  0.11854879558086395,\n",
       "  0.1097780242562294,\n",
       "  0.10597022622823715,\n",
       "  0.09927809238433838,\n",
       "  0.0991886705160141,\n",
       "  0.09235051274299622,\n",
       "  0.08976005017757416,\n",
       "  0.08907460421323776,\n",
       "  0.08634213358163834,\n",
       "  0.09057918190956116,\n",
       "  0.08488176763057709,\n",
       "  0.08266650140285492,\n",
       "  0.0787181705236435,\n",
       "  0.0775998905301094,\n",
       "  0.07655636221170425,\n",
       "  0.07559987157583237,\n",
       "  0.07501096278429031,\n",
       "  0.07375742495059967,\n",
       "  0.07289007306098938,\n",
       "  0.07205085456371307,\n",
       "  0.0711248591542244,\n",
       "  0.07265935838222504,\n",
       "  0.06981593370437622,\n",
       "  0.0698389932513237,\n",
       "  0.06897279620170593,\n",
       "  0.06852053850889206,\n",
       "  0.06824027746915817,\n",
       "  0.06798776239156723,\n",
       "  0.06703905761241913,\n",
       "  0.06636358052492142,\n",
       "  0.06605781614780426,\n",
       "  0.06580519676208496,\n",
       "  0.06518357992172241,\n",
       "  0.06490244716405869,\n",
       "  0.06535442173480988,\n",
       "  0.06396430730819702,\n",
       "  0.06422261893749237,\n",
       "  0.0637509673833847,\n",
       "  0.06494838744401932,\n",
       "  0.06284081190824509,\n",
       "  0.06265495717525482,\n",
       "  0.06276500225067139,\n",
       "  0.06463763117790222,\n",
       "  0.061950959265232086,\n",
       "  0.06280510127544403,\n",
       "  0.06126095727086067,\n",
       "  0.061041876673698425,\n",
       "  0.06111449748277664,\n",
       "  0.060742124915122986,\n",
       "  0.06221131235361099,\n",
       "  0.06048785150051117,\n",
       "  0.06021331250667572,\n",
       "  0.06124115362763405,\n",
       "  0.0610361322760582,\n",
       "  0.059701841324567795,\n",
       "  0.05968518927693367,\n",
       "  0.060543399304151535,\n",
       "  0.059180110692977905,\n",
       "  0.059657853096723557,\n",
       "  0.060112420469522476,\n",
       "  0.058819882571697235,\n",
       "  0.059842102229595184,\n",
       "  0.058868322521448135,\n",
       "  0.058394335210323334,\n",
       "  0.058980271220207214,\n",
       "  0.05808268487453461,\n",
       "  0.06014431640505791,\n",
       "  0.05853330343961716,\n",
       "  0.05754825845360756,\n",
       "  0.058331169188022614,\n",
       "  0.05813872069120407,\n",
       "  0.06418529897928238,\n",
       "  0.05934950336813927,\n",
       "  0.058416057378053665,\n",
       "  0.05758059397339821,\n",
       "  0.05882389470934868,\n",
       "  0.056690655648708344,\n",
       "  0.05756809189915657,\n",
       "  0.061218999326229095,\n",
       "  0.05708613246679306,\n",
       "  0.056404270231723785,\n",
       "  0.058567870408296585,\n",
       "  0.05655680596828461,\n",
       "  0.05689343065023422,\n",
       "  0.057292427867650986,\n",
       "  0.05609755590558052,\n",
       "  0.05616520345211029,\n",
       "  0.05746152997016907,\n",
       "  0.057567331939935684,\n",
       "  0.05683456361293793,\n",
       "  0.05636869743466377,\n",
       "  0.055570147931575775,\n",
       "  0.0588410459458828,\n",
       "  0.055399954319000244,\n",
       "  0.06225471943616867,\n",
       "  0.05809933692216873,\n",
       "  0.05849035829305649],\n",
       " 'val_accuracy': [0.9296703338623047,\n",
       "  0.9670329689979553,\n",
       "  0.9604395627975464,\n",
       "  0.9670329689979553,\n",
       "  0.9670329689979553,\n",
       "  0.9648351669311523,\n",
       "  0.9692307710647583,\n",
       "  0.9758241772651672,\n",
       "  0.9714285731315613,\n",
       "  0.9736263751983643,\n",
       "  0.9714285731315613,\n",
       "  0.9648351669311523,\n",
       "  0.9692307710647583,\n",
       "  0.9802197813987732,\n",
       "  0.9824175834655762,\n",
       "  0.9780219793319702,\n",
       "  0.9736263751983643,\n",
       "  0.9780219793319702,\n",
       "  0.9780219793319702,\n",
       "  0.9802197813987732,\n",
       "  0.9780219793319702,\n",
       "  0.9780219793319702,\n",
       "  0.9780219793319702,\n",
       "  0.9780219793319702,\n",
       "  0.9846153855323792,\n",
       "  0.9758241772651672,\n",
       "  0.9824175834655762,\n",
       "  0.9758241772651672,\n",
       "  0.9758241772651672,\n",
       "  0.9824175834655762,\n",
       "  0.9846153855323792,\n",
       "  0.9802197813987732,\n",
       "  0.9780219793319702,\n",
       "  0.9802197813987732,\n",
       "  0.9780219793319702,\n",
       "  0.9802197813987732,\n",
       "  0.9802197813987732,\n",
       "  0.9780219793319702,\n",
       "  0.9824175834655762,\n",
       "  0.9824175834655762,\n",
       "  0.9802197813987732,\n",
       "  0.9846153855323792,\n",
       "  0.9824175834655762,\n",
       "  0.9824175834655762,\n",
       "  0.9824175834655762,\n",
       "  0.9846153855323792,\n",
       "  0.9802197813987732,\n",
       "  0.9802197813987732,\n",
       "  0.9824175834655762,\n",
       "  0.9824175834655762,\n",
       "  0.9824175834655762,\n",
       "  0.9824175834655762,\n",
       "  0.9846153855323792,\n",
       "  0.9802197813987732,\n",
       "  0.9802197813987732,\n",
       "  0.9802197813987732,\n",
       "  0.9846153855323792,\n",
       "  0.9802197813987732,\n",
       "  0.9846153855323792,\n",
       "  0.9846153855323792,\n",
       "  0.9802197813987732,\n",
       "  0.9802197813987732,\n",
       "  0.9846153855323792,\n",
       "  0.9824175834655762,\n",
       "  0.9846153855323792,\n",
       "  0.9846153855323792,\n",
       "  0.9846153855323792,\n",
       "  0.9868131875991821,\n",
       "  0.9802197813987732,\n",
       "  0.9846153855323792,\n",
       "  0.9868131875991821,\n",
       "  0.9802197813987732,\n",
       "  0.9868131875991821,\n",
       "  0.9868131875991821,\n",
       "  0.9846153855323792,\n",
       "  0.9846153855323792,\n",
       "  0.9846153855323792,\n",
       "  0.9868131875991821,\n",
       "  0.9846153855323792,\n",
       "  0.9802197813987732,\n",
       "  0.9868131875991821,\n",
       "  0.9846153855323792,\n",
       "  0.9868131875991821,\n",
       "  0.9802197813987732,\n",
       "  0.9846153855323792,\n",
       "  0.9846153855323792,\n",
       "  0.9868131875991821,\n",
       "  0.9868131875991821,\n",
       "  0.9824175834655762,\n",
       "  0.9846153855323792,\n",
       "  0.9868131875991821,\n",
       "  0.9846153855323792,\n",
       "  0.9868131875991821,\n",
       "  0.9846153855323792,\n",
       "  0.9824175834655762,\n",
       "  0.9846153855323792,\n",
       "  0.9824175834655762,\n",
       "  0.9846153855323792,\n",
       "  0.9846153855323792,\n",
       "  0.9846153855323792]}"
      ]
     },
     "execution_count": 12,
     "metadata": {},
     "output_type": "execute_result"
    }
   ],
   "source": [
    "history.history"
   ]
  },
  {
   "cell_type": "markdown",
   "metadata": {
    "id": "_6YrqxNiK74j",
    "papermill": {
     "duration": 2.914362,
     "end_time": "2021-09-04T20:18:23.774672",
     "exception": false,
     "start_time": "2021-09-04T20:18:20.860310",
     "status": "completed"
    },
    "tags": []
   },
   "source": [
    "### Accuracy vs Epochs"
   ]
  },
  {
   "cell_type": "code",
   "execution_count": 13,
   "metadata": {
    "execution": {
     "iopub.execute_input": "2021-09-04T20:18:30.526437Z",
     "iopub.status.busy": "2021-09-04T20:18:30.525373Z",
     "iopub.status.idle": "2021-09-04T20:18:30.643483Z",
     "shell.execute_reply": "2021-09-04T20:18:30.643892Z",
     "shell.execute_reply.started": "2021-09-03T14:07:34.646009Z"
    },
    "id": "sdB7_fjsaa5z",
    "papermill": {
     "duration": 3.100997,
     "end_time": "2021-09-04T20:18:30.644031",
     "exception": false,
     "start_time": "2021-09-04T20:18:27.543034",
     "status": "completed"
    },
    "tags": []
   },
   "outputs": [
    {
     "data": {
      "image/png": "[encoded data removed]",
      "text/plain": [
       "<Figure size 432x288 with 1 Axes>"
      ]
     },
     "metadata": {
      "needs_background": "light"
     },
     "output_type": "display_data"
    }
   ],
   "source": [
    "plt.plot(history.history['accuracy'])\n",
    "plt.plot(history.history['val_accuracy'])\n",
    "plt.title('model accuracy')\n",
    "plt.ylabel('accuracy')\n",
    "plt.xlabel('epoch')\n",
    "plt.legend(['train', 'test'], loc='upper left')\n",
    "plt.show()\n"
   ]
  },
  {
   "cell_type": "markdown",
   "metadata": {
    "id": "2Y77bbOVLAhu",
    "papermill": {
     "duration": 3.018594,
     "end_time": "2021-09-04T20:18:36.602509",
     "exception": false,
     "start_time": "2021-09-04T20:18:33.583915",
     "status": "completed"
    },
    "tags": []
   },
   "source": [
    "### Loss vs Epochs"
   ]
  },
  {
   "cell_type": "code",
   "execution_count": 14,
   "metadata": {
    "execution": {
     "iopub.execute_input": "2021-09-04T20:18:42.873689Z",
     "iopub.status.busy": "2021-09-04T20:18:42.872895Z",
     "iopub.status.idle": "2021-09-04T20:18:42.995785Z",
     "shell.execute_reply": "2021-09-04T20:18:42.996219Z",
     "shell.execute_reply.started": "2021-09-03T14:07:34.831244Z"
    },
    "id": "_GV-kvZqKydx",
    "papermill": {
     "duration": 3.227983,
     "end_time": "2021-09-04T20:18:42.996364",
     "exception": false,
     "start_time": "2021-09-04T20:18:39.768381",
     "status": "completed"
    },
    "tags": []
   },
   "outputs": [
    {
     "data": {
      "image/png": "[encoded data removed]",
      "text/plain": [
       "<Figure size 432x288 with 1 Axes>"
      ]
     },
     "metadata": {
      "needs_background": "light"
     },
     "output_type": "display_data"
    }
   ],
   "source": [
    "plt.plot(history.history['loss'])\n",
    "plt.plot(history.history['val_loss'])\n",
    "plt.title('model loss')\n",
    "plt.ylabel('loss')\n",
    "plt.xlabel('epoch')\n",
    "plt.legend(['train', 'test'], loc='upper left')\n",
    "plt.show()"
   ]
  }
 ],
 "metadata": {
  "kernelspec": {
   "display_name": "Python 3",
   "language": "python",
   "name": "python3"
  },
  "language_info": {
   "codemirror_mode": {
    "name": "ipython",
    "version": 3
   },
   "file_extension": ".py",
   "mimetype": "text/x-python",
   "name": "python",
   "nbconvert_exporter": "python",
   "pygments_lexer": "ipython3",
   "version": "3.7.3"
  },
  "papermill": {
   "default_parameters": {},
   "duration": 15312.977288,
   "end_time": "2021-09-04T20:18:48.979127",
   "environment_variables": {},
   "exception": null,
   "input_path": "__notebook__.ipynb",
   "output_path": "__notebook__.ipynb",
   "parameters": {},
   "start_time": "2021-09-04T16:03:36.001839",
   "version": "2.3.3"
  }
 },
 "nbformat": 4,
 "nbformat_minor": 5
}
