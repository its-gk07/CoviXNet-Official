{
 "cells": [
  {
   "cell_type": "markdown",
   "metadata": {
    "id": "95a59ce3",
    "papermill": {
     "duration": 0.016165,
     "end_time": "2021-09-04T06:37:00.263984",
     "exception": false,
     "start_time": "2021-09-04T06:37:00.247819",
     "status": "completed"
    },
    "tags": []
   },
   "source": [
    "# Complete Notebook"
   ]
  },
  {
   "cell_type": "markdown",
   "metadata": {
    "id": "95247840",
    "papermill": {
     "duration": 0.014418,
     "end_time": "2021-09-04T06:37:00.293399",
     "exception": false,
     "start_time": "2021-09-04T06:37:00.278981",
     "status": "completed"
    },
    "tags": []
   },
   "source": [
    "## Importing Libraries"
   ]
  },
  {
   "cell_type": "code",
   "execution_count": 1,
   "metadata": {
    "execution": {
     "iopub.execute_input": "2021-09-05T14:31:57.512036Z",
     "iopub.status.busy": "2021-09-05T14:31:57.511514Z",
     "iopub.status.idle": "2021-09-05T14:31:57.535417Z",
     "shell.execute_reply": "2021-09-05T14:31:57.534461Z",
     "shell.execute_reply.started": "2021-09-05T14:31:57.511923Z"
    },
    "id": "acbb5c7b",
    "papermill": {
     "duration": 0.028558,
     "end_time": "2021-09-04T06:37:00.336553",
     "exception": false,
     "start_time": "2021-09-04T06:37:00.307995",
     "status": "completed"
    },
    "tags": []
   },
   "outputs": [],
   "source": [
    "import warnings\n",
    "warnings.filterwarnings('ignore')"
   ]
  },
  {
   "cell_type": "code",
   "execution_count": 2,
   "metadata": {
    "execution": {
     "iopub.execute_input": "2021-09-05T14:31:57.542086Z",
     "iopub.status.busy": "2021-09-05T14:31:57.540018Z",
     "iopub.status.idle": "2021-09-05T14:32:01.868628Z",
     "shell.execute_reply": "2021-09-05T14:32:01.867807Z",
     "shell.execute_reply.started": "2021-09-05T14:31:57.542047Z"
    },
    "id": "775e39a0",
    "papermill": {
     "duration": 4.491253,
     "end_time": "2021-09-04T06:37:04.842484",
     "exception": false,
     "start_time": "2021-09-04T06:37:00.351231",
     "status": "completed"
    },
    "tags": []
   },
   "outputs": [],
   "source": [
    "from tensorflow import keras\n",
    "from keras.layers import Input, Lambda, Dense, Flatten, Dropout\n",
    "from keras.models import Model\n",
    "from keras.preprocessing import image\n",
    "from keras.preprocessing.image import ImageDataGenerator\n",
    "from keras.models import Sequential\n",
    "import numpy as np\n",
    "from glob import glob\n",
    "import matplotlib.pyplot as plt\n",
    "%matplotlib inline "
   ]
  },
  {
   "cell_type": "markdown",
   "metadata": {
    "id": "c745e4a3",
    "papermill": {
     "duration": 0.015063,
     "end_time": "2021-09-04T06:37:04.873179",
     "exception": false,
     "start_time": "2021-09-04T06:37:04.858116",
     "status": "completed"
    },
    "tags": []
   },
   "source": [
    "## Initializing Parameters"
   ]
  },
  {
   "cell_type": "code",
   "execution_count": 3,
   "metadata": {
    "execution": {
     "iopub.execute_input": "2021-09-05T14:32:01.870596Z",
     "iopub.status.busy": "2021-09-05T14:32:01.870275Z",
     "iopub.status.idle": "2021-09-05T14:32:01.877929Z",
     "shell.execute_reply": "2021-09-05T14:32:01.877108Z",
     "shell.execute_reply.started": "2021-09-05T14:32:01.870568Z"
    },
    "id": "9880a2e3",
    "papermill": {
     "duration": 0.020903,
     "end_time": "2021-09-04T06:37:04.909071",
     "exception": false,
     "start_time": "2021-09-04T06:37:04.888168",
     "status": "completed"
    },
    "tags": []
   },
   "outputs": [],
   "source": [
    "IMAGE_SIZE = [256, 256, 3]\n",
    "img_size = (256, 256)\n",
    "num_classes = 2\n",
    "\n",
    "train_path = '/kaggle/input/covid19-chest-xray-processed-dataset/Dataset/Train'\n",
    "test_path = '/kaggle/input/covid19-chest-xray-processed-dataset/Dataset/Test'\n",
    "val_path = '/kaggle/input/covid19-chest-xray-processed-dataset/Dataset/Val'"
   ]
  },
  {
   "cell_type": "markdown",
   "metadata": {
    "id": "5e9e8166",
    "papermill": {
     "duration": 0.014566,
     "end_time": "2021-09-04T06:37:04.938283",
     "exception": false,
     "start_time": "2021-09-04T06:37:04.923717",
     "status": "completed"
    },
    "tags": []
   },
   "source": [
    "## Data Augmentation"
   ]
  },
  {
   "cell_type": "code",
   "execution_count": 4,
   "metadata": {
    "execution": {
     "iopub.execute_input": "2021-09-05T14:32:01.879709Z",
     "iopub.status.busy": "2021-09-05T14:32:01.879309Z",
     "iopub.status.idle": "2021-09-05T14:32:04.200902Z",
     "shell.execute_reply": "2021-09-05T14:32:04.200099Z",
     "shell.execute_reply.started": "2021-09-05T14:32:01.879669Z"
    },
    "id": "0d8ed6a7",
    "outputId": "00e612d9-dead-4534-a3ed-83153dd4d91d",
    "papermill": {
     "duration": 3.195284,
     "end_time": "2021-09-04T06:37:08.148272",
     "exception": false,
     "start_time": "2021-09-04T06:37:04.952988",
     "status": "completed"
    },
    "tags": []
   },
   "outputs": [
    {
     "name": "stdout",
     "output_type": "stream",
     "text": [
      "Found 3641 images belonging to 2 classes.\n",
      "Found 455 images belonging to 2 classes.\n",
      "Found 455 images belonging to 2 classes.\n"
     ]
    }
   ],
   "source": [
    "train_datagen = ImageDataGenerator(rescale = 1./255,\n",
    "                                   shear_range = 0.2,\n",
    "                                   zoom_range = 0.2,\n",
    "                                   horizontal_flip = True)\n",
    "\n",
    "test_datagen = ImageDataGenerator(rescale = 1./255)\n",
    "val_datagen = ImageDataGenerator(rescale = 1./255)\n",
    "\n",
    "\n",
    "\n",
    "\n",
    "# Make sure you provide the same target size as initialied for the image size\n",
    "training_set = train_datagen.flow_from_directory('/kaggle/input/covid19-chest-xray-processed-dataset/Dataset/Train',\n",
    "                                                 target_size = (256, 256),\n",
    "                                                 batch_size = 32,\n",
    "                                                 class_mode = 'categorical')\n",
    "\n",
    "\n",
    "test_set = test_datagen.flow_from_directory('/kaggle/input/covid19-chest-xray-processed-dataset/Dataset/Test',\n",
    "                                            target_size = (256, 256),\n",
    "                                            batch_size = 32,\n",
    "                                            class_mode = 'categorical')\n",
    "\n",
    "\n",
    "val_set = test_datagen.flow_from_directory('/kaggle/input/covid19-chest-xray-processed-dataset/Dataset/Val',\n",
    "                                            target_size = (256, 256),\n",
    "                                            batch_size = 32,\n",
    "                                            class_mode = 'categorical')"
   ]
  },
  {
   "cell_type": "markdown",
   "metadata": {
    "id": "c53f99c0",
    "papermill": {
     "duration": 0.015272,
     "end_time": "2021-09-04T06:37:08.179746",
     "exception": false,
     "start_time": "2021-09-04T06:37:08.164474",
     "status": "completed"
    },
    "tags": []
   },
   "source": [
    "## Alexnet"
   ]
  },
  {
   "cell_type": "markdown",
   "metadata": {
    "id": "fae5a2ef",
    "papermill": {
     "duration": 0.029406,
     "end_time": "2021-09-04T06:37:12.900468",
     "exception": false,
     "start_time": "2021-09-04T06:37:12.871062",
     "status": "completed"
    },
    "tags": []
   },
   "source": [
    "## Building Model"
   ]
  },
  {
   "cell_type": "code",
   "execution_count": 5,
   "metadata": {
    "execution": {
     "iopub.execute_input": "2021-09-05T14:32:04.202465Z",
     "iopub.status.busy": "2021-09-05T14:32:04.202145Z",
     "iopub.status.idle": "2021-09-05T14:32:06.397511Z",
     "shell.execute_reply": "2021-09-05T14:32:06.396597Z",
     "shell.execute_reply.started": "2021-09-05T14:32:04.202432Z"
    },
    "id": "UXGFFDywjxeQ"
   },
   "outputs": [],
   "source": [
    "model = keras.models.Sequential([\n",
    "    keras.layers.Conv2D(filters=96, kernel_size=(11,11), strides=(4,4), activation='relu', input_shape=(256,256,3)),\n",
    "    keras.layers.BatchNormalization(),\n",
    "    keras.layers.MaxPool2D(pool_size=(3,3), strides=(2,2)),\n",
    "    keras.layers.Conv2D(filters=256, kernel_size=(5,5), strides=(1,1), activation='relu', padding=\"same\"),\n",
    "    keras.layers.BatchNormalization(),\n",
    "    keras.layers.MaxPool2D(pool_size=(3,3), strides=(2,2)),\n",
    "    keras.layers.Conv2D(filters=384, kernel_size=(3,3), strides=(1,1), activation='relu', padding=\"same\"),\n",
    "    keras.layers.BatchNormalization(),\n",
    "    keras.layers.Conv2D(filters=384, kernel_size=(3,3), strides=(1,1), activation='relu', padding=\"same\"),\n",
    "    keras.layers.BatchNormalization(),\n",
    "    keras.layers.Conv2D(filters=256, kernel_size=(3,3), strides=(1,1), activation='relu', padding=\"same\"),\n",
    "    keras.layers.BatchNormalization(),\n",
    "    keras.layers.MaxPool2D(pool_size=(3,3), strides=(2,2)),\n",
    "    keras.layers.Flatten(),\n",
    "    keras.layers.Dense(4096, activation='relu'),\n",
    "    keras.layers.Dropout(0.5),\n",
    "    keras.layers.Dense(4096, activation='relu'),\n",
    "    keras.layers.Dropout(0.5),\n",
    "    keras.layers.Dense(2, activation='softmax')\n",
    "])"
   ]
  },
  {
   "cell_type": "code",
   "execution_count": 6,
   "metadata": {
    "execution": {
     "iopub.execute_input": "2021-09-05T14:32:06.399247Z",
     "iopub.status.busy": "2021-09-05T14:32:06.398834Z",
     "iopub.status.idle": "2021-09-05T14:32:06.415835Z",
     "shell.execute_reply": "2021-09-05T14:32:06.414803Z",
     "shell.execute_reply.started": "2021-09-05T14:32:06.399209Z"
    },
    "id": "zse6fQqMlcT3",
    "outputId": "f2cba4b5-8a2b-4b2c-e08a-ec00d43fec7d"
   },
   "outputs": [],
   "source": [
    "model.compile(optimizer='adam', loss=\"categorical_crossentropy\", metrics=['accuracy'])"
   ]
  },
  {
   "cell_type": "code",
   "execution_count": 7,
   "metadata": {
    "execution": {
     "iopub.execute_input": "2021-09-05T14:32:06.417791Z",
     "iopub.status.busy": "2021-09-05T14:32:06.417306Z",
     "iopub.status.idle": "2021-09-05T14:32:06.434732Z",
     "shell.execute_reply": "2021-09-05T14:32:06.433920Z",
     "shell.execute_reply.started": "2021-09-05T14:32:06.417752Z"
    },
    "id": "077e4b1e",
    "papermill": {
     "duration": 0.062486,
     "end_time": "2021-09-04T06:37:13.107607",
     "exception": false,
     "start_time": "2021-09-04T06:37:13.045121",
     "status": "completed"
    },
    "tags": []
   },
   "outputs": [
    {
     "name": "stdout",
     "output_type": "stream",
     "text": [
      "Model: \"sequential\"\n",
      "_________________________________________________________________\n",
      "Layer (type)                 Output Shape              Param #   \n",
      "=================================================================\n",
      "conv2d (Conv2D)              (None, 62, 62, 96)        34944     \n",
      "_________________________________________________________________\n",
      "batch_normalization (BatchNo (None, 62, 62, 96)        384       \n",
      "_________________________________________________________________\n",
      "max_pooling2d (MaxPooling2D) (None, 30, 30, 96)        0         \n",
      "_________________________________________________________________\n",
      "conv2d_1 (Conv2D)            (None, 30, 30, 256)       614656    \n",
      "_________________________________________________________________\n",
      "batch_normalization_1 (Batch (None, 30, 30, 256)       1024      \n",
      "_________________________________________________________________\n",
      "max_pooling2d_1 (MaxPooling2 (None, 14, 14, 256)       0         \n",
      "_________________________________________________________________\n",
      "conv2d_2 (Conv2D)            (None, 14, 14, 384)       885120    \n",
      "_________________________________________________________________\n",
      "batch_normalization_2 (Batch (None, 14, 14, 384)       1536      \n",
      "_________________________________________________________________\n",
      "conv2d_3 (Conv2D)            (None, 14, 14, 384)       1327488   \n",
      "_________________________________________________________________\n",
      "batch_normalization_3 (Batch (None, 14, 14, 384)       1536      \n",
      "_________________________________________________________________\n",
      "conv2d_4 (Conv2D)            (None, 14, 14, 256)       884992    \n",
      "_________________________________________________________________\n",
      "batch_normalization_4 (Batch (None, 14, 14, 256)       1024      \n",
      "_________________________________________________________________\n",
      "max_pooling2d_2 (MaxPooling2 (None, 6, 6, 256)         0         \n",
      "_________________________________________________________________\n",
      "flatten (Flatten)            (None, 9216)              0         \n",
      "_________________________________________________________________\n",
      "dense (Dense)                (None, 4096)              37752832  \n",
      "_________________________________________________________________\n",
      "dropout (Dropout)            (None, 4096)              0         \n",
      "_________________________________________________________________\n",
      "dense_1 (Dense)              (None, 4096)              16781312  \n",
      "_________________________________________________________________\n",
      "dropout_1 (Dropout)          (None, 4096)              0         \n",
      "_________________________________________________________________\n",
      "dense_2 (Dense)              (None, 2)                 8194      \n",
      "=================================================================\n",
      "Total params: 58,295,042\n",
      "Trainable params: 58,292,290\n",
      "Non-trainable params: 2,752\n",
      "_________________________________________________________________\n"
     ]
    }
   ],
   "source": [
    "model.summary()"
   ]
  },
  {
   "cell_type": "markdown",
   "metadata": {
    "id": "eceeef16",
    "papermill": {
     "duration": 0.039048,
     "end_time": "2021-09-04T06:37:13.416030",
     "exception": false,
     "start_time": "2021-09-04T06:37:13.376982",
     "status": "completed"
    },
    "tags": []
   },
   "source": [
    "## Training"
   ]
  },
  {
   "cell_type": "code",
   "execution_count": 8,
   "metadata": {
    "execution": {
     "iopub.execute_input": "2021-09-05T14:32:06.437396Z",
     "iopub.status.busy": "2021-09-05T14:32:06.437017Z",
     "iopub.status.idle": "2021-09-05T18:56:40.451268Z",
     "shell.execute_reply": "2021-09-05T18:56:40.450415Z",
     "shell.execute_reply.started": "2021-09-05T14:32:06.437362Z"
    },
    "id": "90c6fc89",
    "outputId": "69b020ff-0648-4991-a4ca-4bd184a39078",
    "papermill": {
     "duration": 17072.826503,
     "end_time": "2021-09-04T11:21:46.281743",
     "exception": false,
     "start_time": "2021-09-04T06:37:13.455240",
     "status": "completed"
    },
    "tags": []
   },
   "outputs": [
    {
     "name": "stdout",
     "output_type": "stream",
     "text": [
      "Epoch 1/100\n",
      "114/114 [==============================] - 240s 2s/step - loss: 11.3049 - accuracy: 0.8289 - val_loss: 0.4886 - val_accuracy: 0.9165\n",
      "Epoch 2/100\n",
      "114/114 [==============================] - 159s 1s/step - loss: 0.4727 - accuracy: 0.9311 - val_loss: 0.0924 - val_accuracy: 0.9736\n",
      "Epoch 3/100\n",
      "114/114 [==============================] - 158s 1s/step - loss: 0.2554 - accuracy: 0.9512 - val_loss: 3.3298 - val_accuracy: 0.6769\n",
      "Epoch 4/100\n",
      "114/114 [==============================] - 158s 1s/step - loss: 0.1777 - accuracy: 0.9580 - val_loss: 0.4605 - val_accuracy: 0.9165\n",
      "Epoch 5/100\n",
      "114/114 [==============================] - 156s 1s/step - loss: 0.1240 - accuracy: 0.9659 - val_loss: 1.0682 - val_accuracy: 0.8725\n",
      "Epoch 6/100\n",
      "114/114 [==============================] - 157s 1s/step - loss: 0.1583 - accuracy: 0.9619 - val_loss: 0.6749 - val_accuracy: 0.9033\n",
      "Epoch 7/100\n",
      "114/114 [==============================] - 158s 1s/step - loss: 0.1875 - accuracy: 0.9626 - val_loss: 0.8675 - val_accuracy: 0.7934\n",
      "Epoch 8/100\n",
      "114/114 [==============================] - 159s 1s/step - loss: 0.2480 - accuracy: 0.9561 - val_loss: 48.5033 - val_accuracy: 0.2813\n",
      "Epoch 9/100\n",
      "114/114 [==============================] - 157s 1s/step - loss: 0.3756 - accuracy: 0.9508 - val_loss: 2.8767 - val_accuracy: 0.8571\n",
      "Epoch 10/100\n",
      "114/114 [==============================] - 157s 1s/step - loss: 0.2587 - accuracy: 0.9644 - val_loss: 0.3010 - val_accuracy: 0.9670\n",
      "Epoch 11/100\n",
      "114/114 [==============================] - 160s 1s/step - loss: 0.1998 - accuracy: 0.9666 - val_loss: 0.6781 - val_accuracy: 0.8945\n",
      "Epoch 12/100\n",
      "114/114 [==============================] - 165s 1s/step - loss: 0.1512 - accuracy: 0.9700 - val_loss: 47.2331 - val_accuracy: 0.2813\n",
      "Epoch 13/100\n",
      "114/114 [==============================] - 165s 1s/step - loss: 0.1014 - accuracy: 0.9745 - val_loss: 1.6308 - val_accuracy: 0.8220\n",
      "Epoch 14/100\n",
      "114/114 [==============================] - 165s 1s/step - loss: 0.2057 - accuracy: 0.9741 - val_loss: 0.5209 - val_accuracy: 0.8330\n",
      "Epoch 15/100\n",
      "114/114 [==============================] - 165s 1s/step - loss: 0.1569 - accuracy: 0.9626 - val_loss: 1.7313 - val_accuracy: 0.8703\n",
      "Epoch 16/100\n",
      "114/114 [==============================] - 165s 1s/step - loss: 0.0986 - accuracy: 0.9751 - val_loss: 6.1550 - val_accuracy: 0.8176\n",
      "Epoch 17/100\n",
      "114/114 [==============================] - 164s 1s/step - loss: 0.2285 - accuracy: 0.9638 - val_loss: 2.6575 - val_accuracy: 0.6967\n",
      "Epoch 18/100\n",
      "114/114 [==============================] - 164s 1s/step - loss: 0.3810 - accuracy: 0.9549 - val_loss: 0.6890 - val_accuracy: 0.8967\n",
      "Epoch 19/100\n",
      "114/114 [==============================] - 163s 1s/step - loss: 0.3254 - accuracy: 0.9626 - val_loss: 0.2553 - val_accuracy: 0.9626\n",
      "Epoch 20/100\n",
      "114/114 [==============================] - 159s 1s/step - loss: 0.2336 - accuracy: 0.9715 - val_loss: 2.0006 - val_accuracy: 0.8462\n",
      "Epoch 21/100\n",
      "114/114 [==============================] - 157s 1s/step - loss: 0.1275 - accuracy: 0.9752 - val_loss: 0.2665 - val_accuracy: 0.9780\n",
      "Epoch 22/100\n",
      "114/114 [==============================] - 157s 1s/step - loss: 0.0816 - accuracy: 0.9838 - val_loss: 0.0610 - val_accuracy: 0.9802\n",
      "Epoch 23/100\n",
      "114/114 [==============================] - 157s 1s/step - loss: 0.0645 - accuracy: 0.9819 - val_loss: 0.0308 - val_accuracy: 0.9890\n",
      "Epoch 24/100\n",
      "114/114 [==============================] - 157s 1s/step - loss: 0.0579 - accuracy: 0.9814 - val_loss: 0.0388 - val_accuracy: 0.9890\n",
      "Epoch 25/100\n",
      "114/114 [==============================] - 157s 1s/step - loss: 0.0479 - accuracy: 0.9890 - val_loss: 0.9452 - val_accuracy: 0.9209\n",
      "Epoch 26/100\n",
      "114/114 [==============================] - 156s 1s/step - loss: 0.0343 - accuracy: 0.9895 - val_loss: 3.9786 - val_accuracy: 0.8110\n",
      "Epoch 27/100\n",
      "114/114 [==============================] - 157s 1s/step - loss: 0.0568 - accuracy: 0.9840 - val_loss: 1.0995 - val_accuracy: 0.8879\n",
      "Epoch 28/100\n",
      "114/114 [==============================] - 157s 1s/step - loss: 0.0888 - accuracy: 0.9738 - val_loss: 0.0224 - val_accuracy: 0.9934\n",
      "Epoch 29/100\n",
      "114/114 [==============================] - 158s 1s/step - loss: 0.1497 - accuracy: 0.9789 - val_loss: 1.0571 - val_accuracy: 0.7868\n",
      "Epoch 30/100\n",
      "114/114 [==============================] - 156s 1s/step - loss: 0.4806 - accuracy: 0.9551 - val_loss: 0.8367 - val_accuracy: 0.8374\n",
      "Epoch 31/100\n",
      "114/114 [==============================] - 156s 1s/step - loss: 0.1141 - accuracy: 0.9679 - val_loss: 0.0538 - val_accuracy: 0.9846\n",
      "Epoch 32/100\n",
      "114/114 [==============================] - 157s 1s/step - loss: 0.1036 - accuracy: 0.9760 - val_loss: 54.1925 - val_accuracy: 0.2813\n",
      "Epoch 33/100\n",
      "114/114 [==============================] - 156s 1s/step - loss: 0.1266 - accuracy: 0.9681 - val_loss: 3.1562 - val_accuracy: 0.7890\n",
      "Epoch 34/100\n",
      "114/114 [==============================] - 157s 1s/step - loss: 0.1955 - accuracy: 0.9699 - val_loss: 0.1132 - val_accuracy: 0.9648\n",
      "Epoch 35/100\n",
      "114/114 [==============================] - 156s 1s/step - loss: 0.3878 - accuracy: 0.9519 - val_loss: 6.1305 - val_accuracy: 0.6659\n",
      "Epoch 36/100\n",
      "114/114 [==============================] - 160s 1s/step - loss: 0.2555 - accuracy: 0.9579 - val_loss: 1.4190 - val_accuracy: 0.6176\n",
      "Epoch 37/100\n",
      "114/114 [==============================] - 160s 1s/step - loss: 0.0608 - accuracy: 0.9820 - val_loss: 0.4077 - val_accuracy: 0.9165\n",
      "Epoch 38/100\n",
      "114/114 [==============================] - 159s 1s/step - loss: 0.0508 - accuracy: 0.9824 - val_loss: 0.1878 - val_accuracy: 0.9692\n",
      "Epoch 39/100\n",
      "114/114 [==============================] - 159s 1s/step - loss: 0.0575 - accuracy: 0.9825 - val_loss: 0.0395 - val_accuracy: 0.9846\n",
      "Epoch 40/100\n",
      "114/114 [==============================] - 157s 1s/step - loss: 0.0782 - accuracy: 0.9843 - val_loss: 0.0426 - val_accuracy: 0.9824\n",
      "Epoch 41/100\n",
      "114/114 [==============================] - 157s 1s/step - loss: 0.0490 - accuracy: 0.9878 - val_loss: 0.0427 - val_accuracy: 0.9846\n",
      "Epoch 42/100\n",
      "114/114 [==============================] - 158s 1s/step - loss: 0.0535 - accuracy: 0.9869 - val_loss: 0.0250 - val_accuracy: 0.9912\n",
      "Epoch 43/100\n",
      "114/114 [==============================] - 156s 1s/step - loss: 0.0542 - accuracy: 0.9808 - val_loss: 0.0553 - val_accuracy: 0.9912\n",
      "Epoch 44/100\n",
      "114/114 [==============================] - 156s 1s/step - loss: 0.0317 - accuracy: 0.9896 - val_loss: 0.0548 - val_accuracy: 0.9802\n",
      "Epoch 45/100\n",
      "114/114 [==============================] - 156s 1s/step - loss: 0.0460 - accuracy: 0.9883 - val_loss: 0.0648 - val_accuracy: 0.9824\n",
      "Epoch 46/100\n",
      "114/114 [==============================] - 157s 1s/step - loss: 0.0336 - accuracy: 0.9890 - val_loss: 0.0245 - val_accuracy: 0.9868\n",
      "Epoch 47/100\n",
      "114/114 [==============================] - 157s 1s/step - loss: 0.0312 - accuracy: 0.9898 - val_loss: 0.1948 - val_accuracy: 0.9604\n",
      "Epoch 48/100\n",
      "114/114 [==============================] - 157s 1s/step - loss: 0.0389 - accuracy: 0.9869 - val_loss: 0.0439 - val_accuracy: 0.9912\n",
      "Epoch 49/100\n",
      "114/114 [==============================] - 156s 1s/step - loss: 0.0359 - accuracy: 0.9901 - val_loss: 0.0655 - val_accuracy: 0.9780\n",
      "Epoch 50/100\n",
      "114/114 [==============================] - 157s 1s/step - loss: 0.0390 - accuracy: 0.9863 - val_loss: 0.0427 - val_accuracy: 0.9912\n",
      "Epoch 51/100\n",
      "114/114 [==============================] - 157s 1s/step - loss: 0.0595 - accuracy: 0.9871 - val_loss: 0.1945 - val_accuracy: 0.9626\n",
      "Epoch 52/100\n",
      "114/114 [==============================] - 160s 1s/step - loss: 0.0512 - accuracy: 0.9885 - val_loss: 0.0282 - val_accuracy: 0.9912\n",
      "Epoch 53/100\n",
      "114/114 [==============================] - 162s 1s/step - loss: 0.0214 - accuracy: 0.9905 - val_loss: 0.0637 - val_accuracy: 0.9846\n",
      "Epoch 54/100\n",
      "114/114 [==============================] - 158s 1s/step - loss: 0.0354 - accuracy: 0.9883 - val_loss: 0.2762 - val_accuracy: 0.9451\n",
      "Epoch 55/100\n",
      "114/114 [==============================] - 157s 1s/step - loss: 0.0361 - accuracy: 0.9904 - val_loss: 0.0406 - val_accuracy: 0.9868\n",
      "Epoch 56/100\n",
      "114/114 [==============================] - 159s 1s/step - loss: 0.0390 - accuracy: 0.9875 - val_loss: 0.1548 - val_accuracy: 0.9758\n",
      "Epoch 57/100\n",
      "114/114 [==============================] - 157s 1s/step - loss: 0.0255 - accuracy: 0.9906 - val_loss: 0.0723 - val_accuracy: 0.9846\n",
      "Epoch 58/100\n",
      "114/114 [==============================] - 157s 1s/step - loss: 0.0563 - accuracy: 0.9868 - val_loss: 0.0878 - val_accuracy: 0.9890\n",
      "Epoch 59/100\n",
      "114/114 [==============================] - 157s 1s/step - loss: 0.0681 - accuracy: 0.9868 - val_loss: 0.0802 - val_accuracy: 0.9890\n",
      "Epoch 60/100\n",
      "114/114 [==============================] - 157s 1s/step - loss: 0.0576 - accuracy: 0.9877 - val_loss: 4.5825 - val_accuracy: 0.9231\n",
      "Epoch 61/100\n",
      "114/114 [==============================] - 157s 1s/step - loss: 0.0474 - accuracy: 0.9895 - val_loss: 0.1425 - val_accuracy: 0.9648\n",
      "Epoch 62/100\n",
      "114/114 [==============================] - 157s 1s/step - loss: 0.0453 - accuracy: 0.9889 - val_loss: 0.1904 - val_accuracy: 0.9516\n",
      "Epoch 63/100\n",
      "114/114 [==============================] - 157s 1s/step - loss: 0.0302 - accuracy: 0.9904 - val_loss: 0.0494 - val_accuracy: 0.9868\n",
      "Epoch 64/100\n",
      "114/114 [==============================] - 157s 1s/step - loss: 0.0238 - accuracy: 0.9952 - val_loss: 0.8621 - val_accuracy: 0.9363\n",
      "Epoch 65/100\n",
      "114/114 [==============================] - 157s 1s/step - loss: 0.0489 - accuracy: 0.9867 - val_loss: 0.0416 - val_accuracy: 0.9890\n",
      "Epoch 66/100\n",
      "114/114 [==============================] - 157s 1s/step - loss: 0.0380 - accuracy: 0.9900 - val_loss: 0.0561 - val_accuracy: 0.9868\n",
      "Epoch 67/100\n",
      "114/114 [==============================] - 157s 1s/step - loss: 0.0263 - accuracy: 0.9924 - val_loss: 12.4897 - val_accuracy: 0.8681\n",
      "Epoch 68/100\n",
      "114/114 [==============================] - 157s 1s/step - loss: 0.1463 - accuracy: 0.9849 - val_loss: 2.7095 - val_accuracy: 0.8857\n",
      "Epoch 69/100\n",
      "114/114 [==============================] - 157s 1s/step - loss: 0.7106 - accuracy: 0.9376 - val_loss: 0.0946 - val_accuracy: 0.9780\n",
      "Epoch 70/100\n",
      "114/114 [==============================] - 157s 1s/step - loss: 0.1124 - accuracy: 0.9726 - val_loss: 0.3127 - val_accuracy: 0.8769\n",
      "Epoch 71/100\n",
      "114/114 [==============================] - 156s 1s/step - loss: 2.9851 - accuracy: 0.9424 - val_loss: 6.5319 - val_accuracy: 0.3802\n",
      "Epoch 72/100\n",
      "114/114 [==============================] - 157s 1s/step - loss: 0.2089 - accuracy: 0.9478 - val_loss: 12.9332 - val_accuracy: 0.3538\n",
      "Epoch 73/100\n",
      "114/114 [==============================] - 157s 1s/step - loss: 0.1102 - accuracy: 0.9716 - val_loss: 0.0555 - val_accuracy: 0.9824\n",
      "Epoch 74/100\n",
      "114/114 [==============================] - 157s 1s/step - loss: 0.1019 - accuracy: 0.9747 - val_loss: 0.0586 - val_accuracy: 0.9648\n",
      "Epoch 75/100\n",
      "114/114 [==============================] - 157s 1s/step - loss: 0.0757 - accuracy: 0.9816 - val_loss: 0.0456 - val_accuracy: 0.9846\n",
      "Epoch 76/100\n",
      "114/114 [==============================] - 156s 1s/step - loss: 0.0515 - accuracy: 0.9838 - val_loss: 0.0320 - val_accuracy: 0.9912\n",
      "Epoch 77/100\n",
      "114/114 [==============================] - 156s 1s/step - loss: 0.0386 - accuracy: 0.9892 - val_loss: 0.1272 - val_accuracy: 0.9648\n",
      "Epoch 78/100\n",
      "114/114 [==============================] - 156s 1s/step - loss: 0.0418 - accuracy: 0.9840 - val_loss: 0.0943 - val_accuracy: 0.9385\n",
      "Epoch 79/100\n",
      "114/114 [==============================] - 157s 1s/step - loss: 0.0484 - accuracy: 0.9847 - val_loss: 0.0780 - val_accuracy: 0.9802\n",
      "Epoch 80/100\n",
      "114/114 [==============================] - 157s 1s/step - loss: 0.0396 - accuracy: 0.9866 - val_loss: 0.0455 - val_accuracy: 0.9890\n",
      "Epoch 81/100\n",
      "114/114 [==============================] - 158s 1s/step - loss: 0.0346 - accuracy: 0.9898 - val_loss: 1.3800 - val_accuracy: 0.7758\n",
      "Epoch 82/100\n",
      "114/114 [==============================] - 158s 1s/step - loss: 0.0319 - accuracy: 0.9899 - val_loss: 0.0598 - val_accuracy: 0.9824\n",
      "Epoch 83/100\n",
      "114/114 [==============================] - 157s 1s/step - loss: 0.0339 - accuracy: 0.9899 - val_loss: 0.1175 - val_accuracy: 0.9868\n",
      "Epoch 84/100\n",
      "114/114 [==============================] - 158s 1s/step - loss: 0.0297 - accuracy: 0.9892 - val_loss: 0.0635 - val_accuracy: 0.9868\n",
      "Epoch 85/100\n",
      "114/114 [==============================] - 158s 1s/step - loss: 0.0330 - accuracy: 0.9917 - val_loss: 0.0730 - val_accuracy: 0.9912\n",
      "Epoch 86/100\n",
      "114/114 [==============================] - 158s 1s/step - loss: 0.0202 - accuracy: 0.9926 - val_loss: 0.1697 - val_accuracy: 0.9824\n",
      "Epoch 87/100\n",
      "114/114 [==============================] - 158s 1s/step - loss: 0.0376 - accuracy: 0.9885 - val_loss: 0.0896 - val_accuracy: 0.9780\n",
      "Epoch 88/100\n",
      "114/114 [==============================] - 156s 1s/step - loss: 0.0495 - accuracy: 0.9830 - val_loss: 0.1118 - val_accuracy: 0.9890\n",
      "Epoch 89/100\n",
      "114/114 [==============================] - 157s 1s/step - loss: 0.0399 - accuracy: 0.9902 - val_loss: 0.1434 - val_accuracy: 0.9912\n",
      "Epoch 90/100\n",
      "114/114 [==============================] - 156s 1s/step - loss: 0.0173 - accuracy: 0.9936 - val_loss: 0.1807 - val_accuracy: 0.9868\n",
      "Epoch 91/100\n",
      "114/114 [==============================] - 157s 1s/step - loss: 0.0265 - accuracy: 0.9908 - val_loss: 0.0645 - val_accuracy: 0.9824\n",
      "Epoch 92/100\n",
      "114/114 [==============================] - 156s 1s/step - loss: 0.0178 - accuracy: 0.9969 - val_loss: 0.1323 - val_accuracy: 0.9890\n",
      "Epoch 93/100\n",
      "114/114 [==============================] - 157s 1s/step - loss: 0.0366 - accuracy: 0.9874 - val_loss: 0.0909 - val_accuracy: 0.9802\n",
      "Epoch 94/100\n",
      "114/114 [==============================] - 156s 1s/step - loss: 0.0495 - accuracy: 0.9877 - val_loss: 0.2397 - val_accuracy: 0.9846\n",
      "Epoch 95/100\n",
      "114/114 [==============================] - 156s 1s/step - loss: 0.0413 - accuracy: 0.9873 - val_loss: 0.1058 - val_accuracy: 0.9868\n",
      "Epoch 96/100\n",
      "114/114 [==============================] - 157s 1s/step - loss: 0.0477 - accuracy: 0.9904 - val_loss: 0.1270 - val_accuracy: 0.9846\n",
      "Epoch 97/100\n",
      "114/114 [==============================] - 156s 1s/step - loss: 0.0570 - accuracy: 0.9853 - val_loss: 0.0863 - val_accuracy: 0.9824\n",
      "Epoch 98/100\n",
      "114/114 [==============================] - 156s 1s/step - loss: 0.0850 - accuracy: 0.9848 - val_loss: 0.1138 - val_accuracy: 0.9714\n",
      "Epoch 99/100\n",
      "114/114 [==============================] - 157s 1s/step - loss: 0.0538 - accuracy: 0.9913 - val_loss: 0.1308 - val_accuracy: 0.9868\n",
      "Epoch 100/100\n",
      "114/114 [==============================] - 161s 1s/step - loss: 0.0628 - accuracy: 0.9903 - val_loss: 0.1731 - val_accuracy: 0.9802\n"
     ]
    }
   ],
   "source": [
    "history = model.fit_generator(\n",
    "  training_set,\n",
    "  validation_data=val_set,\n",
    "  epochs=100,\n",
    "  steps_per_epoch=len(training_set),\n",
    "  validation_steps=len(val_set)\n",
    ")"
   ]
  },
  {
   "cell_type": "markdown",
   "metadata": {
    "id": "f40ddf14",
    "papermill": {
     "duration": 3.050847,
     "end_time": "2021-09-04T11:21:52.384166",
     "exception": false,
     "start_time": "2021-09-04T11:21:49.333319",
     "status": "completed"
    },
    "tags": []
   },
   "source": [
    "## Testing"
   ]
  },
  {
   "cell_type": "code",
   "execution_count": 9,
   "metadata": {
    "execution": {
     "iopub.execute_input": "2021-09-05T18:56:40.453614Z",
     "iopub.status.busy": "2021-09-05T18:56:40.453228Z",
     "iopub.status.idle": "2021-09-05T18:57:20.035676Z",
     "shell.execute_reply": "2021-09-05T18:57:20.034852Z",
     "shell.execute_reply.started": "2021-09-05T18:56:40.453572Z"
    },
    "id": "0b6bb6aa",
    "papermill": {
     "duration": 42.826321,
     "end_time": "2021-09-04T11:22:38.246290",
     "exception": false,
     "start_time": "2021-09-04T11:21:55.419969",
     "status": "completed"
    },
    "tags": []
   },
   "outputs": [
    {
     "name": "stdout",
     "output_type": "stream",
     "text": [
      "Evaluating on test data ....\n",
      "15/15 [==============================] - 36s 2s/step - loss: 0.2339 - accuracy: 0.9780\n",
      "test loss, test acc: [0.23388314247131348, 0.9780219793319702]\n"
     ]
    }
   ],
   "source": [
    "print(\"Evaluating on test data ....\")\n",
    "results = model.evaluate(test_set, batch_size=32)\n",
    "print(\"test loss, test acc:\", results)"
   ]
  },
  {
   "cell_type": "markdown",
   "metadata": {
    "id": "366b8eb1",
    "papermill": {
     "duration": 2.960162,
     "end_time": "2021-09-04T11:22:45.019544",
     "exception": false,
     "start_time": "2021-09-04T11:22:42.059382",
     "status": "completed"
    },
    "tags": []
   },
   "source": [
    "## Plotting "
   ]
  },
  {
   "cell_type": "code",
   "execution_count": 10,
   "metadata": {
    "execution": {
     "iopub.execute_input": "2021-09-05T18:57:20.037650Z",
     "iopub.status.busy": "2021-09-05T18:57:20.037219Z",
     "iopub.status.idle": "2021-09-05T18:57:20.053078Z",
     "shell.execute_reply": "2021-09-05T18:57:20.052249Z",
     "shell.execute_reply.started": "2021-09-05T18:57:20.037611Z"
    },
    "id": "71e55669",
    "papermill": {
     "duration": 3.097807,
     "end_time": "2021-09-04T11:22:51.158060",
     "exception": false,
     "start_time": "2021-09-04T11:22:48.060253",
     "status": "completed"
    },
    "tags": []
   },
   "outputs": [
    {
     "data": {
      "text/plain": [
       "{'loss': [3.7985644340515137,\n",
       "  0.3946036100387573,\n",
       "  0.16950052976608276,\n",
       "  0.1632414013147354,\n",
       "  0.1892985701560974,\n",
       "  0.182466521859169,\n",
       "  0.20050007104873657,\n",
       "  0.3112839460372925,\n",
       "  0.3561233580112457,\n",
       "  0.22931604087352753,\n",
       "  0.19159552454948425,\n",
       "  0.16163507103919983,\n",
       "  0.1097167581319809,\n",
       "  0.24354879558086395,\n",
       "  0.10739923268556595,\n",
       "  0.11271406710147858,\n",
       "  0.27228647470474243,\n",
       "  0.3252691328525543,\n",
       "  0.2171851098537445,\n",
       "  0.1950630396604538,\n",
       "  0.11667536199092865,\n",
       "  0.07783907651901245,\n",
       "  0.06903082877397537,\n",
       "  0.0439346581697464,\n",
       "  0.04697681590914726,\n",
       "  0.033444877713918686,\n",
       "  0.09890301525592804,\n",
       "  0.08291862159967422,\n",
       "  0.252585232257843,\n",
       "  0.31944358348846436,\n",
       "  0.09997459501028061,\n",
       "  0.12100077420473099,\n",
       "  0.13374154269695282,\n",
       "  0.25026506185531616,\n",
       "  0.41469627618789673,\n",
       "  0.19224834442138672,\n",
       "  0.07669863104820251,\n",
       "  0.06790698319673538,\n",
       "  0.046030208468437195,\n",
       "  0.0649244636297226,\n",
       "  0.0410473607480526,\n",
       "  0.06021984666585922,\n",
       "  0.047049544751644135,\n",
       "  0.04138113930821419,\n",
       "  0.04729478806257248,\n",
       "  0.04173385724425316,\n",
       "  0.037224944680929184,\n",
       "  0.03850581496953964,\n",
       "  0.04783211275935173,\n",
       "  0.0417342446744442,\n",
       "  0.04990014061331749,\n",
       "  0.04922109842300415,\n",
       "  0.027515722438693047,\n",
       "  0.03990604728460312,\n",
       "  0.032780345529317856,\n",
       "  0.04637869447469711,\n",
       "  0.024558652192354202,\n",
       "  0.05359887331724167,\n",
       "  0.06115889176726341,\n",
       "  0.07796229422092438,\n",
       "  0.05440036207437515,\n",
       "  0.052732203155756,\n",
       "  0.03247631713747978,\n",
       "  0.032985348254442215,\n",
       "  0.03896603733301163,\n",
       "  0.035611871629953384,\n",
       "  0.02419521100819111,\n",
       "  0.5731954574584961,\n",
       "  0.4987199902534485,\n",
       "  0.20456038415431976,\n",
       "  2.340592861175537,\n",
       "  0.34061017632484436,\n",
       "  0.14109691977500916,\n",
       "  0.08333272486925125,\n",
       "  0.0641750916838646,\n",
       "  0.049044087529182434,\n",
       "  0.048469919711351395,\n",
       "  0.03750838339328766,\n",
       "  0.060209136456251144,\n",
       "  0.04094627499580383,\n",
       "  0.04093266651034355,\n",
       "  0.03946331888437271,\n",
       "  0.03453896567225456,\n",
       "  0.03399409353733063,\n",
       "  0.03417840972542763,\n",
       "  0.020531248301267624,\n",
       "  0.040040306746959686,\n",
       "  0.03209589049220085,\n",
       "  0.03395311161875725,\n",
       "  0.020998015999794006,\n",
       "  0.023047974333167076,\n",
       "  0.02146589197218418,\n",
       "  0.04688296839594841,\n",
       "  0.06591784209012985,\n",
       "  0.046820204704999924,\n",
       "  0.057567063719034195,\n",
       "  0.054435182362794876,\n",
       "  0.07533692568540573,\n",
       "  0.055158209055662155,\n",
       "  0.04591933265328407],\n",
       " 'accuracy': [0.8934358954429626,\n",
       "  0.9351826310157776,\n",
       "  0.9601757526397705,\n",
       "  0.9604504108428955,\n",
       "  0.9596264958381653,\n",
       "  0.9623729586601257,\n",
       "  0.9631969332695007,\n",
       "  0.9590771794319153,\n",
       "  0.9560559988021851,\n",
       "  0.9662180542945862,\n",
       "  0.9700631499290466,\n",
       "  0.9681406021118164,\n",
       "  0.9750068783760071,\n",
       "  0.9659433960914612,\n",
       "  0.9719856977462769,\n",
       "  0.9730843305587769,\n",
       "  0.9599011540412903,\n",
       "  0.9588025212287903,\n",
       "  0.9708871245384216,\n",
       "  0.9730843305587769,\n",
       "  0.9769294261932373,\n",
       "  0.981873095035553,\n",
       "  0.981598436832428,\n",
       "  0.9859928488731384,\n",
       "  0.9868168234825134,\n",
       "  0.9895632863044739,\n",
       "  0.9774787425994873,\n",
       "  0.9772040843963623,\n",
       "  0.9728096723556519,\n",
       "  0.9599011540412903,\n",
       "  0.9758307933807373,\n",
       "  0.9785773158073425,\n",
       "  0.9706124663352966,\n",
       "  0.9684152603149414,\n",
       "  0.9555067420005798,\n",
       "  0.9623729586601257,\n",
       "  0.9780279994010925,\n",
       "  0.981873095035553,\n",
       "  0.9840703010559082,\n",
       "  0.9870914816856384,\n",
       "  0.9895632863044739,\n",
       "  0.9868168234825134,\n",
       "  0.983246386051178,\n",
       "  0.9873660802841187,\n",
       "  0.9881900548934937,\n",
       "  0.9868168234825134,\n",
       "  0.9895632863044739,\n",
       "  0.9870914816856384,\n",
       "  0.9884647130966187,\n",
       "  0.9876407384872437,\n",
       "  0.9879153966903687,\n",
       "  0.9887393712997437,\n",
       "  0.9903872609138489,\n",
       "  0.9879153966903687,\n",
       "  0.9906619191169739,\n",
       "  0.9876407384872437,\n",
       "  0.9925844669342041,\n",
       "  0.9862675070762634,\n",
       "  0.9865421652793884,\n",
       "  0.982697069644928,\n",
       "  0.9884647130966187,\n",
       "  0.9873660802841187,\n",
       "  0.9901126027107239,\n",
       "  0.9934083819389343,\n",
       "  0.9898379445075989,\n",
       "  0.9903872609138489,\n",
       "  0.9934083819389343,\n",
       "  0.9755561947822571,\n",
       "  0.9423235654830933,\n",
       "  0.9719856977462769,\n",
       "  0.9406756162643433,\n",
       "  0.9590771794319153,\n",
       "  0.9747322201728821,\n",
       "  0.9758307933807373,\n",
       "  0.983246386051178,\n",
       "  0.9846196174621582,\n",
       "  0.9862675070762634,\n",
       "  0.9865421652793884,\n",
       "  0.9846196174621582,\n",
       "  0.9884647130966187,\n",
       "  0.9887393712997437,\n",
       "  0.9870914816856384,\n",
       "  0.9898379445075989,\n",
       "  0.9887393712997437,\n",
       "  0.9912111759185791,\n",
       "  0.9936830401420593,\n",
       "  0.9862675070762634,\n",
       "  0.9884647130966187,\n",
       "  0.9906619191169739,\n",
       "  0.9928591251373291,\n",
       "  0.9914858341217041,\n",
       "  0.9950563311576843,\n",
       "  0.9870914816856384,\n",
       "  0.9870914816856384,\n",
       "  0.9879153966903687,\n",
       "  0.9876407384872437,\n",
       "  0.9870914816856384,\n",
       "  0.9846196174621582,\n",
       "  0.9887393712997437,\n",
       "  0.9912111759185791],\n",
       " 'val_loss': [0.488616943359375,\n",
       "  0.0924358069896698,\n",
       "  3.3298323154449463,\n",
       "  0.46047818660736084,\n",
       "  1.0682371854782104,\n",
       "  0.6748980283737183,\n",
       "  0.8674529790878296,\n",
       "  48.5032844543457,\n",
       "  2.8767240047454834,\n",
       "  0.3010076880455017,\n",
       "  0.6781004667282104,\n",
       "  47.23307800292969,\n",
       "  1.6307984590530396,\n",
       "  0.5208964943885803,\n",
       "  1.7313063144683838,\n",
       "  6.154959678649902,\n",
       "  2.657518148422241,\n",
       "  0.6890491247177124,\n",
       "  0.2553035318851471,\n",
       "  2.0005884170532227,\n",
       "  0.2665483355522156,\n",
       "  0.06096994876861572,\n",
       "  0.0307680144906044,\n",
       "  0.03876156732439995,\n",
       "  0.9451627731323242,\n",
       "  3.9785759449005127,\n",
       "  1.0994603633880615,\n",
       "  0.022389894351363182,\n",
       "  1.0571426153182983,\n",
       "  0.8367465734481812,\n",
       "  0.05384114384651184,\n",
       "  54.19251251220703,\n",
       "  3.156228542327881,\n",
       "  0.11320441961288452,\n",
       "  6.130466461181641,\n",
       "  1.4189778566360474,\n",
       "  0.40765321254730225,\n",
       "  0.18778042495250702,\n",
       "  0.03951204568147659,\n",
       "  0.04264167696237564,\n",
       "  0.04271232336759567,\n",
       "  0.024972960352897644,\n",
       "  0.05526043474674225,\n",
       "  0.05484919995069504,\n",
       "  0.06480861455202103,\n",
       "  0.024490250274538994,\n",
       "  0.19481819868087769,\n",
       "  0.04392551630735397,\n",
       "  0.06553632020950317,\n",
       "  0.04273952171206474,\n",
       "  0.19449198246002197,\n",
       "  0.028167996555566788,\n",
       "  0.06369060277938843,\n",
       "  0.2761983275413513,\n",
       "  0.04055561497807503,\n",
       "  0.1547650247812271,\n",
       "  0.07234493643045425,\n",
       "  0.08782071620225906,\n",
       "  0.08022099733352661,\n",
       "  4.582480430603027,\n",
       "  0.14251379668712616,\n",
       "  0.19041994214057922,\n",
       "  0.049439504742622375,\n",
       "  0.8620541095733643,\n",
       "  0.04161201789975166,\n",
       "  0.05614084750413895,\n",
       "  12.489715576171875,\n",
       "  2.709474802017212,\n",
       "  0.09461287409067154,\n",
       "  0.3126640319824219,\n",
       "  6.531872272491455,\n",
       "  12.933158874511719,\n",
       "  0.05553674325346947,\n",
       "  0.058592285960912704,\n",
       "  0.04560312256217003,\n",
       "  0.03201492875814438,\n",
       "  0.1271725296974182,\n",
       "  0.09434202313423157,\n",
       "  0.07799705862998962,\n",
       "  0.0454879030585289,\n",
       "  1.379995584487915,\n",
       "  0.05975254625082016,\n",
       "  0.1174912080168724,\n",
       "  0.06346290558576584,\n",
       "  0.07304878532886505,\n",
       "  0.16973820328712463,\n",
       "  0.08957010507583618,\n",
       "  0.1117609441280365,\n",
       "  0.14336955547332764,\n",
       "  0.18073879182338715,\n",
       "  0.06450984627008438,\n",
       "  0.13234439492225647,\n",
       "  0.0908929705619812,\n",
       "  0.23970632255077362,\n",
       "  0.10577879846096039,\n",
       "  0.12698505818843842,\n",
       "  0.08629026263952255,\n",
       "  0.11381257325410843,\n",
       "  0.1308128386735916,\n",
       "  0.17311924695968628],\n",
       " 'val_accuracy': [0.9164835214614868,\n",
       "  0.9736263751983643,\n",
       "  0.6769230961799622,\n",
       "  0.9164835214614868,\n",
       "  0.8725274801254272,\n",
       "  0.903296709060669,\n",
       "  0.79340660572052,\n",
       "  0.28131869435310364,\n",
       "  0.8571428656578064,\n",
       "  0.9670329689979553,\n",
       "  0.894505500793457,\n",
       "  0.28131869435310364,\n",
       "  0.8219780325889587,\n",
       "  0.8329670429229736,\n",
       "  0.8703296780586243,\n",
       "  0.8175824284553528,\n",
       "  0.696703314781189,\n",
       "  0.89670330286026,\n",
       "  0.9626373648643494,\n",
       "  0.8461538553237915,\n",
       "  0.9780219793319702,\n",
       "  0.9802197813987732,\n",
       "  0.9890109896659851,\n",
       "  0.9890109896659851,\n",
       "  0.9208791255950928,\n",
       "  0.8109890222549438,\n",
       "  0.8879120945930481,\n",
       "  0.9934065937995911,\n",
       "  0.7868131995201111,\n",
       "  0.8373626470565796,\n",
       "  0.9846153855323792,\n",
       "  0.28131869435310364,\n",
       "  0.7890110015869141,\n",
       "  0.9648351669311523,\n",
       "  0.6659340858459473,\n",
       "  0.6175824403762817,\n",
       "  0.9164835214614868,\n",
       "  0.9692307710647583,\n",
       "  0.9846153855323792,\n",
       "  0.9824175834655762,\n",
       "  0.9846153855323792,\n",
       "  0.9912087917327881,\n",
       "  0.9912087917327881,\n",
       "  0.9802197813987732,\n",
       "  0.9824175834655762,\n",
       "  0.9868131875991821,\n",
       "  0.9604395627975464,\n",
       "  0.9912087917327881,\n",
       "  0.9780219793319702,\n",
       "  0.9912087917327881,\n",
       "  0.9626373648643494,\n",
       "  0.9912087917327881,\n",
       "  0.9846153855323792,\n",
       "  0.9450549483299255,\n",
       "  0.9868131875991821,\n",
       "  0.9758241772651672,\n",
       "  0.9846153855323792,\n",
       "  0.9890109896659851,\n",
       "  0.9890109896659851,\n",
       "  0.9230769276618958,\n",
       "  0.9648351669311523,\n",
       "  0.9516483545303345,\n",
       "  0.9868131875991821,\n",
       "  0.9362637400627136,\n",
       "  0.9890109896659851,\n",
       "  0.9868131875991821,\n",
       "  0.8681318759918213,\n",
       "  0.8857142925262451,\n",
       "  0.9780219793319702,\n",
       "  0.8769230842590332,\n",
       "  0.38021978735923767,\n",
       "  0.35384616255760193,\n",
       "  0.9824175834655762,\n",
       "  0.9648351669311523,\n",
       "  0.9846153855323792,\n",
       "  0.9912087917327881,\n",
       "  0.9648351669311523,\n",
       "  0.9384615421295166,\n",
       "  0.9802197813987732,\n",
       "  0.9890109896659851,\n",
       "  0.7758241891860962,\n",
       "  0.9824175834655762,\n",
       "  0.9868131875991821,\n",
       "  0.9868131875991821,\n",
       "  0.9912087917327881,\n",
       "  0.9824175834655762,\n",
       "  0.9780219793319702,\n",
       "  0.9890109896659851,\n",
       "  0.9912087917327881,\n",
       "  0.9868131875991821,\n",
       "  0.9824175834655762,\n",
       "  0.9890109896659851,\n",
       "  0.9802197813987732,\n",
       "  0.9846153855323792,\n",
       "  0.9868131875991821,\n",
       "  0.9846153855323792,\n",
       "  0.9824175834655762,\n",
       "  0.9714285731315613,\n",
       "  0.9868131875991821,\n",
       "  0.9802197813987732]}"
      ]
     },
     "execution_count": 10,
     "metadata": {},
     "output_type": "execute_result"
    }
   ],
   "source": [
    "history.history"
   ]
  },
  {
   "cell_type": "markdown",
   "metadata": {
    "id": "d6738aa2",
    "papermill": {
     "duration": 3.018845,
     "end_time": "2021-09-04T11:22:57.380347",
     "exception": false,
     "start_time": "2021-09-04T11:22:54.361502",
     "status": "completed"
    },
    "tags": []
   },
   "source": [
    "### Accuracy vs Epochs"
   ]
  },
  {
   "cell_type": "code",
   "execution_count": 11,
   "metadata": {
    "execution": {
     "iopub.execute_input": "2021-09-05T18:57:20.055492Z",
     "iopub.status.busy": "2021-09-05T18:57:20.055211Z",
     "iopub.status.idle": "2021-09-05T18:57:20.216051Z",
     "shell.execute_reply": "2021-09-05T18:57:20.215284Z",
     "shell.execute_reply.started": "2021-09-05T18:57:20.055462Z"
    },
    "id": "10220a76",
    "papermill": {
     "duration": 3.438453,
     "end_time": "2021-09-04T11:23:03.819332",
     "exception": false,
     "start_time": "2021-09-04T11:23:00.380879",
     "status": "completed"
    },
    "tags": []
   },
   "outputs": [
    {
     "data": {
      "image/png": "[encoded data removed]",
      "text/plain": [
       "<Figure size 432x288 with 1 Axes>"
      ]
     },
     "metadata": {
      "needs_background": "light"
     },
     "output_type": "display_data"
    }
   ],
   "source": [
    "plt.plot(history.history['accuracy'])\n",
    "plt.plot(history.history['val_accuracy'])\n",
    "plt.title('model accuracy')\n",
    "plt.ylabel('accuracy')\n",
    "plt.xlabel('epoch')\n",
    "plt.legend(['train', 'test'], loc='upper left')\n",
    "plt.show()\n"
   ]
  },
  {
   "cell_type": "markdown",
   "metadata": {
    "id": "26f0e568",
    "papermill": {
     "duration": 2.970298,
     "end_time": "2021-09-04T11:23:09.764679",
     "exception": false,
     "start_time": "2021-09-04T11:23:06.794381",
     "status": "completed"
    },
    "tags": []
   },
   "source": [
    "### Loss vs Epochs"
   ]
  },
  {
   "cell_type": "code",
   "execution_count": 12,
   "metadata": {
    "execution": {
     "iopub.execute_input": "2021-09-05T18:57:20.218874Z",
     "iopub.status.busy": "2021-09-05T18:57:20.218354Z",
     "iopub.status.idle": "2021-09-05T18:57:20.349775Z",
     "shell.execute_reply": "2021-09-05T18:57:20.348836Z",
     "shell.execute_reply.started": "2021-09-05T18:57:20.218834Z"
    },
    "id": "2d3161ab",
    "outputId": "dd6790f4-4205-4cbf-97f6-f324b70a1ba4",
    "papermill": {
     "duration": 3.606014,
     "end_time": "2021-09-04T11:23:16.728425",
     "exception": false,
     "start_time": "2021-09-04T11:23:13.122411",
     "status": "completed"
    },
    "tags": []
   },
   "outputs": [
    {
     "data": {
      "image/png": "[encoded data removed]",
      "text/plain": [
       "<Figure size 432x288 with 1 Axes>"
      ]
     },
     "metadata": {
      "needs_background": "light"
     },
     "output_type": "display_data"
    }
   ],
   "source": [
    "plt.plot(history.history['loss'])\n",
    "plt.plot(history.history['val_loss'])\n",
    "plt.title('model loss')\n",
    "plt.ylabel('loss')\n",
    "plt.xlabel('epoch')\n",
    "plt.legend(['train', 'test'], loc='upper left')\n",
    "plt.show()"
   ]
  }
 ],
 "metadata": {
  "kernelspec": {
   "display_name": "Python 3",
   "language": "python",
   "name": "python3"
  },
  "language_info": {
   "codemirror_mode": {
    "name": "ipython",
    "version": 3
   },
   "file_extension": ".py",
   "mimetype": "text/x-python",
   "name": "python",
   "nbconvert_exporter": "python",
   "pygments_lexer": "ipython3",
   "version": "3.8.10"
  }
 },
 "nbformat": 4,
 "nbformat_minor": 4
}
