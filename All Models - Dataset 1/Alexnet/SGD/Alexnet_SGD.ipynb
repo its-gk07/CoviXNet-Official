{
 "cells": [
  {
   "cell_type": "markdown",
   "id": "c1c39ce2",
   "metadata": {
    "id": "95a59ce3",
    "papermill": {
     "duration": 0.017862,
     "end_time": "2021-09-05T14:26:25.057271",
     "exception": false,
     "start_time": "2021-09-05T14:26:25.039409",
     "status": "completed"
    },
    "tags": []
   },
   "source": [
    "# Complete Notebook"
   ]
  },
  {
   "cell_type": "markdown",
   "id": "2ca47e3e",
   "metadata": {
    "id": "95247840",
    "papermill": {
     "duration": 0.015597,
     "end_time": "2021-09-05T14:26:25.089294",
     "exception": false,
     "start_time": "2021-09-05T14:26:25.073697",
     "status": "completed"
    },
    "tags": []
   },
   "source": [
    "## Importing Libraries"
   ]
  },
  {
   "cell_type": "code",
   "execution_count": 1,
   "id": "42faac2f",
   "metadata": {
    "execution": {
     "iopub.execute_input": "2021-09-05T14:26:25.128926Z",
     "iopub.status.busy": "2021-09-05T14:26:25.126915Z",
     "iopub.status.idle": "2021-09-05T14:26:25.207122Z",
     "shell.execute_reply": "2021-09-05T14:26:25.206367Z",
     "shell.execute_reply.started": "2021-09-03T09:36:50.027146Z"
    },
    "id": "acbb5c7b",
    "papermill": {
     "duration": 0.101285,
     "end_time": "2021-09-05T14:26:25.207305",
     "exception": false,
     "start_time": "2021-09-05T14:26:25.106020",
     "status": "completed"
    },
    "tags": []
   },
   "outputs": [],
   "source": [
    "import warnings\n",
    "warnings.filterwarnings('ignore')"
   ]
  },
  {
   "cell_type": "code",
   "execution_count": 2,
   "id": "f188c5a4",
   "metadata": {
    "execution": {
     "iopub.execute_input": "2021-09-05T14:26:25.248836Z",
     "iopub.status.busy": "2021-09-05T14:26:25.248113Z",
     "iopub.status.idle": "2021-09-05T14:26:30.666089Z",
     "shell.execute_reply": "2021-09-05T14:26:30.664969Z",
     "shell.execute_reply.started": "2021-09-03T09:36:50.645719Z"
    },
    "id": "775e39a0",
    "papermill": {
     "duration": 5.441605,
     "end_time": "2021-09-05T14:26:30.666242",
     "exception": false,
     "start_time": "2021-09-05T14:26:25.224637",
     "status": "completed"
    },
    "tags": []
   },
   "outputs": [],
   "source": [
    "from tensorflow import keras\n",
    "from keras.layers import Input, Lambda, Dense, Flatten, Dropout\n",
    "from keras.models import Model\n",
    "from keras.preprocessing import image\n",
    "from keras.preprocessing.image import ImageDataGenerator\n",
    "from keras.models import Sequential\n",
    "import numpy as np\n",
    "from glob import glob\n",
    "import matplotlib.pyplot as plt\n",
    "%matplotlib inline "
   ]
  },
  {
   "cell_type": "markdown",
   "id": "cff8f8d9",
   "metadata": {
    "id": "c745e4a3",
    "papermill": {
     "duration": 0.018015,
     "end_time": "2021-09-05T14:26:30.701913",
     "exception": false,
     "start_time": "2021-09-05T14:26:30.683898",
     "status": "completed"
    },
    "tags": []
   },
   "source": [
    "## Initializing Parameters"
   ]
  },
  {
   "cell_type": "code",
   "execution_count": 3,
   "id": "3d235575",
   "metadata": {
    "execution": {
     "iopub.execute_input": "2021-09-05T14:26:30.742827Z",
     "iopub.status.busy": "2021-09-05T14:26:30.740635Z",
     "iopub.status.idle": "2021-09-05T14:26:30.743904Z",
     "shell.execute_reply": "2021-09-05T14:26:30.744434Z",
     "shell.execute_reply.started": "2021-09-03T09:37:48.845787Z"
    },
    "id": "9880a2e3",
    "papermill": {
     "duration": 0.025698,
     "end_time": "2021-09-05T14:26:30.744589",
     "exception": false,
     "start_time": "2021-09-05T14:26:30.718891",
     "status": "completed"
    },
    "tags": []
   },
   "outputs": [],
   "source": [
    "IMAGE_SIZE = [256, 256, 3]\n",
    "img_size = (256, 256)\n",
    "num_classes = 2\n",
    "\n",
    "train_path = '/kaggle/input/covid19-chest-xray-processed-dataset/Dataset/Train'\n",
    "test_path = '/kaggle/input/covid19-chest-xray-processed-dataset/Dataset/Test'\n",
    "val_path = '/kaggle/input/covid19-chest-xray-processed-dataset/Dataset/Val'"
   ]
  },
  {
   "cell_type": "markdown",
   "id": "6a31374f",
   "metadata": {
    "id": "5e9e8166",
    "papermill": {
     "duration": 0.016562,
     "end_time": "2021-09-05T14:26:30.777416",
     "exception": false,
     "start_time": "2021-09-05T14:26:30.760854",
     "status": "completed"
    },
    "tags": []
   },
   "source": [
    "## Data Augmentation"
   ]
  },
  {
   "cell_type": "code",
   "execution_count": 4,
   "id": "8a7d2cd4",
   "metadata": {
    "execution": {
     "iopub.execute_input": "2021-09-05T14:26:30.817867Z",
     "iopub.status.busy": "2021-09-05T14:26:30.817236Z",
     "iopub.status.idle": "2021-09-05T14:26:34.602566Z",
     "shell.execute_reply": "2021-09-05T14:26:34.603156Z",
     "shell.execute_reply.started": "2021-09-03T09:37:48.852449Z"
    },
    "id": "0d8ed6a7",
    "outputId": "00e612d9-dead-4534-a3ed-83153dd4d91d",
    "papermill": {
     "duration": 3.809877,
     "end_time": "2021-09-05T14:26:34.603348",
     "exception": false,
     "start_time": "2021-09-05T14:26:30.793471",
     "status": "completed"
    },
    "tags": []
   },
   "outputs": [
    {
     "name": "stdout",
     "output_type": "stream",
     "text": [
      "Found 3641 images belonging to 2 classes.\n",
      "Found 455 images belonging to 2 classes.\n",
      "Found 455 images belonging to 2 classes.\n"
     ]
    }
   ],
   "source": [
    "train_datagen = ImageDataGenerator(rescale = 1./255,\n",
    "                                   shear_range = 0.2,\n",
    "                                   zoom_range = 0.2,\n",
    "                                   horizontal_flip = True)\n",
    "\n",
    "test_datagen = ImageDataGenerator(rescale = 1./255)\n",
    "val_datagen = ImageDataGenerator(rescale = 1./255)\n",
    "\n",
    "\n",
    "\n",
    "\n",
    "# Make sure you provide the same target size as initialied for the image size\n",
    "training_set = train_datagen.flow_from_directory('/kaggle/input/covid19-chest-xray-processed-dataset/Dataset/Train',\n",
    "                                                 target_size = (256, 256),\n",
    "                                                 batch_size = 32,\n",
    "                                                 class_mode = 'categorical')\n",
    "\n",
    "\n",
    "test_set = test_datagen.flow_from_directory('/kaggle/input/covid19-chest-xray-processed-dataset/Dataset/Test',\n",
    "                                            target_size = (256, 256),\n",
    "                                            batch_size = 32,\n",
    "                                            class_mode = 'categorical')\n",
    "\n",
    "\n",
    "val_set = test_datagen.flow_from_directory('/kaggle/input/covid19-chest-xray-processed-dataset/Dataset/Val',\n",
    "                                            target_size = (256, 256),\n",
    "                                            batch_size = 32,\n",
    "                                            class_mode = 'categorical')"
   ]
  },
  {
   "cell_type": "markdown",
   "id": "710eca14",
   "metadata": {
    "id": "c53f99c0",
    "papermill": {
     "duration": 0.017471,
     "end_time": "2021-09-05T14:26:34.639080",
     "exception": false,
     "start_time": "2021-09-05T14:26:34.621609",
     "status": "completed"
    },
    "tags": []
   },
   "source": [
    "## Alexnet"
   ]
  },
  {
   "cell_type": "markdown",
   "id": "8736973a",
   "metadata": {
    "id": "fae5a2ef",
    "papermill": {
     "duration": 0.01762,
     "end_time": "2021-09-05T14:26:34.674673",
     "exception": false,
     "start_time": "2021-09-05T14:26:34.657053",
     "status": "completed"
    },
    "tags": []
   },
   "source": [
    "## Building Model"
   ]
  },
  {
   "cell_type": "code",
   "execution_count": 5,
   "id": "c7529266",
   "metadata": {
    "execution": {
     "iopub.execute_input": "2021-09-05T14:26:34.722228Z",
     "iopub.status.busy": "2021-09-05T14:26:34.721364Z",
     "iopub.status.idle": "2021-09-05T14:26:37.556575Z",
     "shell.execute_reply": "2021-09-05T14:26:37.555995Z"
    },
    "id": "UXGFFDywjxeQ",
    "papermill": {
     "duration": 2.864381,
     "end_time": "2021-09-05T14:26:37.556756",
     "exception": false,
     "start_time": "2021-09-05T14:26:34.692375",
     "status": "completed"
    },
    "tags": []
   },
   "outputs": [],
   "source": [
    "model = keras.models.Sequential([\n",
    "    keras.layers.Conv2D(filters=96, kernel_size=(11,11), strides=(4,4), activation='relu', input_shape=(256,256,3)),\n",
    "    keras.layers.BatchNormalization(),\n",
    "    keras.layers.MaxPool2D(pool_size=(3,3), strides=(2,2)),\n",
    "    keras.layers.Conv2D(filters=256, kernel_size=(5,5), strides=(1,1), activation='relu', padding=\"same\"),\n",
    "    keras.layers.BatchNormalization(),\n",
    "    keras.layers.MaxPool2D(pool_size=(3,3), strides=(2,2)),\n",
    "    keras.layers.Conv2D(filters=384, kernel_size=(3,3), strides=(1,1), activation='relu', padding=\"same\"),\n",
    "    keras.layers.BatchNormalization(),\n",
    "    keras.layers.Conv2D(filters=384, kernel_size=(3,3), strides=(1,1), activation='relu', padding=\"same\"),\n",
    "    keras.layers.BatchNormalization(),\n",
    "    keras.layers.Conv2D(filters=256, kernel_size=(3,3), strides=(1,1), activation='relu', padding=\"same\"),\n",
    "    keras.layers.BatchNormalization(),\n",
    "    keras.layers.MaxPool2D(pool_size=(3,3), strides=(2,2)),\n",
    "    keras.layers.Flatten(),\n",
    "    keras.layers.Dense(4096, activation='relu'),\n",
    "    keras.layers.Dropout(0.5),\n",
    "    keras.layers.Dense(4096, activation='relu'),\n",
    "    keras.layers.Dropout(0.5),\n",
    "    keras.layers.Dense(2, activation='softmax')\n",
    "])"
   ]
  },
  {
   "cell_type": "code",
   "execution_count": 6,
   "id": "b862366a",
   "metadata": {
    "execution": {
     "iopub.execute_input": "2021-09-05T14:26:37.604274Z",
     "iopub.status.busy": "2021-09-05T14:26:37.598668Z",
     "iopub.status.idle": "2021-09-05T14:26:37.614538Z",
     "shell.execute_reply": "2021-09-05T14:26:37.613970Z"
    },
    "id": "zse6fQqMlcT3",
    "outputId": "f2cba4b5-8a2b-4b2c-e08a-ec00d43fec7d",
    "papermill": {
     "duration": 0.039919,
     "end_time": "2021-09-05T14:26:37.614672",
     "exception": false,
     "start_time": "2021-09-05T14:26:37.574753",
     "status": "completed"
    },
    "tags": []
   },
   "outputs": [],
   "source": [
    "model.compile(optimizer='SGD', loss=\"categorical_crossentropy\", metrics=['accuracy'])"
   ]
  },
  {
   "cell_type": "code",
   "execution_count": 7,
   "id": "b0c2219c",
   "metadata": {
    "execution": {
     "iopub.execute_input": "2021-09-05T14:26:37.662254Z",
     "iopub.status.busy": "2021-09-05T14:26:37.661054Z",
     "iopub.status.idle": "2021-09-05T14:26:37.675828Z",
     "shell.execute_reply": "2021-09-05T14:26:37.675286Z",
     "shell.execute_reply.started": "2021-09-03T09:38:12.106834Z"
    },
    "id": "077e4b1e",
    "papermill": {
     "duration": 0.043491,
     "end_time": "2021-09-05T14:26:37.675986",
     "exception": false,
     "start_time": "2021-09-05T14:26:37.632495",
     "status": "completed"
    },
    "tags": []
   },
   "outputs": [
    {
     "name": "stdout",
     "output_type": "stream",
     "text": [
      "Model: \"sequential\"\n",
      "_________________________________________________________________\n",
      "Layer (type)                 Output Shape              Param #   \n",
      "=================================================================\n",
      "conv2d (Conv2D)              (None, 62, 62, 96)        34944     \n",
      "_________________________________________________________________\n",
      "batch_normalization (BatchNo (None, 62, 62, 96)        384       \n",
      "_________________________________________________________________\n",
      "max_pooling2d (MaxPooling2D) (None, 30, 30, 96)        0         \n",
      "_________________________________________________________________\n",
      "conv2d_1 (Conv2D)            (None, 30, 30, 256)       614656    \n",
      "_________________________________________________________________\n",
      "batch_normalization_1 (Batch (None, 30, 30, 256)       1024      \n",
      "_________________________________________________________________\n",
      "max_pooling2d_1 (MaxPooling2 (None, 14, 14, 256)       0         \n",
      "_________________________________________________________________\n",
      "conv2d_2 (Conv2D)            (None, 14, 14, 384)       885120    \n",
      "_________________________________________________________________\n",
      "batch_normalization_2 (Batch (None, 14, 14, 384)       1536      \n",
      "_________________________________________________________________\n",
      "conv2d_3 (Conv2D)            (None, 14, 14, 384)       1327488   \n",
      "_________________________________________________________________\n",
      "batch_normalization_3 (Batch (None, 14, 14, 384)       1536      \n",
      "_________________________________________________________________\n",
      "conv2d_4 (Conv2D)            (None, 14, 14, 256)       884992    \n",
      "_________________________________________________________________\n",
      "batch_normalization_4 (Batch (None, 14, 14, 256)       1024      \n",
      "_________________________________________________________________\n",
      "max_pooling2d_2 (MaxPooling2 (None, 6, 6, 256)         0         \n",
      "_________________________________________________________________\n",
      "flatten (Flatten)            (None, 9216)              0         \n",
      "_________________________________________________________________\n",
      "dense (Dense)                (None, 4096)              37752832  \n",
      "_________________________________________________________________\n",
      "dropout (Dropout)            (None, 4096)              0         \n",
      "_________________________________________________________________\n",
      "dense_1 (Dense)              (None, 4096)              16781312  \n",
      "_________________________________________________________________\n",
      "dropout_1 (Dropout)          (None, 4096)              0         \n",
      "_________________________________________________________________\n",
      "dense_2 (Dense)              (None, 2)                 8194      \n",
      "=================================================================\n",
      "Total params: 58,295,042\n",
      "Trainable params: 58,292,290\n",
      "Non-trainable params: 2,752\n",
      "_________________________________________________________________\n"
     ]
    }
   ],
   "source": [
    "model.summary()"
   ]
  },
  {
   "cell_type": "markdown",
   "id": "2ad78515",
   "metadata": {
    "id": "eceeef16",
    "papermill": {
     "duration": 0.018164,
     "end_time": "2021-09-05T14:26:37.712698",
     "exception": false,
     "start_time": "2021-09-05T14:26:37.694534",
     "status": "completed"
    },
    "tags": []
   },
   "source": [
    "## Training"
   ]
  },
  {
   "cell_type": "code",
   "execution_count": 8,
   "id": "52c37975",
   "metadata": {
    "execution": {
     "iopub.execute_input": "2021-09-05T14:26:37.754406Z",
     "iopub.status.busy": "2021-09-05T14:26:37.753637Z",
     "iopub.status.idle": "2021-09-05T19:34:43.342761Z",
     "shell.execute_reply": "2021-09-05T19:34:43.342234Z",
     "shell.execute_reply.started": "2021-09-03T09:38:13.3908Z"
    },
    "id": "90c6fc89",
    "outputId": "69b020ff-0648-4991-a4ca-4bd184a39078",
    "papermill": {
     "duration": 18485.612096,
     "end_time": "2021-09-05T19:34:43.342949",
     "exception": false,
     "start_time": "2021-09-05T14:26:37.730853",
     "status": "completed"
    },
    "tags": []
   },
   "outputs": [
    {
     "name": "stdout",
     "output_type": "stream",
     "text": [
      "Epoch 1/100\n",
      "114/114 [==============================] - 277s 2s/step - loss: 1.4449 - accuracy: 0.8597 - val_loss: 0.7980 - val_accuracy: 0.4593\n",
      "Epoch 2/100\n",
      "114/114 [==============================] - 176s 2s/step - loss: 0.1854 - accuracy: 0.9558 - val_loss: 0.1492 - val_accuracy: 0.9429\n",
      "Epoch 3/100\n",
      "114/114 [==============================] - 177s 2s/step - loss: 0.1467 - accuracy: 0.9648 - val_loss: 0.1120 - val_accuracy: 0.9648\n",
      "Epoch 4/100\n",
      "114/114 [==============================] - 185s 2s/step - loss: 0.1158 - accuracy: 0.9703 - val_loss: 0.0793 - val_accuracy: 0.9758\n",
      "Epoch 5/100\n",
      "114/114 [==============================] - 186s 2s/step - loss: 0.0810 - accuracy: 0.9770 - val_loss: 0.1693 - val_accuracy: 0.9363\n",
      "Epoch 6/100\n",
      "114/114 [==============================] - 186s 2s/step - loss: 0.0601 - accuracy: 0.9796 - val_loss: 0.8181 - val_accuracy: 0.6879\n",
      "Epoch 7/100\n",
      "114/114 [==============================] - 186s 2s/step - loss: 0.0830 - accuracy: 0.9741 - val_loss: 0.0353 - val_accuracy: 0.9912\n",
      "Epoch 8/100\n",
      "114/114 [==============================] - 183s 2s/step - loss: 0.0569 - accuracy: 0.9824 - val_loss: 0.0679 - val_accuracy: 0.9802\n",
      "Epoch 9/100\n",
      "114/114 [==============================] - 179s 2s/step - loss: 0.0696 - accuracy: 0.9784 - val_loss: 0.0555 - val_accuracy: 0.9824\n",
      "Epoch 10/100\n",
      "114/114 [==============================] - 176s 2s/step - loss: 0.0501 - accuracy: 0.9817 - val_loss: 0.0436 - val_accuracy: 0.9780\n",
      "Epoch 11/100\n",
      "114/114 [==============================] - 178s 2s/step - loss: 0.0412 - accuracy: 0.9855 - val_loss: 0.0532 - val_accuracy: 0.9868\n",
      "Epoch 12/100\n",
      "114/114 [==============================] - 178s 2s/step - loss: 0.0269 - accuracy: 0.9923 - val_loss: 0.1658 - val_accuracy: 0.9495\n",
      "Epoch 13/100\n",
      "114/114 [==============================] - 179s 2s/step - loss: 0.0432 - accuracy: 0.9858 - val_loss: 0.0472 - val_accuracy: 0.9846\n",
      "Epoch 14/100\n",
      "114/114 [==============================] - 178s 2s/step - loss: 0.0387 - accuracy: 0.9856 - val_loss: 0.2562 - val_accuracy: 0.9231\n",
      "Epoch 15/100\n",
      "114/114 [==============================] - 182s 2s/step - loss: 0.0399 - accuracy: 0.9868 - val_loss: 0.1367 - val_accuracy: 0.9538\n",
      "Epoch 16/100\n",
      "114/114 [==============================] - 181s 2s/step - loss: 0.0324 - accuracy: 0.9887 - val_loss: 0.0489 - val_accuracy: 0.9846\n",
      "Epoch 17/100\n",
      "114/114 [==============================] - 183s 2s/step - loss: 0.0217 - accuracy: 0.9951 - val_loss: 0.0613 - val_accuracy: 0.9736\n",
      "Epoch 18/100\n",
      "114/114 [==============================] - 181s 2s/step - loss: 0.0313 - accuracy: 0.9895 - val_loss: 0.1330 - val_accuracy: 0.9516\n",
      "Epoch 19/100\n",
      "114/114 [==============================] - 181s 2s/step - loss: 0.0348 - accuracy: 0.9909 - val_loss: 0.0593 - val_accuracy: 0.9846\n",
      "Epoch 20/100\n",
      "114/114 [==============================] - 180s 2s/step - loss: 0.0238 - accuracy: 0.9927 - val_loss: 0.0303 - val_accuracy: 0.9890\n",
      "Epoch 21/100\n",
      "114/114 [==============================] - 181s 2s/step - loss: 0.0270 - accuracy: 0.9917 - val_loss: 0.1921 - val_accuracy: 0.9429\n",
      "Epoch 22/100\n",
      "114/114 [==============================] - 180s 2s/step - loss: 0.0255 - accuracy: 0.9921 - val_loss: 0.0712 - val_accuracy: 0.9802\n",
      "Epoch 23/100\n",
      "114/114 [==============================] - 184s 2s/step - loss: 0.0192 - accuracy: 0.9929 - val_loss: 0.0636 - val_accuracy: 0.9802\n",
      "Epoch 24/100\n",
      "114/114 [==============================] - 180s 2s/step - loss: 0.0161 - accuracy: 0.9942 - val_loss: 0.0491 - val_accuracy: 0.9890\n",
      "Epoch 25/100\n",
      "114/114 [==============================] - 182s 2s/step - loss: 0.0232 - accuracy: 0.9911 - val_loss: 0.0788 - val_accuracy: 0.9802\n",
      "Epoch 26/100\n",
      "114/114 [==============================] - 180s 2s/step - loss: 0.0232 - accuracy: 0.9940 - val_loss: 0.0528 - val_accuracy: 0.9846\n",
      "Epoch 27/100\n",
      "114/114 [==============================] - 184s 2s/step - loss: 0.0291 - accuracy: 0.9904 - val_loss: 0.0579 - val_accuracy: 0.9802\n",
      "Epoch 28/100\n",
      "114/114 [==============================] - 184s 2s/step - loss: 0.0138 - accuracy: 0.9950 - val_loss: 0.0696 - val_accuracy: 0.9824\n",
      "Epoch 29/100\n",
      "114/114 [==============================] - 184s 2s/step - loss: 0.0165 - accuracy: 0.9941 - val_loss: 0.0725 - val_accuracy: 0.9868\n",
      "Epoch 30/100\n",
      "114/114 [==============================] - 184s 2s/step - loss: 0.0148 - accuracy: 0.9937 - val_loss: 0.0590 - val_accuracy: 0.9868\n",
      "Epoch 31/100\n",
      "114/114 [==============================] - 184s 2s/step - loss: 0.0093 - accuracy: 0.9951 - val_loss: 0.0630 - val_accuracy: 0.9868\n",
      "Epoch 32/100\n",
      "114/114 [==============================] - 182s 2s/step - loss: 0.0139 - accuracy: 0.9960 - val_loss: 0.1028 - val_accuracy: 0.9670\n",
      "Epoch 33/100\n",
      "114/114 [==============================] - 181s 2s/step - loss: 0.0178 - accuracy: 0.9928 - val_loss: 0.0657 - val_accuracy: 0.9802\n",
      "Epoch 34/100\n",
      "114/114 [==============================] - 179s 2s/step - loss: 0.0122 - accuracy: 0.9951 - val_loss: 0.1785 - val_accuracy: 0.9495\n",
      "Epoch 35/100\n",
      "114/114 [==============================] - 181s 2s/step - loss: 0.0225 - accuracy: 0.9931 - val_loss: 0.0591 - val_accuracy: 0.9890\n",
      "Epoch 36/100\n",
      "114/114 [==============================] - 181s 2s/step - loss: 0.0133 - accuracy: 0.9965 - val_loss: 0.0808 - val_accuracy: 0.9802\n",
      "Epoch 37/100\n",
      "114/114 [==============================] - 180s 2s/step - loss: 0.0130 - accuracy: 0.9966 - val_loss: 0.0861 - val_accuracy: 0.9890\n",
      "Epoch 38/100\n",
      "114/114 [==============================] - 179s 2s/step - loss: 0.0185 - accuracy: 0.9936 - val_loss: 0.0408 - val_accuracy: 0.9890\n",
      "Epoch 39/100\n",
      "114/114 [==============================] - 181s 2s/step - loss: 0.0128 - accuracy: 0.9941 - val_loss: 0.0362 - val_accuracy: 0.9846\n",
      "Epoch 40/100\n",
      "114/114 [==============================] - 182s 2s/step - loss: 0.0202 - accuracy: 0.9916 - val_loss: 0.0658 - val_accuracy: 0.9890\n",
      "Epoch 41/100\n",
      "114/114 [==============================] - 184s 2s/step - loss: 0.0107 - accuracy: 0.9954 - val_loss: 0.0593 - val_accuracy: 0.9890\n",
      "Epoch 42/100\n",
      "114/114 [==============================] - 184s 2s/step - loss: 0.0089 - accuracy: 0.9973 - val_loss: 0.0856 - val_accuracy: 0.9890\n",
      "Epoch 43/100\n",
      "114/114 [==============================] - 182s 2s/step - loss: 0.0073 - accuracy: 0.9978 - val_loss: 0.0619 - val_accuracy: 0.9912\n",
      "Epoch 44/100\n",
      "114/114 [==============================] - 185s 2s/step - loss: 0.0065 - accuracy: 0.9976 - val_loss: 0.0690 - val_accuracy: 0.9890\n",
      "Epoch 45/100\n",
      "114/114 [==============================] - 181s 2s/step - loss: 0.0072 - accuracy: 0.9970 - val_loss: 0.0748 - val_accuracy: 0.9824\n",
      "Epoch 46/100\n",
      "114/114 [==============================] - 183s 2s/step - loss: 0.0061 - accuracy: 0.9971 - val_loss: 0.0584 - val_accuracy: 0.9890\n",
      "Epoch 47/100\n",
      "114/114 [==============================] - 182s 2s/step - loss: 0.0116 - accuracy: 0.9968 - val_loss: 0.0519 - val_accuracy: 0.9890\n",
      "Epoch 48/100\n",
      "114/114 [==============================] - 182s 2s/step - loss: 0.0131 - accuracy: 0.9957 - val_loss: 0.0526 - val_accuracy: 0.9890\n",
      "Epoch 49/100\n",
      "114/114 [==============================] - 183s 2s/step - loss: 0.0071 - accuracy: 0.9977 - val_loss: 0.0629 - val_accuracy: 0.9868\n",
      "Epoch 50/100\n",
      "114/114 [==============================] - 183s 2s/step - loss: 0.0090 - accuracy: 0.9971 - val_loss: 0.1773 - val_accuracy: 0.9560\n",
      "Epoch 51/100\n",
      "114/114 [==============================] - 182s 2s/step - loss: 0.0121 - accuracy: 0.9975 - val_loss: 0.0392 - val_accuracy: 0.9890\n",
      "Epoch 52/100\n",
      "114/114 [==============================] - 183s 2s/step - loss: 0.0115 - accuracy: 0.9965 - val_loss: 0.0769 - val_accuracy: 0.9912\n",
      "Epoch 53/100\n",
      "114/114 [==============================] - 182s 2s/step - loss: 0.0144 - accuracy: 0.9955 - val_loss: 0.0601 - val_accuracy: 0.9890\n",
      "Epoch 54/100\n",
      "114/114 [==============================] - 182s 2s/step - loss: 0.0127 - accuracy: 0.9933 - val_loss: 0.0472 - val_accuracy: 0.9912\n",
      "Epoch 55/100\n",
      "114/114 [==============================] - 183s 2s/step - loss: 0.0100 - accuracy: 0.9963 - val_loss: 0.0555 - val_accuracy: 0.9890\n",
      "Epoch 56/100\n",
      "114/114 [==============================] - 182s 2s/step - loss: 0.0064 - accuracy: 0.9958 - val_loss: 0.0699 - val_accuracy: 0.9890\n",
      "Epoch 57/100\n",
      "114/114 [==============================] - 183s 2s/step - loss: 0.0065 - accuracy: 0.9974 - val_loss: 0.0565 - val_accuracy: 0.9912\n",
      "Epoch 58/100\n",
      "114/114 [==============================] - 184s 2s/step - loss: 0.0053 - accuracy: 0.9981 - val_loss: 0.0563 - val_accuracy: 0.9912\n",
      "Epoch 59/100\n",
      "114/114 [==============================] - 183s 2s/step - loss: 0.0079 - accuracy: 0.9953 - val_loss: 0.0560 - val_accuracy: 0.9890\n",
      "Epoch 60/100\n",
      "114/114 [==============================] - 183s 2s/step - loss: 0.0055 - accuracy: 0.9981 - val_loss: 0.0407 - val_accuracy: 0.9868\n",
      "Epoch 61/100\n",
      "114/114 [==============================] - 183s 2s/step - loss: 0.0045 - accuracy: 0.9984 - val_loss: 0.0510 - val_accuracy: 0.9912\n",
      "Epoch 62/100\n",
      "114/114 [==============================] - 184s 2s/step - loss: 0.0034 - accuracy: 0.9987 - val_loss: 0.0714 - val_accuracy: 0.9868\n",
      "Epoch 63/100\n",
      "114/114 [==============================] - 185s 2s/step - loss: 0.0035 - accuracy: 0.9982 - val_loss: 0.1241 - val_accuracy: 0.9802\n",
      "Epoch 64/100\n",
      "114/114 [==============================] - 185s 2s/step - loss: 0.0089 - accuracy: 0.9973 - val_loss: 0.0545 - val_accuracy: 0.9890\n",
      "Epoch 65/100\n",
      "114/114 [==============================] - 186s 2s/step - loss: 0.0218 - accuracy: 0.9937 - val_loss: 0.0618 - val_accuracy: 0.9912\n",
      "Epoch 66/100\n",
      "114/114 [==============================] - 185s 2s/step - loss: 0.0028 - accuracy: 0.9994 - val_loss: 0.0521 - val_accuracy: 0.9890\n",
      "Epoch 67/100\n",
      "114/114 [==============================] - 186s 2s/step - loss: 0.0018 - accuracy: 0.9998 - val_loss: 0.0768 - val_accuracy: 0.9890\n",
      "Epoch 68/100\n",
      "114/114 [==============================] - 184s 2s/step - loss: 0.0029 - accuracy: 0.9997 - val_loss: 0.0613 - val_accuracy: 0.9890\n",
      "Epoch 69/100\n",
      "114/114 [==============================] - 186s 2s/step - loss: 0.0022 - accuracy: 0.9997 - val_loss: 0.0698 - val_accuracy: 0.9890\n",
      "Epoch 70/100\n",
      "114/114 [==============================] - 187s 2s/step - loss: 0.0069 - accuracy: 0.9965 - val_loss: 0.0978 - val_accuracy: 0.9890\n",
      "Epoch 71/100\n",
      "114/114 [==============================] - 188s 2s/step - loss: 0.0087 - accuracy: 0.9962 - val_loss: 0.0850 - val_accuracy: 0.9912\n",
      "Epoch 72/100\n",
      "114/114 [==============================] - 191s 2s/step - loss: 0.0036 - accuracy: 0.9987 - val_loss: 0.2294 - val_accuracy: 0.9516\n",
      "Epoch 73/100\n",
      "114/114 [==============================] - 190s 2s/step - loss: 0.0045 - accuracy: 0.9979 - val_loss: 0.1021 - val_accuracy: 0.9736\n",
      "Epoch 74/100\n",
      "114/114 [==============================] - 192s 2s/step - loss: 0.0035 - accuracy: 0.9985 - val_loss: 0.0778 - val_accuracy: 0.9846\n",
      "Epoch 75/100\n",
      "114/114 [==============================] - 186s 2s/step - loss: 0.0056 - accuracy: 0.9980 - val_loss: 0.0958 - val_accuracy: 0.9824\n",
      "Epoch 76/100\n",
      "114/114 [==============================] - 188s 2s/step - loss: 0.0091 - accuracy: 0.9966 - val_loss: 0.0781 - val_accuracy: 0.9912\n",
      "Epoch 77/100\n",
      "114/114 [==============================] - 188s 2s/step - loss: 0.0059 - accuracy: 0.9978 - val_loss: 0.1514 - val_accuracy: 0.9736\n",
      "Epoch 78/100\n",
      "114/114 [==============================] - 190s 2s/step - loss: 0.0103 - accuracy: 0.9965 - val_loss: 0.0888 - val_accuracy: 0.9912\n",
      "Epoch 79/100\n",
      "114/114 [==============================] - 188s 2s/step - loss: 0.0046 - accuracy: 0.9980 - val_loss: 0.0760 - val_accuracy: 0.9912\n",
      "Epoch 80/100\n",
      "114/114 [==============================] - 189s 2s/step - loss: 0.0024 - accuracy: 0.9989 - val_loss: 0.1132 - val_accuracy: 0.9868\n",
      "Epoch 81/100\n",
      "114/114 [==============================] - 191s 2s/step - loss: 0.0045 - accuracy: 0.9984 - val_loss: 0.0680 - val_accuracy: 0.9890\n",
      "Epoch 82/100\n",
      "114/114 [==============================] - 190s 2s/step - loss: 0.0016 - accuracy: 0.9993 - val_loss: 0.0883 - val_accuracy: 0.9890\n",
      "Epoch 83/100\n",
      "114/114 [==============================] - 192s 2s/step - loss: 0.0034 - accuracy: 0.9991 - val_loss: 0.0999 - val_accuracy: 0.9868\n",
      "Epoch 84/100\n",
      "114/114 [==============================] - 190s 2s/step - loss: 0.0013 - accuracy: 0.9998 - val_loss: 0.0788 - val_accuracy: 0.9824\n",
      "Epoch 85/100\n",
      "114/114 [==============================] - 190s 2s/step - loss: 0.0021 - accuracy: 0.9995 - val_loss: 0.0955 - val_accuracy: 0.9890\n",
      "Epoch 86/100\n",
      "114/114 [==============================] - 189s 2s/step - loss: 0.0019 - accuracy: 0.9994 - val_loss: 0.1495 - val_accuracy: 0.9692\n",
      "Epoch 87/100\n",
      "114/114 [==============================] - 187s 2s/step - loss: 0.0019 - accuracy: 0.9993 - val_loss: 0.0794 - val_accuracy: 0.9890\n",
      "Epoch 88/100\n",
      "114/114 [==============================] - 189s 2s/step - loss: 0.0011 - accuracy: 0.9996 - val_loss: 0.0859 - val_accuracy: 0.9912\n",
      "Epoch 89/100\n",
      "114/114 [==============================] - 189s 2s/step - loss: 0.0024 - accuracy: 0.9992 - val_loss: 0.1054 - val_accuracy: 0.9868\n",
      "Epoch 90/100\n",
      "114/114 [==============================] - 186s 2s/step - loss: 0.0031 - accuracy: 0.9991 - val_loss: 0.0848 - val_accuracy: 0.9912\n",
      "Epoch 91/100\n",
      "114/114 [==============================] - 189s 2s/step - loss: 0.0022 - accuracy: 0.9994 - val_loss: 0.0614 - val_accuracy: 0.9912\n",
      "Epoch 92/100\n",
      "114/114 [==============================] - 191s 2s/step - loss: 0.0017 - accuracy: 0.9996 - val_loss: 0.0948 - val_accuracy: 0.9912\n",
      "Epoch 93/100\n",
      "114/114 [==============================] - 182s 2s/step - loss: 0.0014 - accuracy: 0.9990 - val_loss: 0.0849 - val_accuracy: 0.9912\n",
      "Epoch 94/100\n",
      "114/114 [==============================] - 186s 2s/step - loss: 0.0022 - accuracy: 0.9989 - val_loss: 0.0939 - val_accuracy: 0.9890\n",
      "Epoch 95/100\n",
      "114/114 [==============================] - 187s 2s/step - loss: 0.0049 - accuracy: 0.9982 - val_loss: 0.0682 - val_accuracy: 0.9934\n",
      "Epoch 96/100\n",
      "114/114 [==============================] - 181s 2s/step - loss: 9.4562e-04 - accuracy: 0.9999 - val_loss: 0.0775 - val_accuracy: 0.9890\n",
      "Epoch 97/100\n",
      "114/114 [==============================] - 184s 2s/step - loss: 6.5771e-04 - accuracy: 0.9997 - val_loss: 0.0837 - val_accuracy: 0.9890\n",
      "Epoch 98/100\n",
      "114/114 [==============================] - 184s 2s/step - loss: 2.9253e-04 - accuracy: 1.0000 - val_loss: 0.0844 - val_accuracy: 0.9912\n",
      "Epoch 99/100\n",
      "114/114 [==============================] - 180s 2s/step - loss: 8.1707e-04 - accuracy: 0.9997 - val_loss: 0.1010 - val_accuracy: 0.9912\n",
      "Epoch 100/100\n",
      "114/114 [==============================] - 183s 2s/step - loss: 0.0023 - accuracy: 0.9992 - val_loss: 0.1025 - val_accuracy: 0.9868\n"
     ]
    }
   ],
   "source": [
    "history = model.fit_generator(\n",
    "  training_set,\n",
    "  validation_data=val_set,\n",
    "  epochs=100,\n",
    "  steps_per_epoch=len(training_set),\n",
    "  validation_steps=len(val_set)\n",
    ")"
   ]
  },
  {
   "cell_type": "markdown",
   "id": "eb365499",
   "metadata": {
    "id": "f40ddf14",
    "papermill": {
     "duration": 4.283426,
     "end_time": "2021-09-05T19:34:51.662652",
     "exception": false,
     "start_time": "2021-09-05T19:34:47.379226",
     "status": "completed"
    },
    "tags": []
   },
   "source": [
    "## Testing"
   ]
  },
  {
   "cell_type": "code",
   "execution_count": 9,
   "id": "9b2c5dde",
   "metadata": {
    "execution": {
     "iopub.execute_input": "2021-09-05T19:35:00.740907Z",
     "iopub.status.busy": "2021-09-05T19:35:00.740251Z",
     "iopub.status.idle": "2021-09-05T19:35:43.649989Z",
     "shell.execute_reply": "2021-09-05T19:35:43.649311Z",
     "shell.execute_reply.started": "2021-09-03T14:07:11.129277Z"
    },
    "id": "0b6bb6aa",
    "papermill": {
     "duration": 47.319687,
     "end_time": "2021-09-05T19:35:43.650161",
     "exception": false,
     "start_time": "2021-09-05T19:34:56.330474",
     "status": "completed"
    },
    "tags": []
   },
   "outputs": [
    {
     "name": "stdout",
     "output_type": "stream",
     "text": [
      "Evaluating on test data ....\n",
      "15/15 [==============================] - 39s 3s/step - loss: 0.0337 - accuracy: 0.9890\n",
      "test loss, test acc: [0.03373200073838234, 0.9890109896659851]\n"
     ]
    }
   ],
   "source": [
    "print(\"Evaluating on test data ....\")\n",
    "results = model.evaluate(test_set, batch_size=32)\n",
    "print(\"test loss, test acc:\", results)"
   ]
  },
  {
   "cell_type": "markdown",
   "id": "dd7ffeeb",
   "metadata": {
    "id": "366b8eb1",
    "papermill": {
     "duration": 3.972257,
     "end_time": "2021-09-05T19:35:51.648084",
     "exception": false,
     "start_time": "2021-09-05T19:35:47.675827",
     "status": "completed"
    },
    "tags": []
   },
   "source": [
    "## Plotting "
   ]
  },
  {
   "cell_type": "code",
   "execution_count": 10,
   "id": "d8ce4cb3",
   "metadata": {
    "execution": {
     "iopub.execute_input": "2021-09-05T19:36:00.553160Z",
     "iopub.status.busy": "2021-09-05T19:36:00.552128Z",
     "iopub.status.idle": "2021-09-05T19:36:00.570481Z",
     "shell.execute_reply": "2021-09-05T19:36:00.571684Z",
     "shell.execute_reply.started": "2021-09-03T14:07:34.626995Z"
    },
    "id": "71e55669",
    "papermill": {
     "duration": 4.572701,
     "end_time": "2021-09-05T19:36:00.572013",
     "exception": false,
     "start_time": "2021-09-05T19:35:55.999312",
     "status": "completed"
    },
    "tags": []
   },
   "outputs": [
    {
     "data": {
      "text/plain": [
       "{'loss': [0.641840398311615,\n",
       "  0.17346422374248505,\n",
       "  0.11559242010116577,\n",
       "  0.09245242178440094,\n",
       "  0.0780797153711319,\n",
       "  0.05962790548801422,\n",
       "  0.07027120888233185,\n",
       "  0.06828635931015015,\n",
       "  0.059056464582681656,\n",
       "  0.04766298830509186,\n",
       "  0.045402608811855316,\n",
       "  0.03798486664891243,\n",
       "  0.04155910015106201,\n",
       "  0.03947208449244499,\n",
       "  0.03627992048859596,\n",
       "  0.03447725996375084,\n",
       "  0.031206073239445686,\n",
       "  0.03081667050719261,\n",
       "  0.028324449434876442,\n",
       "  0.025092054158449173,\n",
       "  0.02440464496612549,\n",
       "  0.025257665663957596,\n",
       "  0.021894440054893494,\n",
       "  0.016818687319755554,\n",
       "  0.017722435295581818,\n",
       "  0.02083628624677658,\n",
       "  0.020879391580820084,\n",
       "  0.01802276074886322,\n",
       "  0.01978851482272148,\n",
       "  0.015431187115609646,\n",
       "  0.016982918605208397,\n",
       "  0.020707350224256516,\n",
       "  0.018239891156554222,\n",
       "  0.015585183165967464,\n",
       "  0.016813049092888832,\n",
       "  0.017820226028561592,\n",
       "  0.013906598091125488,\n",
       "  0.014752140268683434,\n",
       "  0.01329086720943451,\n",
       "  0.01693686470389366,\n",
       "  0.011555035598576069,\n",
       "  0.006395814474672079,\n",
       "  0.00861460343003273,\n",
       "  0.008221366442739964,\n",
       "  0.006656238809227943,\n",
       "  0.008406078442931175,\n",
       "  0.011108978651463985,\n",
       "  0.00924254022538662,\n",
       "  0.01088775135576725,\n",
       "  0.013591383583843708,\n",
       "  0.008776405826210976,\n",
       "  0.010059514082968235,\n",
       "  0.008917238563299179,\n",
       "  0.008877540938556194,\n",
       "  0.009158443659543991,\n",
       "  0.006446973420679569,\n",
       "  0.007545027416199446,\n",
       "  0.004508296959102154,\n",
       "  0.0072727808728814125,\n",
       "  0.005828174762427807,\n",
       "  0.004991638939827681,\n",
       "  0.0029849139973521233,\n",
       "  0.004138253629207611,\n",
       "  0.007951264269649982,\n",
       "  0.008821035735309124,\n",
       "  0.002328940201550722,\n",
       "  0.0030396170914173126,\n",
       "  0.002478458685800433,\n",
       "  0.0034886253997683525,\n",
       "  0.008274138905107975,\n",
       "  0.0077829607762396336,\n",
       "  0.004813297186046839,\n",
       "  0.004050855524837971,\n",
       "  0.0030839124228805304,\n",
       "  0.00626398716121912,\n",
       "  0.005669044330716133,\n",
       "  0.007967947982251644,\n",
       "  0.011868086643517017,\n",
       "  0.0034149910788983107,\n",
       "  0.0051696146838366985,\n",
       "  0.008247139863669872,\n",
       "  0.002290042582899332,\n",
       "  0.0037124084774404764,\n",
       "  0.0035412677098065615,\n",
       "  0.0019693728536367416,\n",
       "  0.00332135078497231,\n",
       "  0.003723791567608714,\n",
       "  0.000992304878309369,\n",
       "  0.003956586122512817,\n",
       "  0.0020165557507425547,\n",
       "  0.003055616980418563,\n",
       "  0.0015451371436938643,\n",
       "  0.001504112035036087,\n",
       "  0.0027819338720291853,\n",
       "  0.00482818391174078,\n",
       "  0.0011728656245395541,\n",
       "  0.001433587516658008,\n",
       "  0.0002674065181054175,\n",
       "  0.0009556978475302458,\n",
       "  0.003816521493718028],\n",
       " 'accuracy': [0.9154078364372253,\n",
       "  0.9574292898178101,\n",
       "  0.9711617827415466,\n",
       "  0.9717110395431519,\n",
       "  0.9758307933807373,\n",
       "  0.9807745218276978,\n",
       "  0.9794012904167175,\n",
       "  0.9780279994010925,\n",
       "  0.9810491800308228,\n",
       "  0.9835209846496582,\n",
       "  0.9846196174621582,\n",
       "  0.9895632863044739,\n",
       "  0.9859928488731384,\n",
       "  0.9865421652793884,\n",
       "  0.9884647130966187,\n",
       "  0.9892886281013489,\n",
       "  0.9923098087310791,\n",
       "  0.9895632863044739,\n",
       "  0.9923098087310791,\n",
       "  0.9925844669342041,\n",
       "  0.9920351505279541,\n",
       "  0.9925844669342041,\n",
       "  0.9920351505279541,\n",
       "  0.9939576983451843,\n",
       "  0.9931337833404541,\n",
       "  0.9956055879592896,\n",
       "  0.9939576983451843,\n",
       "  0.9936830401420593,\n",
       "  0.9939576983451843,\n",
       "  0.9947816729545593,\n",
       "  0.9931337833404541,\n",
       "  0.9939576983451843,\n",
       "  0.9923098087310791,\n",
       "  0.9945070147514343,\n",
       "  0.9950563311576843,\n",
       "  0.9947816729545593,\n",
       "  0.9958802461624146,\n",
       "  0.9956055879592896,\n",
       "  0.9947816729545593,\n",
       "  0.9928591251373291,\n",
       "  0.9945070147514343,\n",
       "  0.9983521103858948,\n",
       "  0.9972534775733948,\n",
       "  0.9972534775733948,\n",
       "  0.9967042207717896,\n",
       "  0.9961549043655396,\n",
       "  0.9967042207717896,\n",
       "  0.9967042207717896,\n",
       "  0.9964295625686646,\n",
       "  0.9961549043655396,\n",
       "  0.9978027939796448,\n",
       "  0.9969788789749146,\n",
       "  0.9972534775733948,\n",
       "  0.9958802461624146,\n",
       "  0.9967042207717896,\n",
       "  0.9969788789749146,\n",
       "  0.9980774521827698,\n",
       "  0.9983521103858948,\n",
       "  0.9961549043655396,\n",
       "  0.9980774521827698,\n",
       "  0.9980774521827698,\n",
       "  0.9989014267921448,\n",
       "  0.9980774521827698,\n",
       "  0.9978027939796448,\n",
       "  0.9972534775733948,\n",
       "  0.99945068359375,\n",
       "  0.999176025390625,\n",
       "  0.99945068359375,\n",
       "  0.999176025390625,\n",
       "  0.9953309297561646,\n",
       "  0.9969788789749146,\n",
       "  0.9978027939796448,\n",
       "  0.9983521103858948,\n",
       "  0.999176025390625,\n",
       "  0.9978027939796448,\n",
       "  0.9978027939796448,\n",
       "  0.9964295625686646,\n",
       "  0.9964295625686646,\n",
       "  0.9986267685890198,\n",
       "  0.9975281357765198,\n",
       "  0.9964295625686646,\n",
       "  0.9989014267921448,\n",
       "  0.999176025390625,\n",
       "  0.999176025390625,\n",
       "  0.999176025390625,\n",
       "  0.9986267685890198,\n",
       "  0.9986267685890198,\n",
       "  0.999725341796875,\n",
       "  0.9986267685890198,\n",
       "  0.99945068359375,\n",
       "  0.9989014267921448,\n",
       "  0.999725341796875,\n",
       "  0.999176025390625,\n",
       "  0.9983521103858948,\n",
       "  0.9978027939796448,\n",
       "  0.999725341796875,\n",
       "  0.999176025390625,\n",
       "  1.0,\n",
       "  0.999725341796875,\n",
       "  0.9980774521827698],\n",
       " 'val_loss': [0.7979760766029358,\n",
       "  0.14916343986988068,\n",
       "  0.11199665069580078,\n",
       "  0.07933392375707626,\n",
       "  0.16930612921714783,\n",
       "  0.8180897235870361,\n",
       "  0.03530079871416092,\n",
       "  0.06787902861833572,\n",
       "  0.05553898960351944,\n",
       "  0.04359991103410721,\n",
       "  0.05319904536008835,\n",
       "  0.16579222679138184,\n",
       "  0.04720979183912277,\n",
       "  0.2562389075756073,\n",
       "  0.13673731684684753,\n",
       "  0.04886994510889053,\n",
       "  0.061332132667303085,\n",
       "  0.13296876847743988,\n",
       "  0.059304263442754745,\n",
       "  0.030309157446026802,\n",
       "  0.19211722910404205,\n",
       "  0.07119278609752655,\n",
       "  0.06362195312976837,\n",
       "  0.049086350947618484,\n",
       "  0.07884068787097931,\n",
       "  0.05279046297073364,\n",
       "  0.05786251276731491,\n",
       "  0.06959900259971619,\n",
       "  0.0724814310669899,\n",
       "  0.058988358825445175,\n",
       "  0.06301143020391464,\n",
       "  0.10275562852621078,\n",
       "  0.06571092456579208,\n",
       "  0.17847511172294617,\n",
       "  0.059104785323143005,\n",
       "  0.08080389350652695,\n",
       "  0.0860796868801117,\n",
       "  0.040821317583322525,\n",
       "  0.036212507635354996,\n",
       "  0.06582318246364594,\n",
       "  0.05933747813105583,\n",
       "  0.08561404794454575,\n",
       "  0.06192857772111893,\n",
       "  0.06901678442955017,\n",
       "  0.0748271644115448,\n",
       "  0.058438707143068314,\n",
       "  0.05190689489245415,\n",
       "  0.052587635815143585,\n",
       "  0.06290072202682495,\n",
       "  0.17733149230480194,\n",
       "  0.03918467462062836,\n",
       "  0.07694096863269806,\n",
       "  0.06008521839976311,\n",
       "  0.04717046394944191,\n",
       "  0.05545191839337349,\n",
       "  0.069858618080616,\n",
       "  0.0564865842461586,\n",
       "  0.05626588314771652,\n",
       "  0.05601271986961365,\n",
       "  0.040729641914367676,\n",
       "  0.05095618590712547,\n",
       "  0.07143223285675049,\n",
       "  0.12406719475984573,\n",
       "  0.054485294967889786,\n",
       "  0.06176327168941498,\n",
       "  0.05214051902294159,\n",
       "  0.0767885223031044,\n",
       "  0.061277370899915695,\n",
       "  0.0698181688785553,\n",
       "  0.09781349450349808,\n",
       "  0.0850338563323021,\n",
       "  0.22936390340328217,\n",
       "  0.102146677672863,\n",
       "  0.07784445583820343,\n",
       "  0.0957716628909111,\n",
       "  0.07812424004077911,\n",
       "  0.15135878324508667,\n",
       "  0.0887543335556984,\n",
       "  0.07596627622842789,\n",
       "  0.11315538734197617,\n",
       "  0.0679788663983345,\n",
       "  0.08826326578855515,\n",
       "  0.0998593121767044,\n",
       "  0.07880880683660507,\n",
       "  0.09547821432352066,\n",
       "  0.1494772583246231,\n",
       "  0.07936304062604904,\n",
       "  0.0858500748872757,\n",
       "  0.10539638251066208,\n",
       "  0.08476188778877258,\n",
       "  0.06139606609940529,\n",
       "  0.09480872005224228,\n",
       "  0.0848836824297905,\n",
       "  0.09388850629329681,\n",
       "  0.06823648512363434,\n",
       "  0.07745270431041718,\n",
       "  0.08374141156673431,\n",
       "  0.0844220370054245,\n",
       "  0.10104208439588547,\n",
       "  0.10251771658658981],\n",
       " 'val_accuracy': [0.4593406617641449,\n",
       "  0.9428571462631226,\n",
       "  0.9648351669311523,\n",
       "  0.9758241772651672,\n",
       "  0.9362637400627136,\n",
       "  0.687912106513977,\n",
       "  0.9912087917327881,\n",
       "  0.9802197813987732,\n",
       "  0.9824175834655762,\n",
       "  0.9780219793319702,\n",
       "  0.9868131875991821,\n",
       "  0.9494505524635315,\n",
       "  0.9846153855323792,\n",
       "  0.9230769276618958,\n",
       "  0.9538461565971375,\n",
       "  0.9846153855323792,\n",
       "  0.9736263751983643,\n",
       "  0.9516483545303345,\n",
       "  0.9846153855323792,\n",
       "  0.9890109896659851,\n",
       "  0.9428571462631226,\n",
       "  0.9802197813987732,\n",
       "  0.9802197813987732,\n",
       "  0.9890109896659851,\n",
       "  0.9802197813987732,\n",
       "  0.9846153855323792,\n",
       "  0.9802197813987732,\n",
       "  0.9824175834655762,\n",
       "  0.9868131875991821,\n",
       "  0.9868131875991821,\n",
       "  0.9868131875991821,\n",
       "  0.9670329689979553,\n",
       "  0.9802197813987732,\n",
       "  0.9494505524635315,\n",
       "  0.9890109896659851,\n",
       "  0.9802197813987732,\n",
       "  0.9890109896659851,\n",
       "  0.9890109896659851,\n",
       "  0.9846153855323792,\n",
       "  0.9890109896659851,\n",
       "  0.9890109896659851,\n",
       "  0.9890109896659851,\n",
       "  0.9912087917327881,\n",
       "  0.9890109896659851,\n",
       "  0.9824175834655762,\n",
       "  0.9890109896659851,\n",
       "  0.9890109896659851,\n",
       "  0.9890109896659851,\n",
       "  0.9868131875991821,\n",
       "  0.9560439586639404,\n",
       "  0.9890109896659851,\n",
       "  0.9912087917327881,\n",
       "  0.9890109896659851,\n",
       "  0.9912087917327881,\n",
       "  0.9890109896659851,\n",
       "  0.9890109896659851,\n",
       "  0.9912087917327881,\n",
       "  0.9912087917327881,\n",
       "  0.9890109896659851,\n",
       "  0.9868131875991821,\n",
       "  0.9912087917327881,\n",
       "  0.9868131875991821,\n",
       "  0.9802197813987732,\n",
       "  0.9890109896659851,\n",
       "  0.9912087917327881,\n",
       "  0.9890109896659851,\n",
       "  0.9890109896659851,\n",
       "  0.9890109896659851,\n",
       "  0.9890109896659851,\n",
       "  0.9890109896659851,\n",
       "  0.9912087917327881,\n",
       "  0.9516483545303345,\n",
       "  0.9736263751983643,\n",
       "  0.9846153855323792,\n",
       "  0.9824175834655762,\n",
       "  0.9912087917327881,\n",
       "  0.9736263751983643,\n",
       "  0.9912087917327881,\n",
       "  0.9912087917327881,\n",
       "  0.9868131875991821,\n",
       "  0.9890109896659851,\n",
       "  0.9890109896659851,\n",
       "  0.9868131875991821,\n",
       "  0.9824175834655762,\n",
       "  0.9890109896659851,\n",
       "  0.9692307710647583,\n",
       "  0.9890109896659851,\n",
       "  0.9912087917327881,\n",
       "  0.9868131875991821,\n",
       "  0.9912087917327881,\n",
       "  0.9912087917327881,\n",
       "  0.9912087917327881,\n",
       "  0.9912087917327881,\n",
       "  0.9890109896659851,\n",
       "  0.9934065937995911,\n",
       "  0.9890109896659851,\n",
       "  0.9890109896659851,\n",
       "  0.9912087917327881,\n",
       "  0.9912087917327881,\n",
       "  0.9868131875991821]}"
      ]
     },
     "execution_count": 10,
     "metadata": {},
     "output_type": "execute_result"
    }
   ],
   "source": [
    "history.history"
   ]
  },
  {
   "cell_type": "markdown",
   "id": "4e4ef5fa",
   "metadata": {
    "id": "d6738aa2",
    "papermill": {
     "duration": 4.313505,
     "end_time": "2021-09-05T19:36:08.984665",
     "exception": false,
     "start_time": "2021-09-05T19:36:04.671160",
     "status": "completed"
    },
    "tags": []
   },
   "source": [
    "### Accuracy vs Epochs"
   ]
  },
  {
   "cell_type": "code",
   "execution_count": 11,
   "id": "713dedfc",
   "metadata": {
    "execution": {
     "iopub.execute_input": "2021-09-05T19:36:17.339167Z",
     "iopub.status.busy": "2021-09-05T19:36:17.338035Z",
     "iopub.status.idle": "2021-09-05T19:36:17.522555Z",
     "shell.execute_reply": "2021-09-05T19:36:17.523107Z",
     "shell.execute_reply.started": "2021-09-03T14:07:34.646009Z"
    },
    "id": "10220a76",
    "papermill": {
     "duration": 4.51281,
     "end_time": "2021-09-05T19:36:17.523293",
     "exception": false,
     "start_time": "2021-09-05T19:36:13.010483",
     "status": "completed"
    },
    "tags": []
   },
   "outputs": [
    {
     "data": {
      "image/png": "[encoded data removed]",
      "text/plain": [
       "<Figure size 432x288 with 1 Axes>"
      ]
     },
     "metadata": {
      "needs_background": "light"
     },
     "output_type": "display_data"
    }
   ],
   "source": [
    "plt.plot(history.history['accuracy'])\n",
    "plt.plot(history.history['val_accuracy'])\n",
    "plt.title('model accuracy')\n",
    "plt.ylabel('accuracy')\n",
    "plt.xlabel('epoch')\n",
    "plt.legend(['train', 'test'], loc='upper left')\n",
    "plt.show()\n"
   ]
  },
  {
   "cell_type": "markdown",
   "id": "7192d3e0",
   "metadata": {
    "id": "26f0e568",
    "papermill": {
     "duration": 4.050948,
     "end_time": "2021-09-05T19:36:25.535360",
     "exception": false,
     "start_time": "2021-09-05T19:36:21.484412",
     "status": "completed"
    },
    "tags": []
   },
   "source": [
    "### Loss vs Epochs"
   ]
  },
  {
   "cell_type": "code",
   "execution_count": 12,
   "id": "5aec47bd",
   "metadata": {
    "execution": {
     "iopub.execute_input": "2021-09-05T19:36:34.608155Z",
     "iopub.status.busy": "2021-09-05T19:36:34.558451Z",
     "iopub.status.idle": "2021-09-05T19:36:34.745500Z",
     "shell.execute_reply": "2021-09-05T19:36:34.746475Z",
     "shell.execute_reply.started": "2021-09-03T14:07:34.831244Z"
    },
    "id": "2d3161ab",
    "outputId": "dd6790f4-4205-4cbf-97f6-f324b70a1ba4",
    "papermill": {
     "duration": 4.930253,
     "end_time": "2021-09-05T19:36:34.746690",
     "exception": false,
     "start_time": "2021-09-05T19:36:29.816437",
     "status": "completed"
    },
    "tags": []
   },
   "outputs": [
    {
     "data": {
      "image/png": "[encoded data removed]",
      "text/plain": [
       "<Figure size 432x288 with 1 Axes>"
      ]
     },
     "metadata": {
      "needs_background": "light"
     },
     "output_type": "display_data"
    }
   ],
   "source": [
    "plt.plot(history.history['loss'])\n",
    "plt.plot(history.history['val_loss'])\n",
    "plt.title('model loss')\n",
    "plt.ylabel('loss')\n",
    "plt.xlabel('epoch')\n",
    "plt.legend(['train', 'test'], loc='upper left')\n",
    "plt.show()"
   ]
  }
 ],
 "metadata": {
  "kernelspec": {
   "display_name": "Python 3",
   "language": "python",
   "name": "python3"
  },
  "language_info": {
   "codemirror_mode": {
    "name": "ipython",
    "version": 3
   },
   "file_extension": ".py",
   "mimetype": "text/x-python",
   "name": "python",
   "nbconvert_exporter": "python",
   "pygments_lexer": "ipython3",
   "version": "3.8.10"
  },
  "papermill": {
   "default_parameters": {},
   "duration": 18625.577666,
   "end_time": "2021-09-05T19:36:41.921740",
   "environment_variables": {},
   "exception": null,
   "input_path": "__notebook__.ipynb",
   "output_path": "__notebook__.ipynb",
   "parameters": {},
   "start_time": "2021-09-05T14:26:16.344074",
   "version": "2.3.3"
  }
 },
 "nbformat": 4,
 "nbformat_minor": 5
}
