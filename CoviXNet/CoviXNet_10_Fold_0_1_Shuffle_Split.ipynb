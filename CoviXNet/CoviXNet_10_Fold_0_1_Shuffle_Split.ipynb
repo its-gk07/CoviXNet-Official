{
 "cells": [
  {
   "cell_type": "code",
   "execution_count": 1,
   "id": "8715e15a",
   "metadata": {
    "id": "8715e15a"
   },
   "outputs": [],
   "source": [
    "import os\n",
    "import cv2\n",
    "from PIL import Image\n",
    "import numpy as np\n",
    "import tensorflow as tf\n",
    "from tensorflow import keras\n",
    "from keras.models import Sequential\n",
    "from keras.layers import Conv2D\n",
    "from keras.layers import MaxPooling2D\n",
    "from keras.layers import Activation\n",
    "from keras.layers import Dropout\n",
    "from keras.layers import Flatten\n",
    "from keras.layers import Dense\n",
    "from sklearn.model_selection import train_test_split\n",
    "import matplotlib.pyplot as plt\n",
    "%matplotlib inline \n",
    "import seaborn as sns\n",
    "sns.set()\n",
    "from tqdm import tqdm\n",
    "from sklearn.metrics import confusion_matrix"
   ]
  },
  {
   "cell_type": "code",
   "execution_count": 2,
   "id": "qSsDivlms2xY",
   "metadata": {
    "colab": {
     "base_uri": "https://localhost:8080/"
    },
    "id": "qSsDivlms2xY",
    "outputId": "625de692-87ce-45e9-951d-47a063ba5e61"
   },
   "outputs": [
    {
     "name": "stdout",
     "output_type": "stream",
     "text": [
      "--2021-09-26 15:23:07--  https://md-datasets-cache-zipfiles-prod.s3.eu-west-1.amazonaws.com/9xkhgts2s6-1.zip\n",
      "Resolving md-datasets-cache-zipfiles-prod.s3.eu-west-1.amazonaws.com (md-datasets-cache-zipfiles-prod.s3.eu-west-1.amazonaws.com)... 52.218.98.32\n",
      "Connecting to md-datasets-cache-zipfiles-prod.s3.eu-west-1.amazonaws.com (md-datasets-cache-zipfiles-prod.s3.eu-west-1.amazonaws.com)|52.218.98.32|:443... connected.\n",
      "HTTP request sent, awaiting response... 200 OK\n",
      "Length: 3745528792 (3.5G) [application/octet-stream]\n",
      "Saving to: ‘9xkhgts2s6-1.zip’\n",
      "\n",
      "9xkhgts2s6-1.zip    100%[===================>]   3.49G  27.8MB/s    in 2m 11s  \n",
      "\n",
      "2021-09-26 15:25:19 (27.2 MB/s) - ‘9xkhgts2s6-1.zip’ saved [3745528792/3745528792]\n",
      "\n"
     ]
    }
   ],
   "source": [
    "!wget https://md-datasets-cache-zipfiles-prod.s3.eu-west-1.amazonaws.com/9xkhgts2s6-1.zip"
   ]
  },
  {
   "cell_type": "code",
   "execution_count": 3,
   "id": "s9KeYQJDs_vG",
   "metadata": {
    "id": "s9KeYQJDs_vG"
   },
   "outputs": [],
   "source": [
    "%%capture\n",
    "!unzip 9xkhgts2s6-1.zip"
   ]
  },
  {
   "cell_type": "code",
   "execution_count": 4,
   "id": "3t_giQietAOB",
   "metadata": {
    "id": "3t_giQietAOB"
   },
   "outputs": [],
   "source": [
    "!mkdir Dataset"
   ]
  },
  {
   "cell_type": "code",
   "execution_count": 18,
   "id": "d8e08bd3",
   "metadata": {
    "id": "d8e08bd3"
   },
   "outputs": [],
   "source": [
    "image_directory='Dataset/'\n",
    "\n",
    "no_covid_images=os.listdir(image_directory+ 'Normal/')\n",
    "yes_covid_images=os.listdir(image_directory+ 'COVID-19/')\n",
    "\n",
    "dataset=[]\n",
    "label=[]\n",
    "\n",
    "INPUT_SIZE=64"
   ]
  },
  {
   "cell_type": "code",
   "execution_count": 19,
   "id": "bc5877dd",
   "metadata": {
    "colab": {
     "base_uri": "https://localhost:8080/"
    },
    "id": "bc5877dd",
    "outputId": "86231459-5633-409b-8efe-3252fd19dee3"
   },
   "outputs": [
    {
     "name": "stderr",
     "output_type": "stream",
     "text": [
      "3270it [02:11, 24.96it/s]\n",
      "1281it [00:59, 21.41it/s]\n"
     ]
    }
   ],
   "source": [
    "for i , image_name in tqdm(enumerate(no_covid_images)):\n",
    "    if(image_name.split('.')[1]=='jpg'):\n",
    "        image=cv2.imread(image_directory+'Normal/'+image_name)\n",
    "        image=Image.fromarray(image,'RGB')\n",
    "        image=image.resize((INPUT_SIZE,INPUT_SIZE))\n",
    "        dataset.append(np.array(image))\n",
    "        label.append(0)\n",
    "\n",
    "for i , image_name in tqdm(enumerate(yes_covid_images)):\n",
    "    if(image_name.split('.')[1]=='jpg'):\n",
    "        image=cv2.imread(image_directory+'COVID-19/'+image_name)\n",
    "        image=Image.fromarray(image, 'RGB')\n",
    "        image=image.resize((INPUT_SIZE,INPUT_SIZE))\n",
    "        dataset.append(np.array(image))\n",
    "        label.append(1)"
   ]
  },
  {
   "cell_type": "code",
   "execution_count": 20,
   "id": "8e8c6a11",
   "metadata": {
    "id": "8e8c6a11"
   },
   "outputs": [],
   "source": [
    "dataset=np.array(dataset)\n",
    "label=np.array(label)"
   ]
  },
  {
   "cell_type": "code",
   "execution_count": 23,
   "id": "7344a850",
   "metadata": {
    "colab": {
     "base_uri": "https://localhost:8080/"
    },
    "id": "7344a850",
    "outputId": "51bc499a-2e8e-4459-ffb2-31f759817f7b"
   },
   "outputs": [
    {
     "name": "stdout",
     "output_type": "stream",
     "text": [
      "Fold  1  :\n",
      " Evaluating ..... \n",
      "15/15 [==============================] - 0s 5ms/step - loss: 0.0276 - accuracy: 0.9912\n",
      "accuracy: 99.12%\n",
      "\n",
      "\n",
      "\n",
      "Fold  2  :\n",
      " Evaluating ..... \n",
      "15/15 [==============================] - 0s 5ms/step - loss: 0.0034 - accuracy: 0.9978\n",
      "accuracy: 99.78%\n",
      "\n",
      "\n",
      "\n",
      "Fold  3  :\n",
      " Evaluating ..... \n",
      "15/15 [==============================] - 0s 6ms/step - loss: 0.0753 - accuracy: 0.9934\n",
      "accuracy: 99.34%\n",
      "\n",
      "\n",
      "\n",
      "Fold  4  :\n",
      " Evaluating ..... \n",
      "15/15 [==============================] - 0s 5ms/step - loss: 1.3723e-04 - accuracy: 1.0000\n",
      "accuracy: 100.00%\n",
      "\n",
      "\n",
      "\n",
      "Fold  5  :\n",
      " Evaluating ..... \n",
      "15/15 [==============================] - 0s 5ms/step - loss: 0.0774 - accuracy: 0.9912\n",
      "accuracy: 99.12%\n",
      "\n",
      "\n",
      "\n",
      "Fold  6  :\n",
      " Evaluating ..... \n",
      "15/15 [==============================] - 0s 6ms/step - loss: 0.1111 - accuracy: 0.9890\n",
      "accuracy: 98.90%\n",
      "\n",
      "\n",
      "\n",
      "Fold  7  :\n",
      " Evaluating ..... \n",
      "15/15 [==============================] - 0s 6ms/step - loss: 0.0301 - accuracy: 0.9956\n",
      "accuracy: 99.56%\n",
      "\n",
      "\n",
      "\n",
      "Fold  8  :\n",
      " Evaluating ..... \n",
      "15/15 [==============================] - 0s 5ms/step - loss: 0.0021 - accuracy: 1.0000\n",
      "accuracy: 100.00%\n",
      "\n",
      "\n",
      "\n",
      "Fold  9  :\n",
      " Evaluating ..... \n",
      "15/15 [==============================] - 0s 6ms/step - loss: 0.0639 - accuracy: 0.9956\n",
      "accuracy: 99.56%\n",
      "\n",
      "\n",
      "\n",
      "Fold  10  :\n",
      " Evaluating ..... \n",
      "15/15 [==============================] - 0s 6ms/step - loss: 0.0343 - accuracy: 0.9934\n",
      "accuracy: 99.34%\n",
      "\n",
      "\n",
      "\n",
      "99.47% (+/- 0.36%)\n"
     ]
    }
   ],
   "source": [
    "seed = 7\n",
    "cvscores = []\n",
    "\n",
    "\n",
    "for i in range(1,11):\n",
    "\n",
    "\n",
    "  x_train, x_test, y_train, y_test=train_test_split(dataset, label, test_size=0.1, shuffle=True)\n",
    "\n",
    "  x_train=tf.keras.utils.normalize(x_train, axis=1)\n",
    "  x_test=tf.keras.utils.normalize(x_test, axis=1)\n",
    "\n",
    "  y_train=tf.keras.utils.to_categorical(y_train , num_classes=2)\n",
    "  y_test=tf.keras.utils.to_categorical(y_test , num_classes=2)\n",
    "  \n",
    "  # create model\n",
    "  model=Sequential()\n",
    "\n",
    "  model.add(Conv2D(32, (3,3), input_shape=(INPUT_SIZE, INPUT_SIZE, 3)))\n",
    "  model.add(Activation('relu'))\n",
    "  model.add(MaxPooling2D(pool_size=(2,2)))\n",
    "\n",
    "  model.add(Conv2D(32, (3,3), kernel_initializer='he_uniform'))\n",
    "  model.add(Activation('relu'))\n",
    "  model.add(MaxPooling2D(pool_size=(2,2)))\n",
    "\n",
    "\n",
    "  model.add(Conv2D(64, (3,3), kernel_initializer='he_uniform'))\n",
    "  model.add(Activation('relu'))\n",
    "  model.add(MaxPooling2D(pool_size=(2,2)))\n",
    "\n",
    "  model.add(Flatten())\n",
    "  model.add(Dense(64))\n",
    "  model.add(Activation('relu'))\n",
    "  model.add(Dropout(0.5))\n",
    "  model.add(Dense(2))\n",
    "  model.add(Activation('softmax'))\n",
    "  \n",
    "  \n",
    "  # Compile model\n",
    "  model.compile(loss='categorical_crossentropy',optimizer='adam', metrics=['accuracy'])\n",
    "  \n",
    "  print(\"Fold \",i,\" :\")\n",
    "  # Fit the model\n",
    "  model.fit(x_train, y_train, batch_size=32, verbose=0, epochs=100, validation_data=(x_test, y_test), shuffle=False)\n",
    "  \n",
    "  print(\" Evaluating ..... \")\n",
    "  # evaluate the model\n",
    "  scores = model.evaluate(x_test, y_test, batch_size=32)\n",
    "  \n",
    "  # final Scores\n",
    "  print(\"%s: %.2f%%\" % (model.metrics_names[1], scores[1]*100))\n",
    "  cvscores.append(scores[1] * 100)\n",
    "  print(\"\\n\\n\")\n",
    "\n",
    "\n",
    "print(\"%.2f%% (+/- %.2f%%)\" % (np.mean(cvscores), np.std(cvscores)))"
   ]
  },
  {
   "cell_type": "code",
   "execution_count": 24,
   "id": "2e848204",
   "metadata": {
    "colab": {
     "base_uri": "https://localhost:8080/"
    },
    "id": "2e848204",
    "outputId": "3d8de51a-a2d2-4170-b3af-b1ffda8f9321"
   },
   "outputs": [
    {
     "name": "stdout",
     "output_type": "stream",
     "text": [
      "[99.12280440330505, 99.78070259094238, 99.34210777282715, 100.0, 99.12280440330505, 98.90350699424744, 99.56140518188477, 100.0, 99.56140518188477, 99.34210777282715]\n"
     ]
    }
   ],
   "source": [
    "print(cvscores)"
   ]
  },
  {
   "cell_type": "code",
   "execution_count": null,
   "id": "8xPmpGfawhOh",
   "metadata": {
    "id": "8xPmpGfawhOh"
   },
   "outputs": [],
   "source": []
  }
 ],
 "metadata": {
  "accelerator": "GPU",
  "colab": {
   "collapsed_sections": [],
   "name": "CoviNet_10_Fold_0.1_Shuffle_Split.ipynb",
   "provenance": []
  },
  "kernelspec": {
   "display_name": "Python 3 (ipykernel)",
   "language": "python",
   "name": "python3"
  },
  "language_info": {
   "codemirror_mode": {
    "name": "ipython",
    "version": 3
   },
   "file_extension": ".py",
   "mimetype": "text/x-python",
   "name": "python",
   "nbconvert_exporter": "python",
   "pygments_lexer": "ipython3",
   "version": "3.8.11"
  }
 },
 "nbformat": 4,
 "nbformat_minor": 5
}
